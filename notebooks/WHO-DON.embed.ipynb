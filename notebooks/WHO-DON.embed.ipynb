{
  "cells": [
    {
      "cell_type": "markdown",
      "metadata": {},
      "source": [
        "# \n",
        "\n",
        "# Scraping data from WHO-DON\n",
        "\n",
        "## Load necessary packages"
      ],
      "id": "0d295387-6f63-4126-88e4-78889ca9eaa6"
    },
    {
      "cell_type": "code",
      "execution_count": null,
      "metadata": {},
      "outputs": [],
      "source": [
        "pacman::p_load(\n",
        "  rio,\n",
        "  here,\n",
        "  httr,\n",
        "  jsonlite,\n",
        "  stringr,\n",
        "  tidyverse)"
      ],
      "id": "db64894f-4d82-4ad8-a128-20ab4d62c5e7"
    },
    {
      "cell_type": "markdown",
      "metadata": {},
      "source": [
        "## Write a function to get data from WHO-DON website\n",
        "\n",
        "Using method GET from `httr` package to get data from WHO-DON website.\n",
        "The function `get_who_news` will take a URL as input and return the data\n",
        "from the API. The function will return `NULL` if the request was\n",
        "unsuccessful.\n",
        "\n",
        "Status code = 200 means the connection is successful. The function will\n",
        "parse the JSON content and return the data.\n",
        "\n",
        "Next, we will initialize the variables and loop to fetch all pages. The\n",
        "function will check if there is a next page link and keep fetching until\n",
        "there is no next page link."
      ],
      "id": "64c4bca6-b7c5-4b35-866d-3633435e66e2"
    },
    {
      "cell_type": "code",
      "execution_count": null,
      "metadata": {},
      "outputs": [],
      "source": [
        "#| message: FALSE\n",
        "#| warning: FALSE\n",
        "#| eval: FALSE\n",
        "\n",
        "# Function to get news data from a specific URL\n",
        "get_who_news <- function(url) {\n",
        "  # Make the GET request to the API\n",
        "  response <- GET(url)\n",
        "  \n",
        "  # Check the status of the response\n",
        "  if (status_code(response) == 200) {\n",
        "    # Parse the JSON content\n",
        "    content <- content(response, \"text\")\n",
        "    data <- fromJSON(content)\n",
        "    return(data)\n",
        "  } else {\n",
        "    # Return NULL if the request was unsuccessful\n",
        "    return(NULL)\n",
        "  }\n",
        "}\n",
        "\n",
        "# Initialize variables\n",
        "base_url <- \"https://www.who.int/api/news/diseaseoutbreaknews\"\n",
        "all_news <- list()\n",
        "next_url <- base_url\n",
        "keep_fetching <- TRUE\n",
        "\n",
        "# Loop to fetch all pages\n",
        "while (keep_fetching) {\n",
        "  data <- get_who_news(next_url)\n",
        "  \n",
        "  if (!is.null(data) && \"value\" %in% names(data)) {\n",
        "    all_news <- c(all_news, data$value)\n",
        "    \n",
        "    # Check if there is a next page link\n",
        "    if (\"@odata.nextLink\" %in% names(data)) {\n",
        "      next_url <- data[[\"@odata.nextLink\"]]\n",
        "    } else {\n",
        "      keep_fetching <- FALSE\n",
        "    }\n",
        "  } else {\n",
        "    keep_fetching <- FALSE\n",
        "  }\n",
        "}"
      ],
      "id": "c295f0b5-be0b-4004-9e08-7dccca6d809b"
    },
    {
      "cell_type": "markdown",
      "metadata": {},
      "source": [
        "## Convert data from list to wide dataframe\n",
        "\n",
        "The data is currently stored as a nested list. We will convert this\n",
        "nested list to a wide data frame for further analysis. We will define a\n",
        "function `convert_to_df` that takes the nested list as input and returns\n",
        "a data frame.\n",
        "\n",
        "Some cleaning steps are performed to remove HTML tags from the text\n",
        "data.\n",
        "\n",
        "Finally, we will export the data frame to a CSV file for further\n",
        "analysis."
      ],
      "id": "c939d486-28d6-431f-9496-fc2bcb3d18e9"
    },
    {
      "cell_type": "code",
      "execution_count": null,
      "metadata": {},
      "outputs": [],
      "source": [
        "#| eval: FALSE\n",
        "# Define a function to convert the nested list to a data frame\n",
        "convert_to_df <- function(news_list) {\n",
        "  # Initialize an empty list to hold data frames\n",
        "  df_list <- list()\n",
        "  \n",
        "  # Determine the segment length\n",
        "  segment_length <- 22\n",
        "  \n",
        "  # Iterate through the list in steps of segment_length\n",
        "  for (i in seq(1, length(news_list), by = segment_length)) {\n",
        "    # Extract the current segment\n",
        "    segment <- news_list[i:(i + segment_length - 1)]\n",
        "    \n",
        "    # Convert the segment to a data frame and add it to the list\n",
        "    df_list[[length(df_list) + 1]] <- as.data.frame(segment)\n",
        "  }\n",
        "  \n",
        "  # Combine all data frames into one\n",
        "  combined_df <- do.call(rbind, df_list)\n",
        "  return(combined_df)\n",
        "}\n",
        "\n",
        "# Function to remove HTML tags\n",
        "remove_html_tags <- function(text) {\n",
        "  return(str_replace_all(text, \"<[^>]*>\", \"\"))\n",
        "}\n",
        "\n",
        "all_news_df <- convert_to_df(all_news)\n",
        "\n",
        "\n",
        "all_news_df %>% \n",
        "  mutate(across(where(is.character), remove_html_tags)) %>%\n",
        "  arrange(desc(PublicationDate)) %>%\n",
        "  rio::export(here(\"data\", \"who_dons.csv\"))"
      ],
      "id": "fa439687-0731-400a-b165-eb2be3070b5f"
    },
    {
      "cell_type": "markdown",
      "metadata": {},
      "source": [
        "## Pivot data into long format"
      ],
      "id": "200dd30e-7d0d-4cbe-a9f2-71a9e0c62491"
    },
    {
      "cell_type": "code",
      "execution_count": null,
      "metadata": {},
      "outputs": [],
      "source": [
        "corpus <- import(here(\"data/who_dons.csv\")) %>% \n",
        "    select(\n",
        "        UrlName,\n",
        "        DonId,\n",
        "        # Ranking of information based on important\n",
        "        Summary,\n",
        "        Overview,\n",
        "        Epidemiology,\n",
        "        Assessment,\n",
        "        Advice,\n",
        "        FurtherInformation\n",
        "    ) %>% \n",
        "    # remove value 1 in character columns to NA\n",
        "    mutate(across(where(is.character), ~na_if(., \"\"))) %>% \n",
        "    # Standardize DonID column, with this format Year-DON-Number\n",
        "    # the UrlName column will be used if DonID is missing\n",
        "    mutate(DonID_standardized = coalesce(DonId, UrlName)) %>%\n",
        "    #relocate DonID_standardized column to the first column\n",
        "    relocate(DonID_standardized, .before = UrlName) %>%\n",
        "    # pivot_longer data, so information from columns summary to FurtherInformation are in one column\n",
        "    pivot_longer(\n",
        "        cols = Summary:FurtherInformation,\n",
        "        names_to = \"InformationType\",\n",
        "        values_to = \"Text\") \n",
        "\n",
        "export(corpus, here(\"data\", \"corpus.csv\"))"
      ],
      "id": "bed0c4cc-817d-4f07-8273-e2b4f9c573c0"
    },
    {
      "cell_type": "markdown",
      "metadata": {},
      "source": [
        "## Preview data"
      ],
      "id": "0666656f-9ddd-4a22-9999-e6052c41a422"
    },
    {
      "cell_type": "code",
      "execution_count": null,
      "metadata": {},
      "outputs": [],
      "source": [
        "#| echo: FALSE\n",
        "all_news_df <- import(here(\"data\", \"who_dons.csv\"))"
      ],
      "id": "ed7a5e8b-5a34-4835-afa0-918b5bd76cc9"
    },
    {
      "cell_type": "markdown",
      "metadata": {},
      "source": [
        "Data up to 15 July 2024"
      ],
      "id": "03e69233-2050-42c8-9a43-a011225564ee"
    },
    {
      "cell_type": "code",
      "execution_count": null,
      "metadata": {},
      "outputs": [
        {
          "output_type": "stream",
          "name": "stdout",
          "text": [
            "Rows: 18,648\n",
            "Columns: 5\n",
            "$ DonID_standardized <chr> \"2024-DON525\", \"2024-DON525\", \"2024-DON525\", \"2024-…\n",
            "$ UrlName            <chr> \"2024-DON525\", \"2024-DON525\", \"2024-DON525\", \"2024-…\n",
            "$ DonId              <chr> \"2024-DON525\", \"2024-DON525\", \"2024-DON525\", \"2024-…\n",
            "$ InformationType    <chr> \"Summary\", \"Overview\", \"Epidemiology\", \"Assessment\"…\n",
            "$ Text               <chr> \"The International Health Regulations (IHR) Nationa…"
          ]
        }
      ],
      "source": [
        "#| label: glimpse-data\n",
        "glimpse(corpus)"
      ],
      "id": "5d690c4f-ede3-43c7-9056-5d1f6af697e9"
    }
  ],
  "nbformat": 4,
  "nbformat_minor": 5,
  "metadata": {
    "kernelspec": {
      "display_name": "Python 3",
      "language": "python",
      "name": "python3"
    }
  }
}