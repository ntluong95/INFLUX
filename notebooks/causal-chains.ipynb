{
 "cells": [
  {
   "cell_type": "markdown",
   "metadata": {},
   "source": [
    "# Causality mining using OpenAI API\n"
   ]
  },
  {
   "cell_type": "markdown",
   "metadata": {},
   "source": [
    "## Loading packages and data"
   ]
  },
  {
   "cell_type": "code",
   "execution_count": 159,
   "metadata": {
    "vscode": {
     "languageId": "python"
    }
   },
   "outputs": [],
   "source": [
    "from openai import OpenAI\n",
    "from tqdm import tqdm\n",
    "import pandas as pd\n",
    "from IPython.display import display, Markdown\n",
    "from dotenv import load_dotenv\n",
    "import os\n",
    "import re"
   ]
  },
  {
   "cell_type": "code",
   "execution_count": 160,
   "metadata": {
    "vscode": {
     "languageId": "python"
    }
   },
   "outputs": [],
   "source": [
    "who_data = pd.read_csv(\"../data/corpus.csv\")\n",
    "who_data_epi = who_data[who_data[\"InformationType\"] == \"Epidemiology\"]\n",
    "who_data_assessment = who_data[who_data[\"InformationType\"] == \"Assessment\"]\n",
    "who_data_epi_and_assessment = who_data[who_data[\"InformationType\"].isin([\"Epidemiology\", \"Assessment\"])]"
   ]
  },
  {
   "cell_type": "markdown",
   "metadata": {},
   "source": [
    "## Function defnition"
   ]
  },
  {
   "cell_type": "markdown",
   "metadata": {},
   "source": [
    "### Prompt Generation"
   ]
  },
  {
   "cell_type": "code",
   "execution_count": 161,
   "metadata": {
    "vscode": {
     "languageId": "python"
    }
   },
   "outputs": [],
   "source": [
    "class PromptDesigner:\n",
    "    def __init__(self):\n",
    "        # Store different parts of the prompt as class attributes\n",
    "        self.persona_task_description = \"\"\"\n",
    "        You are an epidemiologist tasked with identifying sentences or phrases from outbreak reports that describe the drivers or contributors to the emergence or transmission of emerging pests and pathogens.\n",
    "        \"\"\"\n",
    "\n",
    "        self.domain_localization = \"\"\"\n",
    "        Here is the definition of DPSIR (Drivers, Pressure, State, Impacts, and Responses) framework, where it shows how drivers are associated with the emergence of disease.\n",
    "        Drivers: underlying socio-economic, environmental, or ecological forces that create conditions favourable for how a disease emerges, spreads or sustains transmission in human, animals or plants.\n",
    "        Pressure: human anthropogenic activities that are mainly responsible for the chances of spillover events and the transmission of pests and pathogens.\n",
    "        State: the current circulation of pests and pathogens, represented as either new case detected, an endemic, an epidemic or a pandemic.\n",
    "        Impacts: the effects caused by pests and pathogens on individuals, communities' socio-economic, and political.\n",
    "        Responses: the actions and interventions taken by governments to manage the occurrence of drivers and pressures, and to control the spread of pests and pathogens and to mitigate the impacts.\n",
    "        \"\"\"\n",
    "\n",
    "        self.causality_definition = \"\"\"\n",
    "        Causality definition: In the reports, causality can take two forms. The first form is \"Intra-sentence causality\", where the “cause” and the “effect” lie in a single sentence, while in \"Inter-sentence causality\", the “cause” and the “effect” lie in different sentences.\n",
    "        \"\"\"\n",
    "        \n",
    "        self.extraction_guide = \"\"\"\n",
    "        Input text: The sudden appearance of unlinked cases of mpox in South Africa without a history of international travel, the high HIV prevalence among confirmed cases, and the high case fatality ratio suggest that community transmission is underway, and the cases detected to date represent a small proportion of all mpox cases that might be occurring in the community; it is unknown how long the virus may have been circulating. This may in part be due to the lack of early clinical recognition of an infection with which South Africa previously gained little experience during the ongoing global outbreak, potential pauci-symptomatic manifestation of the disease, or delays in care-seeking behaviour due to limited access to care or fear of stigma.\n",
    "        \n",
    "        Expected output\n",
    "        1. Raw text with marked causes and effects\n",
    "        The sudden appearance of unlinked cases of mpox in South Africa without a history of international travel, the high HIV prevalence among confirmed cases, and the high case fatality ratio suggest that (E1) community transmission (E1) is underway, and the cases detected to date represent a small proportion of all mpox cases that might be occurring in the community; it is unknown how long the virus may have been circulating. This may in part be due to the (C1) lack of early clinical recognition of an infection (C1) with which South Africa previously gained little experience during the ongoing global outbreak, potential (C1) pauci-symptomatic manifestation of the disease (C1), or (C1, E2) delays in care-seeking behavior (C1, E2) due to (C2) limited access to care (C2) or (C2) fear of stigma (C2).\n",
    "       \n",
    "        2. Extracted causes and effects\n",
    "        C1: lack of early clinical recognition of an infection -> E1: community transmission \n",
    "        C1: pauci-symptomatic manifestation of the disease -> E1: community transmission \n",
    "        C1: delays in care-seeking behavior -> E1: community transmission \n",
    "        C2: limited access to care -> E2: delays in care-seeking behaviour\n",
    "        C2: fear of stigma -> -> E2: delays in care-seeking behaviour delays in care-seeking behaviour  \n",
    "        \"\"\"\n",
    "\n",
    "        self.few_shot_examples = \"\"\"\n",
    "        Below are some examples how causality can be reported in different forms:\n",
    "        - Single cause, single effect (Type 1)\n",
    "\n",
    "        Example 1: (C1) High population density and mobility in urban areas (C1) have facilitated (E1) the rapid spread of the virus (E1)\". \n",
    "\n",
    "        Example 2: There is (C1) no vaccine for Influenza A(H1N1)v infection currently licensed for use in humans (C1). Seasonal influenza vaccines against human influenza viruses are generally not expected to protect people from (E1) infection with influenza viruses (E1) that normally circulate in pigs, but they can reduce severity.\n",
    "\n",
    "\n",
    "        - Single cause, multiple effects (Type 2)\n",
    "\n",
    "        Example 3: Several countries including Cameroon, Ethiopia, Haiti, Lebanon, Nigeria (north-east of the country), Pakistan, Somalia, Syria and the Democratic Republic of Congo (eastern part of the country) are in the midst of complex (C1) humanitarian crises (C1) with (E1) fragile health systems (E1), (E1) inadequate access to clean water and sanitation (E1) and have (E1) insufficient capacity to respond to the outbreaks (E1)\n",
    "\n",
    "        - Multiple causes, single effect (Type 3)\n",
    "        Example 4: Moreover, (C1) a low index of suspicion (C1), (C1) socio-cultural norms (C1), (C1) community resistance (C1), (C1) limited community knowledge regarding anthrax transmission (C1), (C1) high levels of poverty (C1) and (C1) food insecurity (C1), (C1) a shortage of available vaccines and laboratory reagents (C1), (C1) inadequate carcass disposal (C1) and (C1) decontamination practices (C1) significantly contribute to hampering (E1) the containment of the anthrax outbreak (E1).\n",
    "\n",
    "        Example 5:\n",
    "        The (E1) risk at the national level (E1) is assessed as 'High' due to the following:\n",
    "        + In other parts of Timor-Leste (C1) health workers have limited knowledge dog bite and scratch case management (C1) including PEP and RIG administration\n",
    "        + (C2) Insufficient stock of human rabies vaccines (C2) in the government health facilities.\n",
    "\n",
    "        - Multiple causes, multiple effects (Type 4) - Chain of causalities\n",
    "        The text may describe a chain of causality, where one effect becomes then the cause of another effect. To describe the chain, you should number the causes and effects. For example, cause 1 (C1) -> effect 1 (E1), but since effect 1 is also cause of effect 2, you should do cause 1 (C1) -> effect 1 (E1, C2) -> effect 2 (E2). \n",
    "\n",
    "        Example 6: (E2) The risk of insufficient control capacities (E2) is considered high in Zambia due to (C1) concurrent public health emergencies in the country (cholera, measles, COVID-19) (C1) that limit the country’s human and (E1, C2) financial capacities to respond to the current anthrax outbreak adequately (E1, C2).\n",
    "\n",
    "        Example 7: (C1) Surveillance systems specifically targeting endemic transmission of chikungunya or Zika are weak or non-existent (C1) -> (E1, C2) Misdiagnosis between diseases  & Skewed surveillance (E1, C2) -> (E2, C3) Misinform policy decisions (E2, C3) -> (E3)reduced accuracy on the estimation of the true burden of each diseases (E3), poor risk assessments (E3), and non optimal clinical management and resource allocation (E3). \n",
    "\n",
    "        Example 8: (C1) Changes in the predominant circulating serotype (C1) -> (E1, C2) increase the population risk of subsequent exposure to a heterologous DENV serotype (E1, C2), -> (E2) which increases the risk of higher rates of severe dengue and deaths (E2).\n",
    "\n",
    "        \"\"\"\n",
    "\n",
    "        self.negative_cases = \"\"\"\n",
    "        Irrelevant causality (negative cases): Some sentences contain causal relationships, but the effect may not be related to the disease transmission or emergence. Avoid classifying those causal relationships.\n",
    "\n",
    "        Example 1 (no causality): Because these viruses continue to be detected in swine populations worldwide, further human cases following direct or indirect contact with infected swine can be expected.\n",
    "\n",
    "        Example 2 (no relevant causality): There is some (E1) pressure on the healthcare capacity (E1) due to the (C1) very high number of admissions for dengue (C1); (C1) high vector density (C1); and an (C1) anticipated prolonged monsoon (C1). \n",
    "\n",
    "        Example 3 (no relevant causality): (C1) MVD is a highly virulent disease (C1) that can cause (E1) haemorrhagic fever (E1) and is clinically similar to Ebola virus disease.\n",
    "\n",
    "        \"\"\"\n",
    "\n",
    "        self.mechanism_of_causality = \"\"\"\n",
    "        When the text describes/list possible mechanisms behind the cause of transmission or emergence, tag them with (M). A mechanism of causality describes the specific interactions between the pathogen, host, and environment that causes the transmission / emergence. They often describe interactions at the physiological level. \n",
    "\n",
    "        Example 1: The global outbreak 2022 — 2024 has shown that (C1) sexual contact (C1) enables faster and more efficient (E1) spread of the virus (E1) from one person  to another due to (M1) direct contact of mucous membranes between people (M1), (M1) contact with multiple partners (M1), (M1) a possibly shorter incubation period on average (M1), and (M1) a longer infectious period for immunocompromised individuals (M1).\n",
    "\n",
    "        \"\"\"\n",
    "\n",
    "        self.sign_of_causality = \"\"\"\n",
    "        For each cause-effect relationship, indicate whether each cause (C) is positive (C+) or negative (C-) and each effect (E) is positive (E+) or negative (E-). \n",
    "        Use the list of positive and negative sign words provided to help determine the sign of each cause and effect. Be mindful of sentences with negations (e.g., “does not improve”), which reverses polarity. \n",
    "        Positive sign words: increase, facilitate, support, improve, expand, promote, enable, enhance, accelerate, advance, grow, boost, strengthen, benefit, contribute, progress, initiate, develop, elevate, stimulate, alleviate, optimize, revitalize. \n",
    "        Negative sign words: limit, decrease, reduce, hamper, hinder, restrict, suppress, impair, inhibit, undermine, challenge, disrupt, lack, insufficient, incomplete, challenge, deficit, obstacle, barrier, diminish, shortage, scarcity, obstruct, worsen, decline. \n",
    "\n",
    "        Example 1: “(C1-) a lack of timely access to diagnostics in many areas (C1-), (C1-) incomplete epidemiological investigations (C1-), (C1-) challenges in contact tracing and extensive but inconclusive animal investigations (C1-) continue to hamper rapid response (E1-)”\n",
    "\n",
    "        Example 2: Moreover, (C1-) a low index of suspicion (C1-), (C1) socio-cultural norms (C1), (C1) community resistance (C1), (C1-) limited community knowledge regarding anthrax transmission (C1-), (C1+) high levels of poverty (C1+) and (C1) food insecurity (C1), (C1-) a shortage of available vaccines and laboratory reagents (C1-), (C1-) inadequate carcass disposal (C1-) and (C1) decontamination practices (C1) significantly contribute to hampering (E1-) the containment of the anthrax outbreak (E1-).\n",
    "        \"\"\"\n",
    "\n",
    "    def generate_prompt(self, include_persona=False, include_domain=False, include_causality=False, include_guidance = False, include_examples=False, include_negative=False, include_mechanism=False, include_sign=False):\n",
    "        \"\"\"\n",
    "        Dynamically generate a prompt based on the specified parts.\n",
    "        \"\"\"\n",
    "        # Start with an empty prompt\n",
    "        prompt = \"\"\n",
    "\n",
    "        # Append parts based on the arguments provided\n",
    "        if include_persona:\n",
    "            prompt += self.persona_task_description + \"\\n\"\n",
    "        \n",
    "        if include_domain:\n",
    "            prompt += self.domain_localization + \"\\n\"\n",
    "        if include_causality:\n",
    "            prompt += self.causality_definition + \"\\n\"\n",
    "        if include_guidance:\n",
    "            prompt += self.extraction_guide + \"\\n\"\n",
    "        if include_examples:\n",
    "            prompt += self.few_shot_examples + \"\\n\"\n",
    "        if include_negative:\n",
    "            prompt += self.negative_cases + \"\\n\"\n",
    "        if include_mechanism:\n",
    "            prompt += self.mechanism_of_causality + \"\\n\"\n",
    "        if include_sign:\n",
    "            prompt += self.sign_of_causality + \"\\n\"\n",
    "\n",
    "        return prompt\n",
    "\n",
    "# prompt_designer = PromptDesigner()\n",
    "# prompt_with_mechanism = prompt_designer.generate_prompt(\n",
    "#     include_persona=True, \n",
    "#     include_domain=True, \n",
    "#     include_examples=True, \n",
    "#     include_mechanism=True\n",
    "# )\n",
    "# print(prompt_with_mechanism)"
   ]
  },
  {
   "cell_type": "markdown",
   "metadata": {},
   "source": [
    "### Causality Extraction"
   ]
  },
  {
   "cell_type": "code",
   "execution_count": 162,
   "metadata": {
    "vscode": {
     "languageId": "python"
    }
   },
   "outputs": [],
   "source": [
    "# Read API key from the .env file\n",
    "load_dotenv()\n",
    "client = OpenAI(api_key=os.getenv(\"OPENAI_API_KEY\"))\n",
    "\n",
    "# Function to split text into chunks\n",
    "def batch(iterable, n=1):\n",
    "    \"\"\"Utility function to batch sentences into chunks.\"\"\"\n",
    "    l = len(iterable)\n",
    "    for ndx in range(0, l, n):\n",
    "        yield iterable[ndx:min(ndx + n, l)]\n",
    "\n",
    "class CausalChain:\n",
    "    def __init__(self, dataframe, prompt_designer=None):\n",
    "        self.dataframe = dataframe\n",
    "        self.outlines = []  # Store a list of dictionaries to represent complex relationships\n",
    "        self.prompt_designer = prompt_designer if prompt_designer else PromptDesigner()\n",
    "        self.processed_chunks = set()  # Track processed chunks to avoid repetition\n",
    "\n",
    "    def create_effects(self, batch_size=16, prompt_parts={}):\n",
    "        print(\"Analyzing causation...\")\n",
    "\n",
    "        with open(\"api_responses.txt\", \"w\", encoding=\"utf-8\") as file:\n",
    "            for index, row in tqdm(self.dataframe.iterrows(), total=self.dataframe.shape[0]):\n",
    "                text = row['Text']\n",
    "                don_id = row['DonId']\n",
    "\n",
    "                # Split text into sentences and then into chunks of 3 sentences\n",
    "                sentences = text.split(\". \")\n",
    "                chunks = [\". \".join(a) + \".\" for a in batch(sentences, 3)]\n",
    "\n",
    "                for chunk in chunks:\n",
    "                    # Skip if the chunk has already been processed\n",
    "                    if (don_id, chunk) in self.processed_chunks:\n",
    "                        continue\n",
    "\n",
    "                    cause_effect_pairs, raw_texts, causality_types, response_text = self.extract_cause_effect_openai(chunk, prompt_parts, don_id)\n",
    "\n",
    "                    # Mark the chunk as processed\n",
    "                    self.processed_chunks.add((don_id, chunk))\n",
    "\n",
    "                    # Write the response to the file immediately after receiving it\n",
    "                    file.write(f\"\\n\\nAPI Response for Article ID {don_id}: \\n{response_text}\\n\\n\")\n",
    "\n",
    "                    if not cause_effect_pairs:\n",
    "                        print(f\"No cause-effect pairs found for chunk: {chunk}\")\n",
    "\n",
    "                    for pair, raw_text, causality_type in zip(cause_effect_pairs, raw_texts, causality_types):\n",
    "                        cause, effect = pair\n",
    "                        self.outlines.append({\n",
    "                            \"DonId\": don_id,\n",
    "                            \"Cause\": cause,\n",
    "                            \"Effect\": effect,\n",
    "                            \"Causality_Type\": causality_type,\n",
    "                            \"Raw_Text\": raw_text\n",
    "                        })\n",
    "\n",
    "        # Print the raw texts, causes, effects, and types of causality\n",
    "        if self.outlines:\n",
    "            for outline in self.outlines:\n",
    "                print(f\"DonId: {outline['DonId']}\")\n",
    "                print(f\"Raw Text: {outline['Raw_Text']}\")\n",
    "                print(f\"Cause: {outline['Cause']}\")\n",
    "                print(f\"Effect: {outline['Effect']}\")\n",
    "                print(f\"Causality Type: {outline['Causality_Type']}\")\n",
    "                print(\"\\n\")\n",
    "        else:\n",
    "            print(\"No cause-effect pairs found in the entire dataset.\")\n",
    "\n",
    "    def extract_cause_effect_openai(self, chunk, prompt_parts={}, don_id=None):\n",
    "        # Use the PromptDesigner to generate the customized prompt\n",
    "        prompt = self.prompt_designer.generate_prompt(**prompt_parts)\n",
    "\n",
    "        # Append the text chunk to the prompt and provide a clear format for the response\n",
    "        full_prompt = f\"\"\"{prompt}\n",
    "\n",
    "        Input text: {chunk}\n",
    "\n",
    "        Expected output format:\n",
    "        1. Raw text with marked causes and effects:\n",
    "        [Provide the input text with marked causes and effects]\n",
    "\n",
    "        2. Extracted causes and effects:\n",
    "        C1: [cause] -> E1: [effect], Causality type: [T1/T2/...]\n",
    "        C2: [cause] -> E2: [effect], Causality type: [T1/T2/...]\n",
    "        ...\n",
    "        \"\"\"\n",
    "\n",
    "        # Call the OpenAI API\n",
    "        response = client.chat.completions.create(\n",
    "            model=\"gpt-4o\",\n",
    "            messages=[{\"role\": \"user\", \"content\": full_prompt}],\n",
    "            max_tokens=1000,\n",
    "            temperature=0,\n",
    "        )\n",
    "\n",
    "        response_text = response.choices[0].message.content\n",
    "        print(f\"API Response for Article ID {don_id}: {response_text}\")  # Print the API response for debugging\n",
    "        return self.parse_response(response_text) + (response_text,)\n",
    "\n",
    "    @staticmethod\n",
    "    def parse_response(response_text):\n",
    "        cause_effect_pairs = []\n",
    "        raw_texts = []\n",
    "        causality_types = []  # Store the causality types\n",
    "\n",
    "        if not response_text.strip():\n",
    "            print(\"Empty response received from API.\")\n",
    "            return cause_effect_pairs, raw_texts, causality_types\n",
    "\n",
    "        # Parse the response based on the expected output format\n",
    "        lines = response_text.split(\"\\n\")\n",
    "        raw_text_section = False\n",
    "        extracted_pairs_section = False\n",
    "        raw_text = \"\"\n",
    "\n",
    "        for line in lines:\n",
    "            line = line.strip()\n",
    "\n",
    "            if line.startswith(\"1. Raw text with marked causes and effects\"):\n",
    "                raw_text_section = True\n",
    "                extracted_pairs_section = False\n",
    "                raw_text = \"\"  # Reset raw text for each new section\n",
    "                continue\n",
    "\n",
    "            if line.startswith(\"2. Extracted causes and effects\"):\n",
    "                raw_text_section = False\n",
    "                extracted_pairs_section = True\n",
    "                continue\n",
    "\n",
    "            if raw_text_section and line:\n",
    "                raw_text += line + \" \"\n",
    "\n",
    "            if extracted_pairs_section and line.startswith(\"C\") and \"->\" in line:\n",
    "                try:\n",
    "                    cause = line.split(\":\")[1].split(\"->\")[0].strip()\n",
    "                    effect = line.split(\"->\")[1].split(\", Causality type:\")[0].strip()\n",
    "                    causality_type = line.split(\"Causality type:\")[1].strip()\n",
    "                    cause_effect_pairs.append((cause, effect))\n",
    "                    raw_texts.append(raw_text.strip())\n",
    "                    causality_types.append(causality_type)\n",
    "                except IndexError:\n",
    "                    print(f\"Malformed line: {line}\")\n",
    "\n",
    "        return cause_effect_pairs, raw_texts, causality_types\n",
    "\n",
    "\n",
    "def create_causes_effects_dataframe(outlines):\n",
    "    # Create a DataFrame from the outlines list\n",
    "    dataframe = pd.DataFrame(outlines)\n",
    "\n",
    "    # Ensure all expected columns are present, fill with 'Unknown' if missing\n",
    "    for column in [\"DonId\", \"Cause\", \"Effect\", \"Causality_Type\", \"Raw_Text\"]:\n",
    "        if column not in dataframe:\n",
    "            dataframe[column] = \"Unknown\"\n",
    "\n",
    "    return dataframe\n",
    "\n",
    "# Function to edit .txt file\n",
    "def format_api_responses(file_path):\n",
    "    with open(file_path, \"r\", encoding=\"utf-8\") as file:\n",
    "        content = file.read()\n",
    "\n",
    "    # Ensure each \"API Response for Article ID\" starts on a new line\n",
    "    # Add a line break before \"API Response for Article ID\" if it's directly after some text\n",
    "    formatted_content = re.sub(r\"(.*?)API Response for Article ID\", r\"\\1\\n\\nAPI Response for Article ID\", content)\n",
    "\n",
    "    # Write the formatted content back to a new file\n",
    "    with open(\"formatted_api_responses.txt\", \"w\", encoding=\"utf-8\") as output_file:\n",
    "        output_file.write(formatted_content)\n"
   ]
  },
  {
   "cell_type": "markdown",
   "metadata": {},
   "source": [
    "### Drivers Categorization"
   ]
  },
  {
   "cell_type": "markdown",
   "metadata": {},
   "source": [
    "- Allow testing with zero shot, one shot, few shots example\n",
    "- Allow for different AI services\n",
    "- Print raw text\n",
    "- Allow for classification -> later steps\n",
    "- Run a loop through the whole dataframe\n",
    "- Allow for cateforisation of sign of the causality\n",
    "- Allow for validation\n",
    "- Have one “conversation” per document, only put instructions at the start"
   ]
  },
  {
   "cell_type": "markdown",
   "metadata": {},
   "source": [
    "## Experimenting the model"
   ]
  },
  {
   "cell_type": "code",
   "execution_count": 163,
   "metadata": {
    "vscode": {
     "languageId": "python"
    }
   },
   "outputs": [],
   "source": [
    "example_data = who_data_assessment.iloc[1:6]"
   ]
  },
  {
   "cell_type": "code",
   "execution_count": 164,
   "metadata": {
    "vscode": {
     "languageId": "python"
    }
   },
   "outputs": [
    {
     "name": "stdout",
     "output_type": "stream",
     "text": [
      "Analyzing causation...\n"
     ]
    },
    {
     "name": "stderr",
     "output_type": "stream",
     "text": [
      "\r  0%|                                                    | 0/2 [00:00<?, ?it/s]"
     ]
    },
    {
     "name": "stdout",
     "output_type": "stream",
     "text": [
      "API Response for Article ID 2024-DON538: 1. Raw text with marked causes and effects:\n",
      "Although no cases of WNV have been documented in birds or horses in the country, it is possible that the virus is circulating in these populations undetected. Despite this, the overall impact on public health remains limited at this stage, as there is currently only one recorded human case and appropriate public health response measures have been implemented, as described above. The risk of international dissemination of WNV from Barbados is low. The virus is primarily transmitted through (C1) mosquito bites (C1), with (C2) birds as the natural hosts (C2). There is no evidence to suggest that WNV spreads easily between humans or from horses to mosquitoes.\n",
      "\n",
      "2. Extracted causes and effects:\n",
      "C1: mosquito bites -> E1: transmission of the virus, Causality type: T1\n",
      "C2: birds as the natural hosts -> E1: transmission of the virus, Causality type: T1\n"
     ]
    },
    {
     "name": "stderr",
     "output_type": "stream",
     "text": [
      "\r 50%|██████████████████████                      | 1/2 [00:04<00:04,  4.06s/it]"
     ]
    },
    {
     "name": "stdout",
     "output_type": "stream",
     "text": [
      "API Response for Article ID 2024-DON538: 1. Raw text with marked causes and effects:\n",
      "Therefore, the potential for widespread international transmission remains low. Based on these criteria, the overall risk related to the public health remains low. WHO will continue to evaluate the epidemiological situation in Barbados.\n",
      "\n",
      "2. Extracted causes and effects:\n",
      "No relevant causality related to the emergence or transmission of pests and pathogens is present in the input text.\n",
      "No cause-effect pairs found for chunk: Therefore, the potential for widespread international\n",
      "transmission remains low.&nbsp;Based\n",
      "on these criteria, the overall risk related to the public health remains low.\n",
      "WHO will continue to evaluate the epidemiological situation in Barbados.&nbsp;.\n",
      "API Response for Article ID 2024-DON536: 1. Raw text with marked causes and effects:\n",
      "The notification of this case does not change the overall risk assessment. The new case reported is believed to have acquired (E1) MERS-CoV infection (E1) locally within KSA.\n",
      "\n",
      "2. Extracted causes and effects:\n",
      "C1: locally within KSA -> E1: MERS-CoV infection, Causality type: T1\n",
      "API Response for Article ID 2024-DON536: 1. Raw text with marked causes and effects:\n",
      "However, the (E1) potential for international transmission (E1) is increased due to the fact that the (C1) individual visited Pakistan (C1), while a (C1) high-risk contact traveled to South Asia within the 14-day follow-up period (C1). Both individuals had arranged their travels prior to the occurrence of the event and before the test results of the case were obtained and disseminated. WHO expects that additional cases of MERS-CoV infection will be reported from the Middle East and/or other countries where (E2) MERS-CoV is circulating in dromedaries (E2). In addition, cases will continue to be exported to other countries by individuals who were (C2) exposed to the virus through contact with dromedaries or their products (for example, consumption of raw camel milk) (C2), or in a (C2) health-care setting (C2).\n",
      "\n",
      "2. Extracted causes and effects:\n",
      "C1: individual visited Pakistan -> E1: potential for international transmission, Causality type: T3\n",
      "C1: high-risk contact traveled to South Asia within the 14-day follow-up period -> E1: potential for international transmission, Causality type: T3\n",
      "C2: exposed to the virus through contact with dromedaries or their products -> E2: MERS-CoV is circulating in dromedaries, Causality type: T3\n",
      "C2: health-care setting -> E2: MERS-CoV is circulating in dromedaries, Causality type: T3\n"
     ]
    },
    {
     "name": "stderr",
     "output_type": "stream",
     "text": [
      "100%|████████████████████████████████████████████| 2/2 [00:13<00:00,  6.85s/it]"
     ]
    },
    {
     "name": "stdout",
     "output_type": "stream",
     "text": [
      "API Response for Article ID 2024-DON536: 1. Raw text with marked causes and effects:\n",
      "Human-to-human transmission of MERS-CoV may occur if there are (C1) delays in identifying the infection (C1), particularly in (C2) countries that are not well-acquainted with the disease (C2), as well as (C1) slow triage of suspected cases (C1) and (C1) delays in the implementation of standard infection prevention and control measures (C1). WHO continues to monitor the epidemiological situation and conducts risk assessments based on the latest available information.\n",
      "\n",
      "2. Extracted causes and effects:\n",
      "C1: delays in identifying the infection -> E1: Human-to-human transmission of MERS-CoV, Causality type: T3\n",
      "C1: slow triage of suspected cases -> E1: Human-to-human transmission of MERS-CoV, Causality type: T3\n",
      "C1: delays in the implementation of standard infection prevention and control measures -> E1: Human-to-human transmission of MERS-CoV, Causality type: T3\n",
      "C2: countries that are not well-acquainted with the disease -> E1: Human-to-human transmission of MERS-CoV, Causality type: T3\n",
      "DonId: 2024-DON538\n",
      "Raw Text: Although no cases of WNV have been documented in birds or horses in the country, it is possible that the virus is circulating in these populations undetected. Despite this, the overall impact on public health remains limited at this stage, as there is currently only one recorded human case and appropriate public health response measures have been implemented, as described above. The risk of international dissemination of WNV from Barbados is low. The virus is primarily transmitted through (C1) mosquito bites (C1), with (C2) birds as the natural hosts (C2). There is no evidence to suggest that WNV spreads easily between humans or from horses to mosquitoes.\n",
      "Cause: mosquito bites\n",
      "Effect: E1: transmission of the virus\n",
      "Causality Type: T1\n",
      "\n",
      "\n",
      "DonId: 2024-DON538\n",
      "Raw Text: Although no cases of WNV have been documented in birds or horses in the country, it is possible that the virus is circulating in these populations undetected. Despite this, the overall impact on public health remains limited at this stage, as there is currently only one recorded human case and appropriate public health response measures have been implemented, as described above. The risk of international dissemination of WNV from Barbados is low. The virus is primarily transmitted through (C1) mosquito bites (C1), with (C2) birds as the natural hosts (C2). There is no evidence to suggest that WNV spreads easily between humans or from horses to mosquitoes.\n",
      "Cause: birds as the natural hosts\n",
      "Effect: E1: transmission of the virus\n",
      "Causality Type: T1\n",
      "\n",
      "\n",
      "DonId: 2024-DON536\n",
      "Raw Text: The notification of this case does not change the overall risk assessment. The new case reported is believed to have acquired (E1) MERS-CoV infection (E1) locally within KSA.\n",
      "Cause: locally within KSA\n",
      "Effect: E1: MERS-CoV infection\n",
      "Causality Type: T1\n",
      "\n",
      "\n",
      "DonId: 2024-DON536\n",
      "Raw Text: However, the (E1) potential for international transmission (E1) is increased due to the fact that the (C1) individual visited Pakistan (C1), while a (C1) high-risk contact traveled to South Asia within the 14-day follow-up period (C1). Both individuals had arranged their travels prior to the occurrence of the event and before the test results of the case were obtained and disseminated. WHO expects that additional cases of MERS-CoV infection will be reported from the Middle East and/or other countries where (E2) MERS-CoV is circulating in dromedaries (E2). In addition, cases will continue to be exported to other countries by individuals who were (C2) exposed to the virus through contact with dromedaries or their products (for example, consumption of raw camel milk) (C2), or in a (C2) health-care setting (C2).\n",
      "Cause: individual visited Pakistan\n",
      "Effect: E1: potential for international transmission\n",
      "Causality Type: T3\n",
      "\n",
      "\n",
      "DonId: 2024-DON536\n",
      "Raw Text: However, the (E1) potential for international transmission (E1) is increased due to the fact that the (C1) individual visited Pakistan (C1), while a (C1) high-risk contact traveled to South Asia within the 14-day follow-up period (C1). Both individuals had arranged their travels prior to the occurrence of the event and before the test results of the case were obtained and disseminated. WHO expects that additional cases of MERS-CoV infection will be reported from the Middle East and/or other countries where (E2) MERS-CoV is circulating in dromedaries (E2). In addition, cases will continue to be exported to other countries by individuals who were (C2) exposed to the virus through contact with dromedaries or their products (for example, consumption of raw camel milk) (C2), or in a (C2) health-care setting (C2).\n",
      "Cause: high-risk contact traveled to South Asia within the 14-day follow-up period\n",
      "Effect: E1: potential for international transmission\n",
      "Causality Type: T3\n",
      "\n",
      "\n",
      "DonId: 2024-DON536\n",
      "Raw Text: However, the (E1) potential for international transmission (E1) is increased due to the fact that the (C1) individual visited Pakistan (C1), while a (C1) high-risk contact traveled to South Asia within the 14-day follow-up period (C1). Both individuals had arranged their travels prior to the occurrence of the event and before the test results of the case were obtained and disseminated. WHO expects that additional cases of MERS-CoV infection will be reported from the Middle East and/or other countries where (E2) MERS-CoV is circulating in dromedaries (E2). In addition, cases will continue to be exported to other countries by individuals who were (C2) exposed to the virus through contact with dromedaries or their products (for example, consumption of raw camel milk) (C2), or in a (C2) health-care setting (C2).\n",
      "Cause: exposed to the virus through contact with dromedaries or their products\n",
      "Effect: E2: MERS-CoV is circulating in dromedaries\n",
      "Causality Type: T3\n",
      "\n",
      "\n",
      "DonId: 2024-DON536\n",
      "Raw Text: However, the (E1) potential for international transmission (E1) is increased due to the fact that the (C1) individual visited Pakistan (C1), while a (C1) high-risk contact traveled to South Asia within the 14-day follow-up period (C1). Both individuals had arranged their travels prior to the occurrence of the event and before the test results of the case were obtained and disseminated. WHO expects that additional cases of MERS-CoV infection will be reported from the Middle East and/or other countries where (E2) MERS-CoV is circulating in dromedaries (E2). In addition, cases will continue to be exported to other countries by individuals who were (C2) exposed to the virus through contact with dromedaries or their products (for example, consumption of raw camel milk) (C2), or in a (C2) health-care setting (C2).\n",
      "Cause: health-care setting\n",
      "Effect: E2: MERS-CoV is circulating in dromedaries\n",
      "Causality Type: T3\n",
      "\n",
      "\n",
      "DonId: 2024-DON536\n",
      "Raw Text: Human-to-human transmission of MERS-CoV may occur if there are (C1) delays in identifying the infection (C1), particularly in (C2) countries that are not well-acquainted with the disease (C2), as well as (C1) slow triage of suspected cases (C1) and (C1) delays in the implementation of standard infection prevention and control measures (C1). WHO continues to monitor the epidemiological situation and conducts risk assessments based on the latest available information.\n",
      "Cause: delays in identifying the infection\n",
      "Effect: E1: Human-to-human transmission of MERS-CoV\n",
      "Causality Type: T3\n",
      "\n",
      "\n",
      "DonId: 2024-DON536\n",
      "Raw Text: Human-to-human transmission of MERS-CoV may occur if there are (C1) delays in identifying the infection (C1), particularly in (C2) countries that are not well-acquainted with the disease (C2), as well as (C1) slow triage of suspected cases (C1) and (C1) delays in the implementation of standard infection prevention and control measures (C1). WHO continues to monitor the epidemiological situation and conducts risk assessments based on the latest available information.\n",
      "Cause: slow triage of suspected cases\n",
      "Effect: E1: Human-to-human transmission of MERS-CoV\n",
      "Causality Type: T3\n",
      "\n",
      "\n",
      "DonId: 2024-DON536\n",
      "Raw Text: Human-to-human transmission of MERS-CoV may occur if there are (C1) delays in identifying the infection (C1), particularly in (C2) countries that are not well-acquainted with the disease (C2), as well as (C1) slow triage of suspected cases (C1) and (C1) delays in the implementation of standard infection prevention and control measures (C1). WHO continues to monitor the epidemiological situation and conducts risk assessments based on the latest available information.\n",
      "Cause: delays in the implementation of standard infection prevention and control measures\n",
      "Effect: E1: Human-to-human transmission of MERS-CoV\n",
      "Causality Type: T3\n",
      "\n",
      "\n",
      "DonId: 2024-DON536\n",
      "Raw Text: Human-to-human transmission of MERS-CoV may occur if there are (C1) delays in identifying the infection (C1), particularly in (C2) countries that are not well-acquainted with the disease (C2), as well as (C1) slow triage of suspected cases (C1) and (C1) delays in the implementation of standard infection prevention and control measures (C1). WHO continues to monitor the epidemiological situation and conducts risk assessments based on the latest available information.\n",
      "Cause: countries that are not well-acquainted with the disease\n",
      "Effect: E1: Human-to-human transmission of MERS-CoV\n",
      "Causality Type: T3\n",
      "\n",
      "\n"
     ]
    },
    {
     "name": "stderr",
     "output_type": "stream",
     "text": [
      "\n"
     ]
    }
   ],
   "source": [
    "prompt_designer = PromptDesigner()\n",
    "\n",
    "prompt_parts = {\n",
    "    \"include_persona\": True,\n",
    "    \"include_domain\": True,\n",
    "    \"include_causality\": True,\n",
    "    \"include_guidance\": True,\n",
    "    \"include_examples\": True,\n",
    "    \"include_negative\": True,\n",
    "    \"include_mechanism\": False,\n",
    "    \"include_sign\": False,\n",
    "}\n",
    "\n",
    "# Create a CausalChain instance with the dataset\n",
    "causal_chain = CausalChain(dataframe=example_data, prompt_designer=prompt_designer)\n",
    "\n",
    "# Generate effects based on the chunks of text\n",
    "causal_chain.create_effects(prompt_parts=prompt_parts)"
   ]
  },
  {
   "cell_type": "code",
   "execution_count": 165,
   "metadata": {
    "vscode": {
     "languageId": "python"
    }
   },
   "outputs": [
    {
     "name": "stdout",
     "output_type": "stream",
     "text": [
      "          DonId                                              Cause                                        Effect Causality_Type                                           Raw_Text\n",
      "0   2024-DON538                                     mosquito bites                 E1: transmission of the virus             T1  Although no cases of WNV have been documented ...\n",
      "1   2024-DON538                         birds as the natural hosts                 E1: transmission of the virus             T1  Although no cases of WNV have been documented ...\n",
      "2   2024-DON536                                 locally within KSA                        E1: MERS-CoV infection             T1  The notification of this case does not change ...\n",
      "3   2024-DON536                        individual visited Pakistan  E1: potential for international transmission             T3  However, the (E1) potential for international ...\n",
      "4   2024-DON536  high-risk contact traveled to South Asia withi...  E1: potential for international transmission             T3  However, the (E1) potential for international ...\n",
      "5   2024-DON536  exposed to the virus through contact with drom...    E2: MERS-CoV is circulating in dromedaries             T3  However, the (E1) potential for international ...\n",
      "6   2024-DON536                                health-care setting    E2: MERS-CoV is circulating in dromedaries             T3  However, the (E1) potential for international ...\n",
      "7   2024-DON536                delays in identifying the infection   E1: Human-to-human transmission of MERS-CoV             T3  Human-to-human transmission of MERS-CoV may oc...\n",
      "8   2024-DON536                     slow triage of suspected cases   E1: Human-to-human transmission of MERS-CoV             T3  Human-to-human transmission of MERS-CoV may oc...\n",
      "9   2024-DON536  delays in the implementation of standard infec...   E1: Human-to-human transmission of MERS-CoV             T3  Human-to-human transmission of MERS-CoV may oc...\n",
      "10  2024-DON536  countries that are not well-acquainted with th...   E1: Human-to-human transmission of MERS-CoV             T3  Human-to-human transmission of MERS-CoV may oc...\n"
     ]
    }
   ],
   "source": [
    "# Create a DataFrame with the causes, effects, and other related information\n",
    "result_df = create_causes_effects_dataframe(causal_chain.outlines)\n",
    "\n",
    "# Display the resulting DataFrame\n",
    "print(result_df)\n",
    "# format_api_responses(\"api_responses.txt\")"
   ]
  }
 ],
 "metadata": {
  "kernelspec": {
   "display_name": "Julia 1.10.5",
   "language": "julia",
   "name": "julia-1.10"
  },
  "language_info": {
   "file_extension": ".jl",
   "mimetype": "application/julia",
   "name": "julia",
   "version": "1.10.5"
  }
 },
 "nbformat": 4,
 "nbformat_minor": 2
}
