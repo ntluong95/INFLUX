{
 "cells": [
  {
   "cell_type": "markdown",
   "metadata": {},
   "source": [
    "# Causality mining using OpenAI API\n"
   ]
  },
  {
   "cell_type": "markdown",
   "metadata": {},
   "source": [
    "## Loading packages and data"
   ]
  },
  {
   "cell_type": "code",
   "execution_count": 14,
   "metadata": {
    "vscode": {
     "languageId": "python"
    }
   },
   "outputs": [],
   "source": [
    "from openai import OpenAI\n",
    "from tqdm import tqdm\n",
    "import pandas as pd\n",
    "from IPython.display import display, Markdown\n",
    "from dotenv import load_dotenv\n",
    "import os"
   ]
  },
  {
   "cell_type": "code",
   "execution_count": 21,
   "metadata": {
    "vscode": {
     "languageId": "python"
    }
   },
   "outputs": [],
   "source": [
    "who_data = pd.read_csv(\"../data/corpus.csv\")\n",
    "who_data_epi = who_data[who_data[\"InformationType\"] == \"Epidemiology\"]\n",
    "who_data_assessment = who_data[who_data[\"InformationType\"] == \"Assessment\"]\n",
    "who_data_epi_and_assessment = who_data[who_data[\"InformationType\"].isin([\"Epidemiology\", \"Assessment\"])]"
   ]
  },
  {
   "cell_type": "markdown",
   "metadata": {},
   "source": [
    "## Function defnition"
   ]
  },
  {
   "cell_type": "markdown",
   "metadata": {},
   "source": [
    "### Prompt Generation"
   ]
  },
  {
   "cell_type": "code",
   "execution_count": 19,
   "metadata": {
    "vscode": {
     "languageId": "python"
    }
   },
   "outputs": [],
   "source": [
    "class PromptDesigner:\n",
    "    def __init__(self):\n",
    "        # Store different parts of the prompt as class attributes\n",
    "        self.persona_task_description = \"\"\"\n",
    "        You are an epidemiologist tasked with identifying sentences or phrases from outbreak reports that describe the drivers or contributors to the emergence or transmission of emerging pests and pathogens.\n",
    "        \"\"\"\n",
    "\n",
    "        self.domain_localization = \"\"\"\n",
    "        Here is the definition of DPSIR (Drivers, Pressure, State, Impacts, and Responses) framework, where it shows how drivers are associated with the emergence of disease.\n",
    "        Drivers: underlying socio-economic, environmental, or ecological forces that create conditions favourable for how a disease emerges, spreads or sustains transmission in human, animals or plants.\n",
    "        Pressure: human anthropogenic activities that are mainly responsible for the chances of spillover events and the transmission of pests and pathogens.\n",
    "        State: the current circulation of pests and pathogens, represented as either new case detected, an endemic, an epidemic or a pandemic.\n",
    "        Impacts: the effects caused by pests and pathogens on individuals, communities' socio-economic, and political.\n",
    "        Responses: the actions and interventions taken by governments to manage the occurrence of drivers and pressures, and to control the spread of pests and pathogens and to mitigate the impacts.\n",
    "        \"\"\"\n",
    "\n",
    "        self.causality_definition = \"\"\"\n",
    "        Causality definition: In the reports, causality can take two forms. The first form is \"Intra-sentence causality\", where the “cause” and the “effect” lie in a single sentence, while in \"Inter-sentence causality\", the “cause” and the “effect” lie in different sentences.\n",
    "        \"\"\"\n",
    "        \n",
    "        self.extraction_guide = \"\"\"\n",
    "        Input text: The sudden appearance of unlinked cases of mpox in South Africa without a history of international travel, the high HIV prevalence among confirmed cases, and the high case fatality ratio suggest that community transmission is underway, and the cases detected to date represent a small proportion of all mpox cases that might be occurring in the community; it is unknown how long the virus may have been circulating. This may in part be due to the lack of early clinical recognition of an infection with which South Africa previously gained little experience during the ongoing global outbreak, potential pauci-symptomatic manifestation of the disease, or delays in care-seeking behaviour due to limited access to care or fear of stigma.\n",
    "        \n",
    "        Expected output\n",
    "        1. Raw text with marked causes and effects\n",
    "        The sudden appearance of unlinked cases of mpox in South Africa without a history of international travel, the high HIV prevalence among confirmed cases, and the high case fatality ratio suggest that (E1) community transmission (E1) is underway, and the cases detected to date represent a small proportion of all mpox cases that might be occurring in the community; it is unknown how long the virus may have been circulating. This may in part be due to the (C1) lack of early clinical recognition of an infection (C1) with which South Africa previously gained little experience during the ongoing global outbreak, potential (C1) pauci-symptomatic manifestation of the disease (C1), or (C1, E2) delays in care-seeking behavior (C1, E2) due to (C2) limited access to care (C2) or (C2) fear of stigma (C2).\n",
    "       \n",
    "        2. Extracted causes and effects\n",
    "        C1: lack of early clinical recognition of an infection -> E1: community transmission \n",
    "        C1: pauci-symptomatic manifestation of the disease -> E1: community transmission \n",
    "        C1: delays in care-seeking behavior -> E1: community transmission \n",
    "        C2: limited access to care -> E2: delays in care-seeking behaviour\n",
    "        C2: fear of stigma -> -> E2: delays in care-seeking behaviour delays in care-seeking behaviour  \n",
    "        \"\"\"\n",
    "\n",
    "        self.few_shot_examples = \"\"\"\n",
    "        Below are some examples how causality can be reported in different forms:\n",
    "        - Single cause, single effect (Type 1)\n",
    "\n",
    "        Example 1: (C1) High population density and mobility in urban areas (C1) have facilitated (E1) the rapid spread of the virus (E1)\". \n",
    "\n",
    "        Example 2: There is (C1) no vaccine for Influenza A(H1N1)v infection currently licensed for use in humans (C1). Seasonal influenza vaccines against human influenza viruses are generally not expected to protect people from (E1) infection with influenza viruses (E1) that normally circulate in pigs, but they can reduce severity.\n",
    "\n",
    "\n",
    "        - Single cause, multiple effects (Type 2)\n",
    "\n",
    "        Example 3: Several countries including Cameroon, Ethiopia, Haiti, Lebanon, Nigeria (north-east of the country), Pakistan, Somalia, Syria and the Democratic Republic of Congo (eastern part of the country) are in the midst of complex (C1) humanitarian crises (C1) with (E1) fragile health systems (E1), (E1) inadequate access to clean water and sanitation (E1) and have (E1) insufficient capacity to respond to the outbreaks (E1)\n",
    "\n",
    "        - Multiple causes, single effect (Type 3)\n",
    "        Example 4: Moreover, (C1) a low index of suspicion (C1), (C1) socio-cultural norms (C1), (C1) community resistance (C1), (C1) limited community knowledge regarding anthrax transmission (C1), (C1) high levels of poverty (C1) and (C1) food insecurity (C1), (C1) a shortage of available vaccines and laboratory reagents (C1), (C1) inadequate carcass disposal (C1) and (C1) decontamination practices (C1) significantly contribute to hampering (E1) the containment of the anthrax outbreak (E1).\n",
    "\n",
    "        Example 5:\n",
    "        The (E1) risk at the national level (E1) is assessed as 'High' due to the following:\n",
    "        + In other parts of Timor-Leste (C1) health workers have limited knowledge dog bite and scratch case management (C1) including PEP and RIG administration\n",
    "        + (C2) Insufficient stock of human rabies vaccines (C2) in the government health facilities.\n",
    "\n",
    "        - Multiple causes, multiple effects (Type 4) - Chain of causalities\n",
    "        The text may describe a chain of causality, where one effect becomes then the cause of another effect. To describe the chain, you should number the causes and effects. For example, cause 1 (C1) -> effect 1 (E1), but since effect 1 is also cause of effect 2, you should do cause 1 (C1) -> effect 1 (E1, C2) -> effect 2 (E2). \n",
    "\n",
    "        Example 6: (E2) The risk of insufficient control capacities (E2) is considered high in Zambia due to (C1) concurrent public health emergencies in the country (cholera, measles, COVID-19) (C1) that limit the country’s human and (E1, C2) financial capacities to respond to the current anthrax outbreak adequately (E1, C2).\n",
    "\n",
    "        Example 7: (C1) Surveillance systems specifically targeting endemic transmission of chikungunya or Zika are weak or non-existent (C1) -> (E1, C2) Misdiagnosis between diseases  & Skewed surveillance (E1, C2) -> (E2, C3) Misinform policy decisions (E2, C3) -> (E3)reduced accuracy on the estimation of the true burden of each diseases (E3), poor risk assessments (E3), and non optimal clinical management and resource allocation (E3). \n",
    "\n",
    "        Example 8: (C1) Changes in the predominant circulating serotype (C1) -> (E1, C2) increase the population risk of subsequent exposure to a heterologous DENV serotype (E1, C2), -> (E2) which increases the risk of higher rates of severe dengue and deaths (E2).\n",
    "\n",
    "        \"\"\"\n",
    "\n",
    "        self.negative_cases = \"\"\"\n",
    "        Irrelevant causality (negative cases): Some sentences contain causal relationships, but the effect may not be related to the disease transmission or emergence. Avoid classifying those causal relationships.\n",
    "\n",
    "        Example 1 (no causality): Because these viruses continue to be detected in swine populations worldwide, further human cases following direct or indirect contact with infected swine can be expected.\n",
    "\n",
    "        Example 2 (no relevant causality): There is some (E1) pressure on the healthcare capacity (E1) due to the (C1) very high number of admissions for dengue (C1); (C1) high vector density (C1); and an (C1) anticipated prolonged monsoon (C1). \n",
    "\n",
    "        Example 3 (no relevant causality): (C1) MVD is a highly virulent disease (C1) that can cause (E1) haemorrhagic fever (E1) and is clinically similar to Ebola virus disease.\n",
    "\n",
    "        \"\"\"\n",
    "\n",
    "        self.mechanism_of_causality = \"\"\"\n",
    "        When the text describes/list possible mechanisms behind the cause of transmission or emergence, tag them with (M). A mechanism of causality describes the specific interactions between the pathogen, host, and environment that causes the transmission / emergence. They often describe interactions at the physiological level. \n",
    "\n",
    "        Example 1: The global outbreak 2022 — 2024 has shown that (C1) sexual contact (C1) enables faster and more efficient (E1) spread of the virus (E1) from one person  to another due to (M1) direct contact of mucous membranes between people (M1), (M1) contact with multiple partners (M1), (M1) a possibly shorter incubation period on average (M1), and (M1) a longer infectious period for immunocompromised individuals (M1).\n",
    "\n",
    "        \"\"\"\n",
    "\n",
    "        self.sign_of_causality = \"\"\"\n",
    "        For each cause-effect relationship, indicate whether each cause (C) is positive (C+) or negative (C-) and each effect (E) is positive (E+) or negative (E-). \n",
    "        Use the list of positive and negative sign words provided to help determine the sign of each cause and effect. Be mindful of sentences with negations (e.g., “does not improve”), which reverses polarity. \n",
    "        Positive sign words: increase, facilitate, support, improve, expand, promote, enable, enhance, accelerate, advance, grow, boost, strengthen, benefit, contribute, progress, initiate, develop, elevate, stimulate, alleviate, optimize, revitalize. \n",
    "        Negative sign words: limit, decrease, reduce, hamper, hinder, restrict, suppress, impair, inhibit, undermine, challenge, disrupt, lack, insufficient, incomplete, challenge, deficit, obstacle, barrier, diminish, shortage, scarcity, obstruct, worsen, decline. \n",
    "\n",
    "        Example 1: “(C1-) a lack of timely access to diagnostics in many areas (C1-), (C1-) incomplete epidemiological investigations (C1-), (C1-) challenges in contact tracing and extensive but inconclusive animal investigations (C1-) continue to hamper rapid response (E1-)”\n",
    "\n",
    "        Example 2: Moreover, (C1-) a low index of suspicion (C1-), (C1) socio-cultural norms (C1), (C1) community resistance (C1), (C1-) limited community knowledge regarding anthrax transmission (C1-), (C1+) high levels of poverty (C1+) and (C1) food insecurity (C1), (C1-) a shortage of available vaccines and laboratory reagents (C1-), (C1-) inadequate carcass disposal (C1-) and (C1) decontamination practices (C1) significantly contribute to hampering (E1-) the containment of the anthrax outbreak (E1-).\n",
    "        \"\"\"\n",
    "\n",
    "    def generate_prompt(self, include_persona=False, include_domain=False, include_causality=False, include_guidance = False, include_examples=False, include_negative=False, include_mechanism=False, include_sign=False):\n",
    "        \"\"\"\n",
    "        Dynamically generate a prompt based on the specified parts.\n",
    "        \"\"\"\n",
    "        # Start with an empty prompt\n",
    "        prompt = \"\"\n",
    "\n",
    "        # Append parts based on the arguments provided\n",
    "        if include_persona:\n",
    "            prompt += self.persona_task_description + \"\\n\"\n",
    "        \n",
    "        if include_domain:\n",
    "            prompt += self.domain_localization + \"\\n\"\n",
    "        if include_causality:\n",
    "            prompt += self.causality_definition + \"\\n\"\n",
    "        if include_guidance:\n",
    "            prompt += self.extraction_guide + \"\\n\"\n",
    "        if include_examples:\n",
    "            prompt += self.few_shot_examples + \"\\n\"\n",
    "        if include_negative:\n",
    "            prompt += self.negative_cases + \"\\n\"\n",
    "        if include_mechanism:\n",
    "            prompt += self.mechanism_of_causality + \"\\n\"\n",
    "        if include_sign:\n",
    "            prompt += self.sign_of_causality + \"\\n\"\n",
    "\n",
    "        return prompt\n",
    "\n",
    "# prompt_designer = PromptDesigner()\n",
    "# prompt_with_mechanism = prompt_designer.generate_prompt(\n",
    "#     include_persona=True, \n",
    "#     include_domain=True, \n",
    "#     include_examples=True, \n",
    "#     include_mechanism=True\n",
    "# )\n",
    "# print(prompt_with_mechanism)"
   ]
  },
  {
   "cell_type": "markdown",
   "metadata": {},
   "source": [
    "### Causality Extraction"
   ]
  },
  {
   "cell_type": "code",
   "execution_count": 4,
   "metadata": {
    "vscode": {
     "languageId": "python"
    }
   },
   "outputs": [],
   "source": [
    "#! Read API key from the .env file\n",
    "load_dotenv()\n",
    "client = OpenAI(api_key=os.getenv(\"OPENAI_API_KEY\"))\n",
    "\n",
    "#! Function to split text into chunks\n",
    "def batch(iterable, n=1):\n",
    "    \"\"\"Utility function to batch sentences into chunks.\"\"\"\n",
    "    l = len(iterable)\n",
    "    for ndx in range(0, l, n):\n",
    "        yield iterable[ndx:min(ndx + n, l)]\n",
    "\n",
    "class CausalChain:\n",
    "    def __init__(self, chunks=[], prompt_designer=None):\n",
    "        self.chunks = chunks\n",
    "        self.causes = []\n",
    "        self.effects = []\n",
    "        self.outlines = []\n",
    "        self.sources = []        \n",
    "        self.raw_texts = []\n",
    "        self.types = []  # Add an attribute to store causality types\n",
    "        self.prompt_designer = prompt_designer if prompt_designer else PromptDesigner()\n",
    "\n",
    "    def create_effects(self, batch_size=16, prompt_parts={}):\n",
    "        print(\"Analyzing causation...\")\n",
    "\n",
    "        for chunk in tqdm(self.chunks):\n",
    "            cause_effect_pairs, raw_texts, causality_types = self.extract_cause_effect_openai(chunk, prompt_parts)\n",
    "\n",
    "            for pair, raw_text, causality_type in zip(cause_effect_pairs, raw_texts, causality_types):\n",
    "                cause, effect = pair\n",
    "                self.causes.append(cause)\n",
    "                self.effects.append(effect)\n",
    "                self.outlines.append(f\"Cause: {cause} -> Effect: {effect}\")\n",
    "                self.raw_texts.append(raw_text)\n",
    "                self.types.append(causality_type)  # Append causality type to the list\n",
    "\n",
    "        # Print the raw texts, causes, effects, and types of causality\n",
    "        for i in range(len(self.causes)):\n",
    "            print(f\"Raw Text: {self.raw_texts[i]}\")\n",
    "            print(f\"Cause: {self.causes[i]}\")\n",
    "            print(f\"Effect: {self.effects[i]}\")\n",
    "            print(f\"Causality Type: {self.types[i]}\")\n",
    "            print(\"\\n\")\n",
    "\n",
    "    def extract_cause_effect_openai(self, chunk, prompt_parts={}):\n",
    "        # Use the PromptDesigner to generate the customized prompt\n",
    "        prompt = self.prompt_designer.generate_prompt(**prompt_parts)\n",
    "\n",
    "        # Append the text chunk to the prompt\n",
    "        full_prompt = f\"{prompt}\\nText: {chunk}\\nFrom the input text, extract all causes and effects pairs, raw text with markers, and the type of causality identified from the raw text\"\n",
    "\n",
    "        # Call the OpenAI API\n",
    "        response = client.chat.completions.create(\n",
    "            model=\"gpt-4o\",\n",
    "            messages=[{\"role\": \"user\", \"content\": full_prompt}],\n",
    "            max_tokens=300,\n",
    "            temperature=0,\n",
    "        )\n",
    "\n",
    "        response_text = response.choices[0].message.content\n",
    "        return self.parse_response(response_text)\n",
    "\n",
    "    @staticmethod\n",
    "    def parse_response(response_text):\n",
    "        cause_effect_pairs = []\n",
    "        raw_texts = []\n",
    "        causality_types = []  # Store the causality types\n",
    "\n",
    "        for line in response_text.split(\"\\n\"):\n",
    "            if \"Cause:\" in line and \"-> Effect:\" in line:\n",
    "                cause = line.split(\"Cause:\")[1].split(\"-> Effect:\")[0].strip()\n",
    "                effect = line.split(\"-> Effect:\")[1].split(\", Type:\")[0].strip()  # Extract effect\n",
    "                causality_type = line.split(\", Type:\")[1].strip()  # Extract causality type\n",
    "                cause_effect_pairs.append((cause, effect))\n",
    "                raw_texts.append(line)\n",
    "                causality_types.append(causality_type)\n",
    "\n",
    "        return cause_effect_pairs, raw_texts, causality_types\n",
    "    \n",
    "    \n",
    "    \n",
    "    \n",
    "def create_causes_effects_dataframe(causes, effects, raw_texts, causality_types):\n",
    "    def split_cause_effect(value):\n",
    "        \"\"\"Split the cause/effect to extract the main text and group (if applicable).\"\"\"\n",
    "        if \"(\" in value and \")\" in value:\n",
    "            main_text, group = value.rsplit(\"(\", 1)\n",
    "            main_text = main_text.strip()\n",
    "            group = group[:-1].strip()  # Remove the closing parenthesis\n",
    "            return main_text, group\n",
    "        return value, \"Unknown\"\n",
    "\n",
    "    # Split causes and effects into their respective texts and groups\n",
    "    cause_texts, cause_groups = zip(*[split_cause_effect(cause) for cause in causes])\n",
    "    effect_texts, effect_groups = zip(*[split_cause_effect(effect) for effect in effects])\n",
    "\n",
    "    # Create a dictionary to hold the data\n",
    "    data = {\n",
    "        \"Raw_text\": raw_texts,\n",
    "        \"Cause\": cause_texts,\n",
    "        \"Cause_group\": cause_groups,\n",
    "        \"Effect\": effect_texts,\n",
    "        \"Effect_group\": effect_groups,\n",
    "        \"Causality_type\": causality_types\n",
    "    }\n",
    "    \n",
    "    # Create a DataFrame from the data dictionary\n",
    "    df = pd.DataFrame(data)\n",
    "    \n",
    "    return df\n"
   ]
  },
  {
   "cell_type": "markdown",
   "metadata": {},
   "source": [
    "### Drivers Categorization"
   ]
  },
  {
   "cell_type": "markdown",
   "metadata": {},
   "source": [
    "- Allow testing with zero shot, one shot, few shots example\n",
    "- Allow for different AI services\n",
    "- Print raw text\n",
    "- Allow for classification -> later steps\n",
    "- Run a loop through the whole dataframe\n",
    "- Allow for cateforisation of sign of the causality\n",
    "- Allow for validation\n",
    "- Have one “conversation” per document, only put instructions at the start"
   ]
  },
  {
   "cell_type": "markdown",
   "metadata": {},
   "source": [
    "## Experimenting the model"
   ]
  },
  {
   "cell_type": "code",
   "execution_count": 8,
   "metadata": {
    "vscode": {
     "languageId": "python"
    }
   },
   "outputs": [],
   "source": [
    "example_text = who_data.iloc[3:9]"
   ]
  },
  {
   "cell_type": "code",
   "execution_count": 9,
   "metadata": {
    "vscode": {
     "languageId": "python"
    }
   },
   "outputs": [],
   "source": [
    "# Function to split text into chunks\n",
    "def batch(iterable, n=1):\n",
    "    \"\"\"Utility function to batch sentences into chunks.\"\"\"\n",
    "    l = len(iterable)\n",
    "    for ndx in range(0, l, n):\n",
    "        yield iterable[ndx:min(ndx + n, l)]\n",
    "\n",
    "# Assuming who_data[\"Text\"] contains the articles in the dataset\n",
    "def process_articles(who_data, prompt_parts):\n",
    "    all_causal_chains = []\n",
    "    \n",
    "    for idx, row in who_data.iterrows():\n",
    "        text = row[\"Text\"]\n",
    "        \n",
    "        # Split text into sentences and then into chunks of 3 sentences\n",
    "        sentences = text.split(\". \")\n",
    "        chunks = [\". \".join(a) + \".\" for a in batch(sentences, 3)]\n",
    "        \n",
    "        # Create a CausalChain instance with the chunks\n",
    "        cc = CausalChain(chunks=chunks)\n",
    "\n",
    "        # Process and extract cause-effect relationships\n",
    "        cc.create_effects(prompt_parts=prompt_parts)\n",
    "        \n",
    "        # Store the results (causes and effects) for this article\n",
    "        all_causal_chains.append({\n",
    "            \"article_id\": idx,\n",
    "            \"causes\": cc.causes,\n",
    "            \"effects\": cc.effects,\n",
    "            \"outlines\": cc.outlines\n",
    "        })\n",
    "\n",
    "    return all_causal_chains\n"
   ]
  },
  {
   "cell_type": "code",
   "execution_count": 16,
   "metadata": {
    "vscode": {
     "languageId": "python"
    }
   },
   "outputs": [
    {
     "name": "stdout",
     "output_type": "stream",
     "text": [
      "{'include_persona': True, 'include_domain': True, 'include_causality': True, 'include_examples': True}\n"
     ]
    }
   ],
   "source": [
    "# Example usage:\n",
    "prompt_parts = {\n",
    "    'include_persona': True,\n",
    "    'include_domain': True,\n",
    "    'include_causality': True,\n",
    "    'include_examples': True,\n",
    "    'include_negative': True,\n",
    "    'include_mechanism': True,\n",
    "    'include_sign': True\n",
    "}\n",
    "\n",
    "print(prompt_parts)\n",
    "\n",
    "# # Subset who_data using iloc to get a DataFrame\n",
    "# example_text = who_data.iloc[3:9]\n",
    "\n",
    "# # Process the articles in who_data\n",
    "# results = process_articles(example_text, prompt_parts)\n",
    "\n",
    "# # Print results for the first article\n",
    "# print(results[0][\"outlines\"])"
   ]
  },
  {
   "cell_type": "code",
   "execution_count": 20,
   "metadata": {
    "vscode": {
     "languageId": "python"
    }
   },
   "outputs": [
    {
     "name": "stdout",
     "output_type": "stream",
     "text": [
      "\n",
      "        You are an epidemiologist tasked with identifying sentences or phrases from outbreak reports that describe the drivers or contributors to the emergence or transmission of emerging pests and pathogens.\n",
      "        \n",
      "\n",
      "        Here is the definition of DPSIR (Drivers, Pressure, State, Impacts, and Responses) framework, where it shows how drivers are associated with the emergence of disease.\n",
      "        Drivers: underlying socio-economic, environmental, or ecological forces that create conditions favourable for how a disease emerges, spreads or sustains transmission in human, animals or plants.\n",
      "        Pressure: human anthropogenic activities that are mainly responsible for the chances of spillover events and the transmission of pests and pathogens.\n",
      "        State: the current circulation of pests and pathogens, represented as either new case detected, an endemic, an epidemic or a pandemic.\n",
      "        Impacts: the effects caused by pests and pathogens on individuals, communities' socio-economic, and political.\n",
      "        Responses: the actions and interventions taken by governments to manage the occurrence of drivers and pressures, and to control the spread of pests and pathogens and to mitigate the impacts.\n",
      "        \n",
      "\n",
      "        Causality definition: In the reports, causality can take two forms. The first form is \"Intra-sentence causality\", where the “cause” and the “effect” lie in a single sentence, while in \"Inter-sentence causality\", the “cause” and the “effect” lie in different sentences.\n",
      "        \n",
      "\n",
      "        - Single cause, single effect (Type 1)\n",
      "\n",
      "        Example 1: (C1) High population density and mobility in urban areas (C1) have facilitated (E1) the rapid spread of the virus (E1)\". \n",
      "\n",
      "        Example 2: There is (C1) no vaccine for Influenza A(H1N1)v infection currently licensed for use in humans (C1). Seasonal influenza vaccines against human influenza viruses are generally not expected to protect people from (E1) infection with influenza viruses (E1) that normally circulate in pigs, but they can reduce severity.\n",
      "\n",
      "\n",
      "        - Single cause, multiple effects (Type 2)\n",
      "\n",
      "        Example 3: Several countries including Cameroon, Ethiopia, Haiti, Lebanon, Nigeria (north-east of the country), Pakistan, Somalia, Syria and the Democratic Republic of Congo (eastern part of the country) are in the midst of complex (C1) humanitarian crises (C1) with (E1) fragile health systems (E1), (E1) inadequate access to clean water and sanitation (E1) and have (E1) insufficient capacity to respond to the outbreaks (E1)\n",
      "\n",
      "        - Multiple causes, single effect (Type 3)\n",
      "        Example 4: Moreover, (C1) a low index of suspicion (C1), (C1) socio-cultural norms (C1), (C1) community resistance (C1), (C1) limited community knowledge regarding anthrax transmission (C1), (C1) high levels of poverty (C1) and (C1) food insecurity (C1), (C1) a shortage of available vaccines and laboratory reagents (C1), (C1) inadequate carcass disposal (C1) and (C1) decontamination practices (C1) significantly contribute to hampering (E1) the containment of the anthrax outbreak (E1).\n",
      "\n",
      "        Example 5:\n",
      "        The (E1) risk at the national level (E1) is assessed as ‘High’ due to the following:\n",
      "        + In other parts of Timor-Leste (C1) health workers have limited knowledge dog bite and scratch case management (C1) including PEP and RIG administration\n",
      "        + (C2) Insufficient stock of human rabies vaccines (C2) in the government health facilities.\n",
      "\n",
      "        - Multiple causes, multiple effects (Type 4) - Chain of causalities\n",
      "        The text may describe a chain of causality, where one effect becomes then the cause of another effect. To describe the chain, you should number the causes and effects. For example, cause 1 (C1) -> effect 1 (E1), but since effect 1 is also cause of effect 2, you should do cause 1 (C1) -> effect 1 (E1, C2) -> effect 2 (E2). \n",
      "\n",
      "        Example 6: (E2) The risk of insufficient control capacities (E2) is considered high in Zambia due to (C1) concurrent public health emergencies in the country (cholera, measles, COVID-19) (C1) that limit the country’s human and (E1, C2) financial capacities to respond to the current anthrax outbreak adequately (E1, C2).\n",
      "\n",
      "        Example 7: (C1) Surveillance systems specifically targeting endemic transmission of chikungunya or Zika are weak or non-existent (C1) -> (E1, C2) Misdiagnosis between diseases  & Skewed surveillance (E1, C2) -> (E2, C3) Misinform policy decisions (E2, C3) -> (E3)reduced accuracy on the estimation of the true burden of each diseases (E3), poor risk assessments (E3), and non optimal clinical management and resource allocation (E3). \n",
      "\n",
      "        Example 8: (C1) Changes in the predominant circulating serotype (C1) -> (E1, C2) increase the population risk of subsequent exposure to a heterologous DENV serotype (E1, C2), -> (E2) which increases the risk of higher rates of severe dengue and deaths (E2).\n",
      "\n",
      "        \n",
      "\n",
      "        Some sentences contain causal relationships, but the effect may not be related to the disease transmission or emergence. Avoid classifying those causal relationships.\n",
      "\n",
      "        Example 1 (no causality): Because these viruses continue to be detected in swine populations worldwide, further human cases following direct or indirect contact with infected swine can be expected.\n",
      "\n",
      "        Example 2 (no relevant causality): There is some (E1) pressure on the healthcare capacity (E1) due to the (C1) very high number of admissions for dengue (C1); (C1) high vector density (C1); and an (C1) anticipated prolonged monsoon (C1). \n",
      "\n",
      "        Example 3 (no relevant causality): (C1) MVD is a highly virulent disease (C1) that can cause (E1) haemorrhagic fever (E1) and is clinically similar to Ebola virus disease.\n",
      "\n",
      "        \n",
      "\n",
      "        When the text describes/list possible mechanisms behind the cause of transmission or emergence, tag them with (M). A mechanism of causality describes the specific interactions between the pathogen, host, and environment that causes the transmission / emergence. They often describe interactions at the physiological level. \n",
      "\n",
      "        Example 1: The global outbreak 2022 — 2024 has shown that (C1) sexual contact (C1) enables faster and more efficient (E1) spread of the virus (E1) from one person  to another due to (M1) direct contact of mucous membranes between people (M1), (M1) contact with multiple partners (M1), (M1) a possibly shorter incubation period on average (M1), and (M1) a longer infectious period for immunocompromised individuals (M1).\n",
      "\n",
      "        \n",
      "\n",
      "        For each cause-effect relationship, indicate whether each cause (C) is positive (C+) or negative (C-) and each effect (E) is positive (E+) or negative (E-). \n",
      "        Use the list of positive and negative sign words provided to help determine the sign of each cause and effect. Be mindful of sentences with negations (e.g., “does not improve”), which reverses polarity. \n",
      "        Positive sign words: increase, facilitate, support, improve, expand, promote, enable, enhance, accelerate, advance, grow, boost, strengthen, benefit, contribute, progress, initiate, develop, elevate, stimulate, alleviate, optimize, revitalize. \n",
      "        Negative sign words: limit, decrease, reduce, hamper, hinder, restrict, suppress, impair, inhibit, undermine, challenge, disrupt, lack, insufficient, incomplete, challenge, deficit, obstacle, barrier, diminish, shortage, scarcity, obstruct, worsen, decline. \n",
      "\n",
      "        Example 1: “(C1-) a lack of timely access to diagnostics in many areas (C1-), (C1-) incomplete epidemiological investigations (C1-), (C1-) challenges in contact tracing and extensive but inconclusive animal investigations (C1-) continue to hamper rapid response (E1-)”\n",
      "\n",
      "        Example 2: Moreover, (C1-) a low index of suspicion (C1-), (C1) socio-cultural norms (C1), (C1) community resistance (C1), (C1-) limited community knowledge regarding anthrax transmission (C1-), (C1+) high levels of poverty (C1+) and (C1) food insecurity (C1), (C1-) a shortage of available vaccines and laboratory reagents (C1-), (C1-) inadequate carcass disposal (C1-) and (C1) decontamination practices (C1) significantly contribute to hampering (E1-) the containment of the anthrax outbreak (E1-).\n",
      "        \n",
      "\n"
     ]
    }
   ],
   "source": [
    "prompt_designer = PromptDesigner()\n",
    "prompt_with_mechanism = prompt_designer.generate_prompt(\n",
    "    include_persona=True, \n",
    "    include_domain=True, \n",
    "    include_causality=True,\n",
    "    include_examples=True, \n",
    "    include_negative=True,\n",
    "    include_mechanism=True,\n",
    "    include_sign=True\n",
    ")\n",
    "print(prompt_with_mechanism)"
   ]
  },
  {
   "cell_type": "code",
   "execution_count": null,
   "metadata": {
    "vscode": {
     "languageId": "python"
    }
   },
   "outputs": [
    {
     "name": "stdout",
     "output_type": "stream",
     "text": [
      "                                               Cause                 Cause_group Effect                                       Effect_group\n",
      "0  (C1) concurrent public health emergencies in t...  cholera, measles, COVID-19         E1) limit the country’s human and financial ca...\n"
     ]
    }
   ],
   "source": [
    "causes = results[2][\"causes\"]\n",
    "effects = results[2][\"effects\"]\n",
    "\n",
    "# Create a DataFrame of causes and effects\n",
    "df = create_causes_effects_dataframe(causes, effects)\n",
    "\n",
    "# Display the DataFrame\n",
    "print(df)"
   ]
  },
  {
   "cell_type": "code",
   "execution_count": 13,
   "metadata": {
    "vscode": {
     "languageId": "python"
    }
   },
   "outputs": [
    {
     "name": "stdout",
     "output_type": "stream",
     "text": [
      "                                               Cause                 Cause_group Effect                                       Effect_group\n",
      "0  (C1) concurrent public health emergencies in t...  cholera, measles, COVID-19         E1) limit the country’s human and financial ca...\n"
     ]
    }
   ],
   "source": [
    "causes = results[2][\"causes\"]\n",
    "effects = results[2][\"effects\"]\n",
    "\n",
    "# Create a DataFrame of causes and effects\n",
    "df = create_causes_effects_dataframe(causes, effects)\n",
    "\n",
    "# Display the DataFrame\n",
    "print(df)"
   ]
  }
 ],
 "metadata": {
  "kernelspec": {
   "display_name": "Julia 1.10.5",
   "language": "julia",
   "name": "julia-1.10"
  },
  "language_info": {
   "file_extension": ".jl",
   "mimetype": "application/julia",
   "name": "julia",
   "version": "1.10.5"
  }
 },
 "nbformat": 4,
 "nbformat_minor": 2
}
