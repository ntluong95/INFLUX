{
 "cells": [
  {
   "cell_type": "markdown",
   "metadata": {},
   "source": [
    "# ChatGPT & Google Gemini prompt\n"
   ]
  },
  {
   "cell_type": "code",

   "execution_count": 26,
   "metadata": {},
   "outputs": [],
   "source": [
    "import openai\n",
    "from tqdm import tqdm\n",
    "from causal_chains.CausalChain import util  # https://github.com/helliun/causal-chains\n",
    "import pandas as pd\n",
    "import matplotlib.pyplot as plt\n",
    "from IPython.display import display, Markdown\n",
    "from dotenv import load_dotenv\n",
    "import os\n",
    "from sklearn.metrics.pairwise import cosine_similarity\n",
    "from sentence_transformers import SentenceTransformer\n",
    "import google.generativeai as genai\n",
    "import pathlib\n",
    "import textwrap"
   ]
  },
  {
   "cell_type": "code",
   "execution_count": 48,
   "metadata": {},
   "outputs": [],
   "source": [
    "one_shot_example = \"\"\"\n",
    "        Text: The sudden appearance of unlinked cases of mpox in South Africa without a history of international travel, the high HIV prevalence among confirmed cases, and the high case fatality ratio suggest that community transmission is underway, and the cases detected to date represent a small proportion of all mpox cases that might be occurring in the community; it is unknown how long the virus may have been circulating. This may in part be due to the lack of early clinical recognition of an infection with which South Africa previously gained little experience during the ongoing global outbreak, potential pauci-symptomatic manifestation of the disease, or delays in care-seeking behaviour due to limited access to care or fear of stigma.\n",
    "        Cause: lack of early clinical recognition of an infection -> Effect: community transmission of mpox\n",
    "        Cause: pauci-symptomatic manifestation of the disease -> Effect: lack of early clinical recognition of an infection \n",
    "        Cause: delays in care-seeking behaviour -> Effect: lack of early clinical recognition of an infection \n",
    "        Cause: limited access to care -> Effect: delays in care-seeking behaviour \n",
    "        Cause: fear of stigma -> Effect: delays in care-seeking behaviour\n",
    "        \"\"\"\n",
    "\n",
    "prompt = f\"\"\"\n",
    "        Here is an example of how to identify causes (drivers leading to the diseases) and their effects. Noted that all contents are about causes of diseases, potentially sexual behaviors. We identify behaviors for research purpose:\n",
    "\n",
    "        {one_shot_example}\n",
    "        Now, analyze the following text and identify the specific causes and their effects:\n",
    "        Text: {\"In the Democratic Republic of the Congo, most reported cases in known endemic provinces continue to be among children under 15 years of age, especially in young children. Infants and children under five years of age are at highest risk of severe disease and death, particularly where prompt optimal case management is limited or unavailable. The number of cases reported weekly remains consistently high while the outbreak continues to expand geographically. High test positivity among tested cases in most provinces also suggests that undetected transmission is likely ongoing in the community.&nbsp;Transmission of mpox due to clade I MPXV via sexual contact in key populations was first identified in the Democratic Republic of the Congo in 2023. In South Kivu province, mpox transmission is sustained through human-to-human contact (sexual and non-sexual).&nbsp; &nbsp;\"}\n",
    "        List the causes and their corresponding effects in the format 'Cause: [cause] -> Effect: [effect]':\n",
    "        \"\"\""
   ]
  },
  {
   "cell_type": "markdown",
   "metadata": {},
   "source": [
    "Causal text mining (CTM) has been applied to various NLP tasks such as **knowledge base construction, question answering, and text summarization**\n",
    "The methodologies of CTM often involve two phases: **causal sequence classification and causal span detection**\n",
    "\n",
    "- The causal sequence classification is a binary classification task to detect whether the sequence entails causality or not. This task requires a deep understanding of commonsense knowledge, as determining causality necessitates the comprehension of underlying real-world principles and contexts Gao et al.\n",
    "- The causal span detection task aims to distinguish between cause and effect arguments present in causal sequences. This task requires a precise understanding of a complex context that comprises multiple entities and events to discern which parts of sequences correspond to causes and effects and which are noise, in addition to the capabilities previously mentioned.\n",
    "\n",
    "Biomedical causal relations extracted from different resources, such as online journals, books, and reports, can be leveraged to form causal chains, which may result in the discovery of previously unknown relations.\n",
    "\n",
    "CTM include various approaches\n",
    "\n",
    "- <font color=\"#00b050\", style = \"bold\">Knowledged-based system (expert opinions)</font>: relied heavily on domain experts to define rules and patterns for identifying causal relationships in text.\n",
    "- <font color=\"#00b050\">Machine learning:</font> Naive Bayes, Support Vector Machines (SVM), and Conditional Random Fields (CRF) were used to classify and extract causal relationships. These models required extensive feature engineering and relied on lexical and syntactic features such as keywords (\"due to\", \"can cause\"), part-of-speech tags, and dependency relations. [[2024-05-13#Traditional machine learning methods]]\n",
    "- **Deep learning techniques**\n",
    "  - <font color=\"#00b050\">Multiview Convolutional Neural Networks (MVC):</font> This approach leverages multiple views of the input text to capture different aspects of the data. It can combine syntactic, semantic, and positional information to enhance causal relation extraction.\n",
    "  - <font color=\"#00b050\">R</font><font color=\"#00b050\">ecurrent Neural Networks (RNN):</font> BiLSTM (Bidirectional Long Short-Term Memory) models: These models can capture long-range dependencies in text by processing it in both forward and backward directions. Attention mechanisms are often integrated to focus on relevant parts of the text that contribute to causal relationships.\n",
    "  - <font color=\"#00b050\">Graph Neural Networks (GNNs):</font> GNNs can model text as graphs, where nodes represent entities or concepts and edges represent relationships. This approach is beneficial for capturing complex causal structures.\n",
    "  - <font color=\"#00b050\">Transformer Models</font>\n",
    "    - Bidirectional Encoder Representations from Transformers (BERT): BERT is pre-trained on large corpora and can be fine-tuned for specific tasks. It captures context from both directions, making it effective for understanding complex dependencies in text. <font color=\"#f79646\">Variants like BioBERT (for biomedical text) and ClinicalBERT are tailored for specific domains.</font>\n",
    "    - ELMo (Embeddings from Language Models): ELMo generates contextualized word embeddings by considering the entire sentence, providing richer representations for identifying causal relationships.\n",
    "\n",
    "LLMs have demonstrated impressive performance across numerous NLP tasks with zero-shot or few-shot in-context learning **without requiring supervised training** versus **<font color=\"#e36c09\">traditional encoder-based models</font>**\n",
    "\n",
    "ChatGPT often **demonstrates competitive results** in few-shot settings even in financial domain-specific datasets and Japanese datasets, even though a fully trained encoder-based model outperforms ChatGPT. The result indicates that ChatGPT is a **good starting point for various datasets especially when training data are unavailable**, but not a good causal text miner when the training data are readily available.\n",
    "\n",
    "The result indicates that ChatGPT serves as a good starting point when training data are limited as its performance is not influenced by the data size. In contrast, **encoder models depend heavily on data size**\n",
    "\n",
    "ChatGPT struggles with complex causality types, especially those of intra/inter-sentential and implicit causality\n"
   ]
  },
  {
   "cell_type": "code",
   "execution_count": 2,
   "metadata": {},
   "outputs": [],
   "source": [
    "who_data = pd.read_csv(\"../data/corpus.csv\")"
   ]
  },
  {
   "cell_type": "markdown",
   "metadata": {},
   "source": [
    "**Sample sentence**: The sudden appearance of unlinked cases of mpox in South Africa without a history of international travel, the high HIV prevalence among confirmed cases,\n",
    "and the high case fatality ratio suggest that community transmission is underway, and the cases detected to date represent a small proportion of all mpox cases that might be occurring in the community;\n",
    "it is unknown how long the virus may have been circulating. This may in part be due to the lack of early clinical recognition of an infection with which South Africa previously gained little experience\n",
    "during the ongoing global outbreak, potential pauci-symptomatic manifestation of the disease, or delays in care-seeking behaviour due to limited access to care or fear of stigma.\n",
    "\n",
    "**Expected results**:\n",
    "\n",
    "- Cause: lack of early clinical recognition of an infection -> Effects: community transmission of mpox\n",
    "- Cause: pauci-symptomatic manifestation of the disease -> Effects: lack of early clinical recognition of an infection\n",
    "- Cause: delays in care-seeking behaviour -> Effects: lack of early clinical recognition of an infection\n",
    "- Cause: limited access to care -> Effect: delays in care-seeking behaviour\n",
    "- Cause: fear of stigma -> Effect: delays in care-seeking behaviour\n"
   ]
  },
  {
   "cell_type": "code",
   "execution_count": 8,
   "metadata": {},
   "outputs": [],
   "source": [
    "load_dotenv()\n",
    "openai.api_key = os.getenv(\"OPENAI_API_KEY\")\n",
    "\n",
    "\n",
    "class CausalChain:\n",
    "\n",
    "    def __init__(self, chunks=[]):\n",
    "\n",
    "        self.chunks = chunks\n",
    "        self.causes = []\n",
    "        self.effects = []\n",
    "        self.outlines = []\n",
    "\n",
    "    def create_effects(self, batch_size=16):\n",
    "        print(\"Analyzing causation...\")\n",
    "\n",
    "        for chunk in tqdm(self.chunks):\n",
    "            cause_effect_pairs = self.extract_cause_effect(chunk)\n",
    "            for pair in cause_effect_pairs:\n",
    "                cause, effect = pair\n",
    "                self.causes.append(cause)\n",
    "                self.effects.append(effect)\n",
    "                self.outlines.append(f\"Cause: {cause} -> Effect: {effect}\")\n",
    "\n",
    "    def extract_cause_effect(self, chunk):\n",
    "        one_shot_example = \"\"\"\n",
    "        Text: The sudden appearance of unlinked cases of mpox in South Africa without a history of international travel, the high HIV prevalence among confirmed cases, and the high case fatality ratio suggest that community transmission is underway, and the cases detected to date represent a small proportion of all mpox cases that might be occurring in the community; it is unknown how long the virus may have been circulating. This may in part be due to the lack of early clinical recognition of an infection with which South Africa previously gained little experience during the ongoing global outbreak, potential pauci-symptomatic manifestation of the disease, or delays in care-seeking behaviour due to limited access to care or fear of stigma.\n",
    "        Cause: lack of early clinical recognition of an infection -> Effect: community transmission of mpox\n",
    "        Cause: pauci-symptomatic manifestation of the disease -> Effect: lack of early clinical recognition of an infection \n",
    "        Cause: delays in care-seeking behaviour -> Effect: lack of early clinical recognition of an infection \n",
    "        Cause: limited access to care -> Effect: delays in care-seeking behaviour \n",
    "        Cause: fear of stigma -> Effect: delays in care-seeking behaviour\n",
    "        \"\"\"\n",
    "\n",
    "        prompt = f\"\"\"\n",
    "        Here is an example of how to identify causes (drivers leading to the diseases) and their effects (intermediate drivers leading to the diseases, excluding mortality and impacts of diseases):\n",
    "\n",
    "\n",
    "        {one_shot_example}\n",
    "        Now, analyze the following text and identify the specific causes and their effects:\n",
    "        Text: {chunk}\n",
    "        List the causes and their corresponding effects in the format 'Cause: [cause] -> Effect: [effect]':\n",
    "        \"\"\"\n",
    "\n",
    "        response = openai.ChatCompletion.create(\n",
    "            model=\"gpt-3.5-turbo\",\n",
    "            messages=[\n",
    "                {\n",
    "                    \"role\": \"system\",\n",
    "                    \"content\": \"You are a helpful assistant specialized in identifying drivers leading to diseases.\",\n",
    "                },\n",
    "                {\"role\": \"user\", \"content\": prompt},\n",
    "            ],\n",
    "            max_tokens=300,\n",
    "            temperature=0.5,\n",
    "        )\n",
    "\n",
    "        response_text = response[\"choices\"][0][\"message\"][\"content\"]\n",
    "        cause_effect_pairs = []\n",
    "\n",
    "        for line in response_text.split(\"\\n\"):\n",
    "            if \"Cause:\" in line and \"-> Effect:\" in line:\n",
    "                cause = line.split(\"Cause:\")[1].split(\"-> Effect:\")[0].strip()\n",
    "                effect = line.split(\"-> Effect:\")[1].strip()\n",
    "                cause_effect_pairs.append((cause, effect))\n",
    "        return cause_effect_pairs"
   ]
  },
  {
   "cell_type": "code",
   "execution_count": 9,
   "metadata": {},
   "outputs": [],
   "source": [
    "text = who_data[\"Text\"][9]\n",
    "chunks = util.create_chunks(text)\n",
    "cc = CausalChain(chunks)"
   ]
  },
  {
   "cell_type": "code",
   "execution_count": 3,
   "metadata": {},
   "outputs": [
    {
     "data": {
      "text/plain": [
       "'In the Democratic Republic of the Congo, most reported cases in known endemic provinces continue to be among children under 15 years of age, especially in young children. Infants and children under five years of age are at highest risk of severe disease and death, particularly where prompt optimal case management is limited or unavailable. The number of cases reported weekly remains consistently high while the outbreak continues to expand geographically. High test positivity among tested cases in most provinces also suggests that undetected transmission is likely ongoing in the community.&nbsp;Transmission of mpox due to clade I MPXV via sexual contact in key populations was first identified in the Democratic Republic of the Congo in 2023. In South Kivu province, mpox transmission is sustained through human-to-human contact (sexual and non-sexual).&nbsp; &nbsp;The global outbreak 2022 &mdash; 2024 has shown that sexual contact enables faster and more efficient spread of the virus from one person to another due to direct contact of mucous membranes between people, contact with multiple partners, a possibly shorter incubation period on average, and a longer infectious period for immunocompromised individuals. The newly documented occurrence of mpox in North Kivu is very concerning. The additional public health impact of sustained human-to-human sexual transmission of mpox in the country indicates that a vigorous response is required.&nbsp;One of the main risk factors for severe disease and death among persons with mpox is immune suppression, especially among those with advanced HIV infection. The prevalence of HIV in the general adult population in the Democratic Republic of the Congo is estimated to be approximately 1%, higher in the eastern provinces than elsewhere, and higher in key populations including estimates of a prevalence of 7.5% among sex workers and 7.1% among men who have sex with men. The higher HIV prevalence and the challenge in accessing antiretroviral treatment puts these groups at higher risk for severe mpox and death if they get infected. The occurrence of cases among a broad range of occupational groups and within households also suggests that the outbreak in South Kivu is already spreading into the wider community.&nbsp;Understanding of the dynamics of MPXV transmission in the Democratic Republic of the Congo is improving with the emergency measures being put in place. Nonetheless, a lack of timely access to diagnostics in many areas, incomplete epidemiological investigations, challenges in contact tracing and extensive but inconclusive animal investigations continue to hamper rapid response. While zoonotic spill over events are considered to still represent a major source of exposure in the country, the animal reservoir remains unknown. The new features of human-to-human transmission observed in South Kivu and North Kivu raise additional concern about a further rapid expansion of the outbreak in the eastern mining provinces, as well as the rest of the country and other countries which share national borders.&nbsp;From 1 January to 26 May 2024, 7 851 suspected cases were reported, compared to 3 924 suspected cases reported during the same period in 2023. The geographic expansion to new areas, such as Kinshasa and North Kivu, continues in 2024. Only 3 of 26 provinces have not yet reported mpox in 2024. While some cases in the newly affected provinces are linked to travel from endemic areas, others represent secondary or sustained human-to-human transmission, and the source of infection for several of them remains unknown. The current situation remains extremely concerning as MPXV continues to move into the immunity gap left following eradication of smallpox.\\u202f&nbsp;Surveillance and investigating alerts are limited by logistical and resource challenges, and laboratory capacities are limited to two national laboratories, one in Kinshasa and one in Goma so only 18% of reported cases in 2024 have been tested by PCR. Testing through GeneXpert has begun in Equateur and South Kivu province, and validation of the findings is ongoing. Response capacities to mpox in the country rely to a great extent on the support of WHO and other partners.&nbsp;Immunogenicity and safety studies of MVA-BN vaccine have been ongoing in the Democratic Republic of the Congo since 2016. The national immunization technical advisory group (GTCV) released recommendations on the use of mpox vaccines in the country for persons at risk. These included recommendations for preferred use of LC16 in children and use of MVA-BN in adults. The Ministry of Public Health, Hygiene and Prevention (MSPHP) has announced its intention to vaccinate persons at risk through use of LC16 and MVA-BN vaccinia-based mpox vaccines and asked the national regulatory authority (ACOREP),) to authorize temporary use of these vaccines. This regulatory review is underway. Further clinical efficacy and safety studies are being planned for LC16 in the country. The Expanded Programme on Immunization (EPI) is developing emergency response immunization strategies for persons and areas at risk through extensive consultation internally, with WHO and with partners.&nbsp;The antiviral medication tecovirimat is undergoing clinical efficacy studies in two study sites in the Democratic Republic of the Congo: Kole in Sankuru Province and Tunde in Maniema Province. This study is expected to complete recruitment in 2024. Access to tecovirimat is possible through request from WHO for compassionate use or through application for use under the WHO MEURI protocol.&nbsp;Risk communication and community engagement are of critical importance for modes of transmission historically reported as community outbreaks including from consumption of bushmeat, as well as for the newly described risk of sexual transmission, particularly among sex workers and other key populations. According to a study conducted by USAID and Breakthrough Action in 2022, awareness of the risks associated with mpox among the general population in the Democratic Republic of the Congo was low, despite the disease being reported in remote endemic areas since 1970. The lack of effective dissemination to date of health messages for key populations such as sex workers or men who have sex with men in the country exposes them to further risk. Anyone suffering from disfiguring skin conditions, including mpox, may suffer from fear and stigma, which can be further compounded for persons at risk of acquiring the disease through sexual contact.&nbsp;The continued development of the mpox outbreak in the Democratic Republic of the Congo remains concerning due to:&nbsp;The continuing high incidence of cases reported in 2024 compared to previous years, with two thirds of reported cases and more than four fifths of deaths occurring primarily among children in known endemic areas.&nbsp;Transmission through sexual contact of clade I MPXV among key populations and other groups with multiple partners and high mobility in densely populated mining areas has led to sustained community transmission in South Kivu.&nbsp;&nbsp;The outbreak characterized by sexual contact transmission has revealed a new strain of MPXV with genetic mutations suggestive of extended human-to-human transmission and geographic expansion. This new MPXV strain is affecting newly reported areas in southern and eastern provinces. While it is not known whether this variant is inherently more transmissible or leads to more severe diseases than other virus strains circulating in the country, co-infections with HIV and other sexually transmitted infections are being documented.&nbsp;&nbsp;In 2023 and 2024, mpox cases have occurred in \\u200b\\u200bKinshasa associated with river boat travel and leading to outbreaks in the city. At the time of reporting, new cases in the Nsele health zone in Kinshasa have been confirmed.&nbsp;There is high (around 70% overall) or very high (around 90% in South Kivu) test positivity among reported cases, despite efforts to significantly expand surveillance. This suggests significant under detection or underreporting of transmission.&nbsp;While the government has activated an emergency response across the country with support from in-country and global partners, resources to respond over such a wide geographic area remain insufficient, and resource mobilization is slow.&nbsp;&nbsp;Public awareness remains limited, resources are scarce, and technical as well as financial support is needed to ensure a robust response at provincial/local, national, and international levels.&nbsp;A concurrent outbreak of mpox is occurring in the Republic of Congo, with cases genetically similar to the MPXV strain circulating in neighbouring endemic provinces of the Democratic Republic of the Congo provinces.&nbsp;&nbsp;&nbsp;A new outbreak of mpox due to clade IIb MPXV linked to the ongoing global outbreak is occurring among key populations in the Republic of South Africa, with to date only cases with severe disease and advanced HIV infection being reported, suggesting extensive undetected circulation of the virus. Travel between South Africa and the Democratic Republic of the Congo linked to commercial activity between the two countries further puts populations at risk.&nbsp;In epidemiological week 16 to 18, an outbreak of 45 suspected cases of mpox were reported in two prison cells in Lodja Health Zone in Sankuru Province of the Democratic Republic of the Congo. Samples were collected and sent to the lab for confirmation and results are currently awaited.'"
      ]
     },
     "execution_count": null,
     "metadata": {},
     "output_type": "execute_result"
    }
   ],
   "source": [
    "who_data[\"Text\"][9]"
   ]
  },
  {
   "cell_type": "markdown",
   "metadata": {},
   "source": [
    "In the Democratic Republic of the Congo, most reported cases in known endemic provinces continue to be among children under 15 years of age, especially in young children. Infants and children under five years of age are at highest risk of severe disease and death, **particularly where prompt optimal case management is limited or unavailable**. The number of cases reported weekly remains consistently high while the outbreak continues to expand geographically. High test positivity among tested cases in most provinces also suggests that **undetected transmission** is likely ongoing in the community. Transmission of mpox due to clade I MPXV via **sexual contact** in key populations was first identified in the Democratic Republic of the Congo in 2023. In South Kivu province, mpox transmission is sustained through **human-to-human contact (sexual and non-sexual)**. The global outbreak 2022 — 2024 has shown that **sexual contact** enables faster and more efficient spread of the virus from one person to another due to direct contact of mucous membranes between people, contact with multiple partners, a possibly shorter incubation period on average, and a longer infectious period for immunocompromised individuals. The newly documented occurrence of mpox in North Kivu is very concerning. The additional public health impact of sustained human-to-human sexual transmission of mpox in the country indicates that a vigorous response is required. One of the main risk factors for severe disease and death among persons with mpox is **immune suppression**, especially among those with advanced HIV infection. The prevalence of HIV in the general adult population in the Democratic Republic of the Congo is estimated to be approximately 1%, higher in the eastern provinces than elsewhere, and higher in key populations including estimates of a prevalence of 7.5% among sex workers and 7.1% among men who have sex with men. The **higher HIV prevalence** and the **challenge in accessing antiretroviral treatment** puts these groups at higher risk for severe mpox and death if they get infected. The occurrence of cases among a broad range of occupational groups and within households also suggests that the outbreak in South Kivu is already spreading into the wider community. Understanding of the dynamics of MPXV transmission in the Democratic Republic of the Congo is improving with the emergency measures being put in place. Nonetheless, a **lack of timely access to diagnostics in many areas**, **incomplete epidemiological investigations**, **challenges in contact tracing** and **extensive but inconclusive animal investigations** continue to hamper rapid response. While **zoonotic spill over events** are considered to still represent a major source of exposure in the country, the animal reservoir remains unknown.\n"
   ]
  },
  {
   "cell_type": "code",
   "execution_count": null,
   "metadata": {},
   "outputs": [],
   "source": [
    "cc.create_effects()"
   ]
  },
  {
   "cell_type": "code",
   "execution_count": null,
   "metadata": {},
   "outputs": [],
   "source": [
    "def create_causes_effects_dataframe(causes, effects):\n",
    "    data = {\"Cause\": causes, \"Effect\": effects}\n",
    "    df = pd.DataFrame(data)\n",
    "    return df\n",
    "\n",
    "\n",
    "df = create_causes_effects_dataframe(cc.causes, cc.effects)\n",
    "display(df)"
   ]
  },
  {
   "cell_type": "code",
   "execution_count": null,
   "metadata": {},
   "outputs": [],
   "source": [
    "# Extract causes and effects\n",
    "causes = cc.causes\n",
    "effects = cc.effects\n",
    "\n",
    "# Step 2: Convert Causes and Effects to Embeddings\n",
    "model = SentenceTransformer(\"paraphrase-MiniLM-L6-v2\")\n",
    "cause_embeddings = model.encode(causes)\n",
    "effect_embeddings = model.encode(effects)\n",
    "\n",
    "# Step 3: Calculate Cosine Similarity within Causes and Effects\n",
    "cause_similarities = cosine_similarity(cause_embeddings)\n",
    "effect_similarities = cosine_similarity(effect_embeddings)\n",
    "\n",
    "# Step 4: Print Cause Similarities\n",
    "print(\"Cause Similarities:\")\n",
    "for i, cause in enumerate(causes):\n",
    "    print(f\"Cause: {cause}\")\n",
    "    for j, similarity in enumerate(cause_similarities[i]):\n",
    "        if i != j:  # Exclude self-similarity\n",
    "            print(f\"    Similar to Cause: {causes[j]}, Similarity: {similarity:.4f}\")\n",
    "    print()\n",
    "\n",
    "# Step 4: Print Effect Similarities\n",
    "print(\"Effect Similarities:\")\n",
    "for i, effect in enumerate(effects):\n",
    "    print(f\"Effect: {effect}\")\n",
    "    for j, similarity in enumerate(effect_similarities[i]):\n",
    "        if i != j:  # Exclude self-similarity\n",
    "            print(f\"    Similar to Effect: {effects[j]}, Similarity: {similarity:.4f}\")\n",
    "    print()"
   ]
  },
  {
   "cell_type": "code",
   "execution_count": 8,
   "metadata": {},
   "outputs": [
    {
     "name": "stdout",
     "output_type": "stream",
     "text": [
      "Analyzing causation...\n",
      "Analyzing causation...\n"
     ]
    },
    {
     "name": "stderr",
     "output_type": "stream",
     "text": [
      "\r  0%|                                                   | 0/12 [00:00<?, ?it/s]"
     ]
    },
    {
     "name": "stderr",
     "output_type": "stream",
     "text": [
      "\r  0%|                                                   | 0/12 [00:05<?, ?it/s]"
     ]
    },
    {
     "name": "stderr",
     "output_type": "stream",
     "text": [
      "\n"
     ]
    },
    {
     "ename": "AttributeError",
     "evalue": "'RepeatedComposite' object has no attribute 'split'",
     "output_type": "error",
     "traceback": [
      "\u001b[1;31m---------------------------------------------------------------------------\u001b[0m\n",
      "\u001b[1;31mAttributeError\u001b[0m                            Traceback (most recent call last)\n",
      "Cell \u001b[1;32mIn[8], line 85\u001b[0m\n",
      "\u001b[0;32m     83\u001b[0m chunks \u001b[38;5;241m=\u001b[39m util\u001b[38;5;241m.\u001b[39mcreate_chunks(text)\n",
      "\u001b[0;32m     84\u001b[0m cc \u001b[38;5;241m=\u001b[39m CausalChain(chunks)\n",
      "\u001b[1;32m---> 85\u001b[0m \u001b[43mcc\u001b[49m\u001b[38;5;241;43m.\u001b[39;49m\u001b[43mcreate_effects\u001b[49m\u001b[43m(\u001b[49m\u001b[43m)\u001b[49m\n",
      "\u001b[0;32m     87\u001b[0m df \u001b[38;5;241m=\u001b[39m create_causes_effects_dataframe(cc\u001b[38;5;241m.\u001b[39mcauses, cc\u001b[38;5;241m.\u001b[39meffects)\n",
      "\u001b[0;32m     88\u001b[0m display(df)\n",
      "\n",
      "Cell \u001b[1;32mIn[8], line 43\u001b[0m, in \u001b[0;36mCausalChain.create_effects\u001b[1;34m(self, batch_size)\u001b[0m\n",
      "\u001b[0;32m     40\u001b[0m \u001b[38;5;28mprint\u001b[39m(\u001b[38;5;124m\"\u001b[39m\u001b[38;5;124mAnalyzing causation...\u001b[39m\u001b[38;5;124m\"\u001b[39m)\n",
      "\u001b[0;32m     42\u001b[0m \u001b[38;5;28;01mfor\u001b[39;00m chunk \u001b[38;5;129;01min\u001b[39;00m tqdm(\u001b[38;5;28mself\u001b[39m\u001b[38;5;241m.\u001b[39mchunks):\n",
      "\u001b[1;32m---> 43\u001b[0m     cause_effect_pairs \u001b[38;5;241m=\u001b[39m \u001b[38;5;28;43mself\u001b[39;49m\u001b[38;5;241;43m.\u001b[39;49m\u001b[43mextract_cause_effect\u001b[49m\u001b[43m(\u001b[49m\u001b[43mchunk\u001b[49m\u001b[43m)\u001b[49m\n",
      "\u001b[0;32m     44\u001b[0m     \u001b[38;5;28;01mfor\u001b[39;00m pair \u001b[38;5;129;01min\u001b[39;00m cause_effect_pairs:\n",
      "\u001b[0;32m     45\u001b[0m         cause, effect \u001b[38;5;241m=\u001b[39m pair\n",
      "\n",
      "Cell \u001b[1;32mIn[8], line 67\u001b[0m, in \u001b[0;36mCausalChain.extract_cause_effect\u001b[1;34m(self, chunk)\u001b[0m\n",
      "\u001b[0;32m     64\u001b[0m response_text \u001b[38;5;241m=\u001b[39m response\u001b[38;5;241m.\u001b[39mcandidates  \u001b[38;5;66;03m# Access the generated text correctly\u001b[39;00m\n",
      "\u001b[0;32m     66\u001b[0m cause_effect_pairs \u001b[38;5;241m=\u001b[39m []\n",
      "\u001b[1;32m---> 67\u001b[0m \u001b[38;5;28;01mfor\u001b[39;00m line \u001b[38;5;129;01min\u001b[39;00m \u001b[43mresponse_text\u001b[49m\u001b[38;5;241;43m.\u001b[39;49m\u001b[43msplit\u001b[49m(\u001b[38;5;124m\"\u001b[39m\u001b[38;5;130;01m\\n\u001b[39;00m\u001b[38;5;124m\"\u001b[39m):\n",
      "\u001b[0;32m     68\u001b[0m     \u001b[38;5;28;01mif\u001b[39;00m \u001b[38;5;124m\"\u001b[39m\u001b[38;5;124mCause:\u001b[39m\u001b[38;5;124m\"\u001b[39m \u001b[38;5;129;01min\u001b[39;00m line \u001b[38;5;129;01mand\u001b[39;00m \u001b[38;5;124m\"\u001b[39m\u001b[38;5;124m-> Effect:\u001b[39m\u001b[38;5;124m\"\u001b[39m \u001b[38;5;129;01min\u001b[39;00m line:\n",
      "\u001b[0;32m     69\u001b[0m         cause \u001b[38;5;241m=\u001b[39m line\u001b[38;5;241m.\u001b[39msplit(\u001b[38;5;124m\"\u001b[39m\u001b[38;5;124mCause:\u001b[39m\u001b[38;5;124m\"\u001b[39m)[\u001b[38;5;241m1\u001b[39m]\u001b[38;5;241m.\u001b[39msplit(\u001b[38;5;124m\"\u001b[39m\u001b[38;5;124m-> Effect:\u001b[39m\u001b[38;5;124m\"\u001b[39m)[\u001b[38;5;241m0\u001b[39m]\u001b[38;5;241m.\u001b[39mstrip()\n",
      "\n",
      "\u001b[1;31mAttributeError\u001b[0m: 'RepeatedComposite' object has no attribute 'split'"
     ]
    }
   ],
   "source": [
    "import openai\n",
    "from tqdm import tqdm\n",
    "from causal_chains.CausalChain import util \n",
    "import pandas as pd\n",
    "from IPython.display import display\n",
    "from dotenv import load_dotenv\n",
    "import os\n",
    "import google.generativeai as genai\n",
    "from google.api_core import retry\n",
    "from google.auth.credentials import AnonymousCredentials\n",
    "\n",
    "# Load environment variables (you'll need to set these)\n",
    "load_dotenv()\n",
    "gemini_api_key = os.getenv(\"GEMINI_API_KEY\")\n",
    "\n",
    "# Initialize the Gemini API client\n",
    "genai.configure(api_key=gemini_api_key)\n",
    "\n",
    "\n",
    "# Load WHO data (replace with your actual path)\n",
    "who_data = pd.read_csv(\"../data/corpus.csv\")\n",
    "\n",
    "\n",
    "class CausalChain:\n",
    "    def __init__(self, chunks=[]):\n",
    "        self.chunks = chunks\n",
    "        self.causes = []\n",
    "        self.effects = []\n",
    "        self.outlines = []\n",
    "        self.one_shot_example = \"\"\"\n",
    "        Text: The sudden appearance of unlinked cases of mpox in South Africa without a history of international travel, the high HIV prevalence among confirmed cases, and the high case fatality ratio suggest that community transmission is underway, and the cases detected to date represent a small proportion of all mpox cases that might be occurring in the community; it is unknown how long the virus may have been circulating. This may in part be due to the lack of early clinical recognition of an infection with which South Africa previously gained little experience during the ongoing global outbreak, potential pauci-symptomatic manifestation of the disease, or delays in care-seeking behaviour due to limited access to care or fear of stigma.\n",
    "        Cause: lack of early clinical recognition of an infection -> Effect: community transmission of mpox\n",
    "        Cause: pauci-symptomatic manifestation of the disease -> Effect: lack of early clinical recognition of an infection \n",
    "        Cause: delays in care-seeking behaviour -> Effect: lack of early clinical recognition of an infection \n",
    "        Cause: limited access to care -> Effect: delays in care-seeking behaviour \n",
    "        Cause: fear of stigma -> Effect: delays in care-seeking behaviour\n",
    "        \"\"\"\n",
    "\n",
    "    def create_effects(self, batch_size=16):\n",
    "        print(\"Analyzing causation...\")\n",
    "\n",
    "        for chunk in tqdm(self.chunks):\n",
    "            cause_effect_pairs = self.extract_cause_effect(chunk)\n",
    "            for pair in cause_effect_pairs:\n",
    "                cause, effect = pair\n",
    "                self.causes.append(cause)\n",
    "                self.effects.append(effect)\n",
    "                self.outlines.append(f\"Cause: {cause} -> Effect: {effect}\")\n",
    "\n",
    "    def extract_cause_effect(self, chunk):\n",
    "        prompt = f\"\"\"\n",
    "        Here is an example of how to identify causes (drivers leading to diseases) and their effects (intermediate drivers leading to the diseases, excluding mortality and impacts of diseases):\n",
    "\n",
    "        {self.one_shot_example}\n",
    "\n",
    "        Now, analyze the following text and identify the specific causes and their effects:\n",
    "        Text: {chunk}\n",
    "        List the causes and their corresponding effects in the format 'Cause: [cause] -> Effect: [effect]':\n",
    "        \"\"\"\n",
    "\n",
    "        # Use Gemini to generate responses\n",
    "\n",
    "        response = genai.GenerativeModel('gemini-1.5-pro').generate_content(prompt)\n",
    "        response_text = response.candidates  # Access the generated text correctly\n",
    "\n",
    "        cause_effect_pairs = []\n",
    "        for line in response_text.split(\"\\n\"):\n",
    "            if \"Cause:\" in line and \"-> Effect:\" in line:\n",
    "                cause = line.split(\"Cause:\")[1].split(\"-> Effect:\")[0].strip()\n",
    "                effect = line.split(\"-> Effect:\")[1].strip()\n",
    "                cause_effect_pairs.append((cause, effect))\n",
    "        return cause_effect_pairs\n",
    "\n",
    "\n",
    "def create_causes_effects_dataframe(causes, effects):\n",
    "    data = {\"Cause\": causes, \"Effect\": effects}\n",
    "    df = pd.DataFrame(data)\n",
    "    return df\n",
    "\n",
    "\n",
    "# Example usage (assuming your who_data and other parts are set up)\n",
    "text = who_data[\"Text\"][9]\n",
    "chunks = util.create_chunks(text)\n",
    "cc = CausalChain(chunks)\n",
    "cc.create_effects()\n",
    "\n",
    "df = create_causes_effects_dataframe(cc.causes, cc.effects)\n",
    "display(df)\n"
   ]
  }
 ],
 "metadata": {
  "language_info": {
   "name": "python"
  }
 },
 "nbformat": 4,
 "nbformat_minor": 2
}
