{
 "cells": [
  {
   "cell_type": "code",
   "execution_count": 37,
   "metadata": {},
   "outputs": [],
   "source": [
    "import os\n",
    "import pandas as pd\n",
    "import networkx as nx\n",
    "import matplotlib.pyplot as plt\n",
    "from tqdm import tqdm\n",
    "from IPython.display import display, Markdown\n",
    "from dotenv import load_dotenv\n",
    "from sklearn.metrics.pairwise import cosine_similarity\n",
    "from sentence_transformers import SentenceTransformer\n",
    "from causal_chains.CausalChain import util  # https://github.com/helliun/causal-chains\n",
    "\n",
    "import google.generativeai as genai\n",
    "\n",
    "from IPython.display import display\n",
    "from IPython.display import Markdown\n",
    "\n",
    "import pathlib\n",
    "import textwrap\n",
    "def to_markdown(text):\n",
    "  text = text.replace('•', '  *')\n",
    "  return Markdown(textwrap.indent(text, '> ', predicate=lambda _: True))"
   ]
  },
  {
   "cell_type": "code",
   "execution_count": 38,
   "metadata": {},
   "outputs": [],
   "source": [
    "# Load WHO data\n",
    "who_data = pd.read_csv(\"../data/corpus.csv\")"
   ]
  },
  {
   "cell_type": "code",
   "execution_count": 41,
   "metadata": {},
   "outputs": [],
   "source": [
    "\n",
    "# Load environment variables\n",
    "load_dotenv()\n",
    "gemini_api_key = os.getenv(\"GEMINI_API_KEY\")\n",
    "\n",
    "# Initialize the Gemini API client\n",
    "genai.configure(api_key=gemini_api_key)\n",
    "\n",
    "\n",
    "class CausalChain:\n",
    "    def __init__(self, chunks=[]):\n",
    "        self.chunks = chunks\n",
    "        self.causes = []\n",
    "        self.effects = []\n",
    "        self.outlines = []\n",
    "\n",
    "    def create_effects(self, batch_size=16):\n",
    "        print(\"Analyzing causation...\")\n",
    "\n",
    "        for chunk in tqdm(self.chunks):\n",
    "            cause_effect_pairs = self.extract_cause_effect(chunk)\n",
    "            for pair in cause_effect_pairs:\n",
    "                cause, effect = pair\n",
    "                self.causes.append(cause)\n",
    "                self.effects.append(effect)\n",
    "                self.outlines.append(f\"Cause: {cause} -> Effect: {effect}\")\n",
    "                # Print formatted causes and effects\n",
    "                display(Markdown(f\"**Cause:** {cause}  \\n**Effect:** {effect}\"))\n",
    "\n",
    "    def extract_cause_effect(self, chunk):\n",
    "        one_shot_example = \"\"\"\n",
    "        Text: The sudden appearance of unlinked cases of mpox in South Africa without a history of international travel, the high HIV prevalence among confirmed cases, and the high case fatality ratio suggest that community transmission is underway, and the cases detected to date represent a small proportion of all mpox cases that might be occurring in the community; it is unknown how long the virus may have been circulating. This may in part be due to the lack of early clinical recognition of an infection with which South Africa previously gained little experience during the ongoing global outbreak, potential pauci-symptomatic manifestation of the disease, or delays in care-seeking behaviour due to limited access to care or fear of stigma.\n",
    "        Cause: lack of early clinical recognition of an infection -> Effect: community transmission of mpox\n",
    "        Cause: pauci-symptomatic manifestation of the disease -> Effect: lack of early clinical recognition of an infection \n",
    "        Cause: delays in care-seeking behaviour -> Effect: lack of early clinical recognition of an infection \n",
    "        Cause: limited access to care -> Effect: delays in care-seeking behaviour \n",
    "        Cause: fear of stigma -> Effect: delays in care-seeking behaviour\n",
    "        \"\"\"\n",
    "\n",
    "        prompt = f\"\"\"\n",
    "        Here is an example of how to identify causes (drivers leading to the diseases) and their effects (intermediate drivers leading to the diseases, excluding mortality and impacts of diseases):\n",
    "\n",
    "        {one_shot_example}\n",
    "        Now, analyze the following text and identify the specific causes and their effects:\n",
    "        Text: {chunk}\n",
    "        List the causes and their corresponding effects in the format 'Cause: [cause] -> Effect: [effect]':\n",
    "        \"\"\"\n",
    "\n",
    "        response = genai.GenerativeModel('gemini-1.5-pro').generate_content(prompt)\n",
    "        response_text = response.candidates[0].content.parts[0].text\n",
    "        cause_effect_pairs = []\n",
    "\n",
    "        for line in response_text.split(\"\\n\"):\n",
    "            if \"Cause:\" in line and \"-> Effect:\" in line:\n",
    "                cause = line.split(\"Cause:\")[1].split(\"-> Effect:\")[0].strip()\n",
    "                effect = line.split(\"-> Effect:\")[1].strip()\n",
    "                cause_effect_pairs.append((cause, effect))\n",
    "        return cause_effect_pairs"
   ]
  },
  {
   "cell_type": "code",
   "execution_count": 42,
   "metadata": {},
   "outputs": [
    {
     "name": "stdout",
     "output_type": "stream",
     "text": [
      "Analyzing causation...\n",
      "Analyzing causation...\n"
     ]
    },
    {
     "name": "stderr",
     "output_type": "stream",
     "text": [
      "\r  0%|                                                   | 0/12 [00:00<?, ?it/s]"
     ]
    },
    {
     "data": {
      "text/markdown": [
       "**Cause:** Most cases being reported in children under 15 years of age, especially young children  \n",
       "**Effect:** High risk of severe disease and death in infants and children under five**"
      ],
      "text/plain": [
       "<IPython.core.display.Markdown object>"
      ]
     },
     "metadata": {},
     "output_type": "display_data"
    },
    {
     "data": {
      "text/markdown": [
       "**Cause:** Limited or unavailable prompt optimal case management  \n",
       "**Effect:** High risk of severe disease and death in infants and children under five**"
      ],
      "text/plain": [
       "<IPython.core.display.Markdown object>"
      ]
     },
     "metadata": {},
     "output_type": "display_data"
    },
    {
     "data": {
      "text/markdown": [
       "**Cause:** Continued high weekly case count  \n",
       "**Effect:** Geographic expansion of the outbreak**"
      ],
      "text/plain": [
       "<IPython.core.display.Markdown object>"
      ]
     },
     "metadata": {},
     "output_type": "display_data"
    },
    {
     "name": "stderr",
     "output_type": "stream",
     "text": [
      "\r  8%|███▌                                       | 1/12 [00:03<00:34,  3.10s/it]"
     ]
    },
    {
     "name": "stderr",
     "output_type": "stream",
     "text": [
      "\r  8%|███▌                                       | 1/12 [00:06<01:12,  6.62s/it]"
     ]
    },
    {
     "name": "stderr",
     "output_type": "stream",
     "text": [
      "\n"
     ]
    },
    {
     "ename": "IndexError",
     "evalue": "list index out of range",
     "output_type": "error",
     "traceback": [
      "\u001b[1;31m---------------------------------------------------------------------------\u001b[0m\n",
      "\u001b[1;31mIndexError\u001b[0m                                Traceback (most recent call last)\n",
      "Cell \u001b[1;32mIn[42], line 4\u001b[0m\n",
      "\u001b[0;32m      2\u001b[0m chunks \u001b[38;5;241m=\u001b[39m util\u001b[38;5;241m.\u001b[39mcreate_chunks(text)\n",
      "\u001b[0;32m      3\u001b[0m cc \u001b[38;5;241m=\u001b[39m CausalChain(chunks)\n",
      "\u001b[1;32m----> 4\u001b[0m \u001b[43mcc\u001b[49m\u001b[38;5;241;43m.\u001b[39;49m\u001b[43mcreate_effects\u001b[49m\u001b[43m(\u001b[49m\u001b[43m)\u001b[49m\n",
      "\n",
      "Cell \u001b[1;32mIn[41], line 20\u001b[0m, in \u001b[0;36mCausalChain.create_effects\u001b[1;34m(self, batch_size)\u001b[0m\n",
      "\u001b[0;32m     17\u001b[0m \u001b[38;5;28mprint\u001b[39m(\u001b[38;5;124m\"\u001b[39m\u001b[38;5;124mAnalyzing causation...\u001b[39m\u001b[38;5;124m\"\u001b[39m)\n",
      "\u001b[0;32m     19\u001b[0m \u001b[38;5;28;01mfor\u001b[39;00m chunk \u001b[38;5;129;01min\u001b[39;00m tqdm(\u001b[38;5;28mself\u001b[39m\u001b[38;5;241m.\u001b[39mchunks):\n",
      "\u001b[1;32m---> 20\u001b[0m     cause_effect_pairs \u001b[38;5;241m=\u001b[39m \u001b[38;5;28;43mself\u001b[39;49m\u001b[38;5;241;43m.\u001b[39;49m\u001b[43mextract_cause_effect\u001b[49m\u001b[43m(\u001b[49m\u001b[43mchunk\u001b[49m\u001b[43m)\u001b[49m\n",
      "\u001b[0;32m     21\u001b[0m     \u001b[38;5;28;01mfor\u001b[39;00m pair \u001b[38;5;129;01min\u001b[39;00m cause_effect_pairs:\n",
      "\u001b[0;32m     22\u001b[0m         cause, effect \u001b[38;5;241m=\u001b[39m pair\n",
      "\n",
      "Cell \u001b[1;32mIn[41], line 49\u001b[0m, in \u001b[0;36mCausalChain.extract_cause_effect\u001b[1;34m(self, chunk)\u001b[0m\n",
      "\u001b[0;32m     39\u001b[0m prompt \u001b[38;5;241m=\u001b[39m \u001b[38;5;124mf\u001b[39m\u001b[38;5;124m\"\"\"\u001b[39m\n",
      "\u001b[0;32m     40\u001b[0m \u001b[38;5;124mHere is an example of how to identify causes (drivers leading to the diseases) and their effects (intermediate drivers leading to the diseases, excluding mortality and impacts of diseases):\u001b[39m\n",
      "\u001b[0;32m     41\u001b[0m \n",
      "\u001b[1;32m   (...)\u001b[0m\n",
      "\u001b[0;32m     45\u001b[0m \u001b[38;5;124mList the causes and their corresponding effects in the format \u001b[39m\u001b[38;5;124m'\u001b[39m\u001b[38;5;124mCause: [cause] -> Effect: [effect]\u001b[39m\u001b[38;5;124m'\u001b[39m\u001b[38;5;124m:\u001b[39m\n",
      "\u001b[0;32m     46\u001b[0m \u001b[38;5;124m\u001b[39m\u001b[38;5;124m\"\"\"\u001b[39m\n",
      "\u001b[0;32m     48\u001b[0m response \u001b[38;5;241m=\u001b[39m genai\u001b[38;5;241m.\u001b[39mGenerativeModel(\u001b[38;5;124m'\u001b[39m\u001b[38;5;124mgemini-1.5-flash\u001b[39m\u001b[38;5;124m'\u001b[39m)\u001b[38;5;241m.\u001b[39mgenerate_content(prompt)\n",
      "\u001b[1;32m---> 49\u001b[0m response_text \u001b[38;5;241m=\u001b[39m \u001b[43mresponse\u001b[49m\u001b[38;5;241;43m.\u001b[39;49m\u001b[43mcandidates\u001b[49m\u001b[43m[\u001b[49m\u001b[38;5;241;43m0\u001b[39;49m\u001b[43m]\u001b[49m\u001b[38;5;241;43m.\u001b[39;49m\u001b[43mcontent\u001b[49m\u001b[38;5;241;43m.\u001b[39;49m\u001b[43mparts\u001b[49m\u001b[43m[\u001b[49m\u001b[38;5;241;43m0\u001b[39;49m\u001b[43m]\u001b[49m\u001b[38;5;241m.\u001b[39mtext\n",
      "\u001b[0;32m     50\u001b[0m cause_effect_pairs \u001b[38;5;241m=\u001b[39m []\n",
      "\u001b[0;32m     52\u001b[0m \u001b[38;5;28;01mfor\u001b[39;00m line \u001b[38;5;129;01min\u001b[39;00m response_text\u001b[38;5;241m.\u001b[39msplit(\u001b[38;5;124m\"\u001b[39m\u001b[38;5;130;01m\\n\u001b[39;00m\u001b[38;5;124m\"\u001b[39m):\n",
      "\n",
      "File \u001b[1;32m~\\AppData\\Roaming\\Python\\Python311\\site-packages\\proto\\marshal\\collections\\repeated.py:125\u001b[0m, in \u001b[0;36mRepeatedComposite.__getitem__\u001b[1;34m(self, key)\u001b[0m\n",
      "\u001b[0;32m    124\u001b[0m \u001b[38;5;28;01mdef\u001b[39;00m \u001b[38;5;21m__getitem__\u001b[39m(\u001b[38;5;28mself\u001b[39m, key):\n",
      "\u001b[1;32m--> 125\u001b[0m     \u001b[38;5;28;01mreturn\u001b[39;00m \u001b[38;5;28mself\u001b[39m\u001b[38;5;241m.\u001b[39m_marshal\u001b[38;5;241m.\u001b[39mto_python(\u001b[38;5;28mself\u001b[39m\u001b[38;5;241m.\u001b[39m_pb_type, \u001b[38;5;28;43mself\u001b[39;49m\u001b[38;5;241;43m.\u001b[39;49m\u001b[43mpb\u001b[49m\u001b[43m[\u001b[49m\u001b[43mkey\u001b[49m\u001b[43m]\u001b[49m)\n",
      "\n",
      "\u001b[1;31mIndexError\u001b[0m: list index out of range"
     ]
    }
   ],
   "source": [
    "text = who_data[\"Text\"][9]\n",
    "chunks = util.create_chunks(text)\n",
    "cc = CausalChain(chunks)\n",
    "cc.create_effects()"
   ]
  },
  {
   "cell_type": "code",
   "execution_count": 35,
   "metadata": {},
   "outputs": [
    {
     "data": {
      "text/html": [
       "<div>\n",
       "<style scoped>\n",
       "    .dataframe tbody tr th:only-of-type {\n",
       "        vertical-align: middle;\n",
       "    }\n",
       "\n",
       "    .dataframe tbody tr th {\n",
       "        vertical-align: top;\n",
       "    }\n",
       "\n",
       "    .dataframe thead th {\n",
       "        text-align: right;\n",
       "    }\n",
       "</style>\n",
       "<table border=\"1\" class=\"dataframe\">\n",
       "  <thead>\n",
       "    <tr style=\"text-align: right;\">\n",
       "      <th></th>\n",
       "      <th>Cause</th>\n",
       "      <th>Effect</th>\n",
       "    </tr>\n",
       "  </thead>\n",
       "  <tbody>\n",
       "  </tbody>\n",
       "</table>\n",
       "</div>"
      ],
      "text/plain": [
       "Empty DataFrame\n",
       "Columns: [Cause, Effect]\n",
       "Index: []"
      ]
     },
     "metadata": {},
     "output_type": "display_data"
    }
   ],
   "source": [
    "def create_causes_effects_dataframe(causes, effects):\n",
    "    data = {\"Cause\": causes, \"Effect\": effects}\n",
    "    df = pd.DataFrame(data)\n",
    "    return df\n",
    "\n",
    "\n",
    "df = create_causes_effects_dataframe(cc.causes, cc.effects)\n",
    "display(df)"
   ]
  }
 ],
 "metadata": {
  "language_info": {
   "name": "python"
  }
 },
 "nbformat": 4,
 "nbformat_minor": 2
}
