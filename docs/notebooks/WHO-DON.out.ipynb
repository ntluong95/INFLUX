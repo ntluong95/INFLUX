{
 "cells": [
  {
   "cell_type": "markdown",
   "metadata": {},
   "source": [
    "# Scraping data from WHO-DON website\n",
    "\n",
    "Luong Nguyen Thanh\n",
    "\n",
    "## Load necessary packages"
   ],
   "id": "1c6284d3-ea12-4024-b65c-36761c8a2df5"
  },
  {
   "cell_type": "code",
   "execution_count": null,
   "metadata": {},
   "outputs": [],
   "source": [
    "pacman::p_load(\n",
    "  rio,\n",
    "  here,\n",
    "  httr,\n",
    "  jsonlite,\n",
    "  stringr,\n",
    "  tidyverse)\n"
   ],
   "id": "b9dda9e5-4726-4cd4-9ea5-71b424c50cf7"
  },
  {
   "cell_type": "markdown",
   "metadata": {},
   "source": [
    "## Write a function to get data from WHO-DON website\n",
    "\n",
    "Using method GET from `httr` package to get data from WHO-DON website. The function `get_who_news` will take a URL as input and return the data from the API. The function will return `NULL` if the request was unsuccessful.\n",
    "\n",
    "Status code = 200 means the connection is successful. The function will parse the JSON content and return the data.\n",
    "\n",
    "Next, we will initialize the variables and loop to fetch all pages. The function will check if there is a next page link and keep fetching until there is no next page link."
   ],
   "id": "a078f72e-80eb-43f7-a358-ac9c160931ab"
  },
  {
   "cell_type": "code",
   "execution_count": null,
   "metadata": {},
   "outputs": [],
   "source": [
    "\n",
    "# Function to get news data from a specific URL\n",
    "get_who_news <- function(url) {\n",
    "  # Make the GET request to the API\n",
    "  response <- GET(url)\n",
    "  \n",
    "  # Check the status of the response\n",
    "  if (status_code(response) == 200) {\n",
    "    # Parse the JSON content\n",
    "    content <- content(response, \"text\")\n",
    "    data <- fromJSON(content)\n",
    "    return(data)\n",
    "  } else {\n",
    "    # Return NULL if the request was unsuccessful\n",
    "    return(NULL)\n",
    "  }\n",
    "}\n",
    "\n",
    "# Initialize variables\n",
    "base_url <- \"https://www.who.int/api/news/diseaseoutbreaknews\"\n",
    "all_news <- list()\n",
    "next_url <- base_url\n",
    "keep_fetching <- TRUE\n",
    "\n",
    "# Loop to fetch all pages\n",
    "while (keep_fetching) {\n",
    "  data <- get_who_news(next_url)\n",
    "  \n",
    "  if (!is.null(data) && \"value\" %in% names(data)) {\n",
    "    all_news <- c(all_news, data$value)\n",
    "    \n",
    "    # Check if there is a next page link\n",
    "    if (\"@odata.nextLink\" %in% names(data)) {\n",
    "      next_url <- data[[\"@odata.nextLink\"]]\n",
    "    } else {\n",
    "      keep_fetching <- FALSE\n",
    "    }\n",
    "  } else {\n",
    "    keep_fetching <- FALSE\n",
    "  }\n",
    "}\n"
   ],
   "id": "2993b4df-e971-49d2-abf4-9f9d03a08479"
  },
  {
   "cell_type": "markdown",
   "metadata": {},
   "source": [
    "## Convert data from list to wide dataframe\n",
    "\n",
    "The data is currently stored as a nested list. We will convert this nested list to a wide data frame for further analysis. We will define a function `convert_to_df` that takes the nested list as input and returns a data frame.\n",
    "\n",
    "Some cleaning steps are performed to remove HTML tags from the text data.\n",
    "\n",
    "Finally, we will export the data frame to a CSV file for further analysis."
   ],
   "id": "62f33a00-dda5-42d9-ac53-f5aabf0ae0e4"
  },
  {
   "cell_type": "code",
   "execution_count": null,
   "metadata": {},
   "outputs": [],
   "source": [
    "# Define a function to convert the nested list to a data frame\n",
    "convert_to_df <- function(news_list) {\n",
    "  # Initialize an empty list to hold data frames\n",
    "  df_list <- list()\n",
    "  \n",
    "  # Determine the segment length\n",
    "  segment_length <- 22\n",
    "  \n",
    "  # Iterate through the list in steps of segment_length\n",
    "  for (i in seq(1, length(news_list), by = segment_length)) {\n",
    "    # Extract the current segment\n",
    "    segment <- news_list[i:(i + segment_length - 1)]\n",
    "    \n",
    "    # Convert the segment to a data frame and add it to the list\n",
    "    df_list[[length(df_list) + 1]] <- as.data.frame(segment)\n",
    "  }\n",
    "  \n",
    "  # Combine all data frames into one\n",
    "  combined_df <- do.call(rbind, df_list)\n",
    "  return(combined_df)\n",
    "}\n",
    "\n",
    "# Function to remove HTML tags\n",
    "remove_html_tags <- function(text) {\n",
    "  return(str_replace_all(text, \"<[^>]*>\", \"\"))\n",
    "}\n",
    "\n",
    "all_news_df <- convert_to_df(all_news)\n",
    "\n",
    "\n",
    "all_news_df %>% \n",
    "  mutate(across(where(is.character), remove_html_tags)) %>%\n",
    "  arrange(desc(PublicationDate)) %>%\n",
    "  rio::export(here(\"data\", \"who_dons.csv\"))\n"
   ],
   "id": "e1fa3490-5444-4f2b-8e9e-44a2a577682d"
  },
  {
   "cell_type": "markdown",
   "metadata": {},
   "source": [
    "## Pivot data into long format"
   ],
   "id": "86fe9f38-973a-4705-b791-38acd1a361ce"
  },
  {
   "cell_type": "code",
   "execution_count": null,
   "metadata": {},
   "outputs": [],
   "source": [
    "corpus <- import(here(\"data/who_dons.csv\")) %>% \n",
    "    select(\n",
    "        UrlName,\n",
    "        DonId,\n",
    "        # Ranking of information based on important\n",
    "        Summary,\n",
    "        Overview,\n",
    "        Epidemiology,\n",
    "        Assessment,\n",
    "        Advice,\n",
    "        FurtherInformation\n",
    "    ) %>% \n",
    "    # remove value 1 in character columns to NA\n",
    "    mutate(across(where(is.character), ~na_if(., \"\"))) %>% \n",
    "    # Standardize DonID column, with this format Year-DON-Number\n",
    "    # the UrlName column will be used if DonID is missing\n",
    "    mutate(DonID_standardized = coalesce(DonId, UrlName)) %>%\n",
    "    #relocate DonID_standardized column to the first column\n",
    "    relocate(DonID_standardized, .before = UrlName) %>%\n",
    "    # pivot_longer data, so information from columns summary to FurtherInformation are in one column\n",
    "    pivot_longer(\n",
    "        cols = Summary:FurtherInformation,\n",
    "        names_to = \"InformationType\",\n",
    "        values_to = \"Text\") \n",
    "\n",
    "export(corpus, here(\"data\", \"corpus.csv\"))\n"
   ],
   "id": "b7a21dce-dc9c-43a4-986c-5183908ca7c1"
  },
  {
   "cell_type": "markdown",
   "metadata": {},
   "source": [
    "## Preview data"
   ],
   "id": "ce1b7ae3-3e22-4c64-9976-5a69960e26b5"
  },
  {
   "cell_type": "code",
   "execution_count": null,
   "metadata": {},
   "outputs": [],
   "source": [
    "all_news_df <- import(here(\"data\", \"who_dons.csv\"))\n"
   ],
   "id": "1d0b0bc7-f043-4a3b-8356-2dc9a1040440"
  },
  {
   "cell_type": "markdown",
   "metadata": {},
   "source": [
    "Data up to 15 July 2024"
   ],
   "id": "6d354306-f4ad-4e55-910a-7159b982a18f"
  },
  {
   "cell_type": "code",
   "execution_count": null,
   "metadata": {},
   "outputs": [
    {
     "output_type": "stream",
     "name": "stdout",
     "text": [
      "Rows: 18,612\n",
      "Columns: 5\n",
      "$ DonID_standardized <chr> \"2024-DON518\", \"2024-DON518\", \"2024-DON518\", \"2024-…\n",
      "$ UrlName            <chr> \"2024-DON518\", \"2024-DON518\", \"2024-DON518\", \"2024-…\n",
      "$ DonId              <chr> \"2024-DON518\", \"2024-DON518\", \"2024-DON518\", \"2024-…\n",
      "$ InformationType    <chr> \"Summary\", \"Overview\", \"Epidemiology\", \"Assessment\"…\n",
      "$ Text               <chr> \"As of 30 April 2024, over 7.6 million dengue cases…"
     ]
    }
   ],
   "source": [
    "glimpse(corpus)\n"
   ],
   "id": "c9620db4-dac0-444e-af34-fad0d4c22d03"
  }
 ],
 "nbformat": 4,
 "nbformat_minor": 5,
 "metadata": {}
}
