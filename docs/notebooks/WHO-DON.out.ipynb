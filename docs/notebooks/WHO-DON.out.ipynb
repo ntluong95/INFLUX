{
 "cells": [
  {
   "cell_type": "markdown",
   "metadata": {},
   "source": [
    "# Scraping data from WHO-DON website\n",
    "\n",
    "Peter Søgaard Jørgensen [![](data:image/png;base64,iVBORw0KGgoAAAANSUhEUgAAABAAAAAQCAYAAAAf8/9hAAAAGXRFWHRTb2Z0d2FyZQBBZG9iZSBJbWFnZVJlYWR5ccllPAAAA2ZpVFh0WE1MOmNvbS5hZG9iZS54bXAAAAAAADw/eHBhY2tldCBiZWdpbj0i77u/IiBpZD0iVzVNME1wQ2VoaUh6cmVTek5UY3prYzlkIj8+IDx4OnhtcG1ldGEgeG1sbnM6eD0iYWRvYmU6bnM6bWV0YS8iIHg6eG1wdGs9IkFkb2JlIFhNUCBDb3JlIDUuMC1jMDYwIDYxLjEzNDc3NywgMjAxMC8wMi8xMi0xNzozMjowMCAgICAgICAgIj4gPHJkZjpSREYgeG1sbnM6cmRmPSJodHRwOi8vd3d3LnczLm9yZy8xOTk5LzAyLzIyLXJkZi1zeW50YXgtbnMjIj4gPHJkZjpEZXNjcmlwdGlvbiByZGY6YWJvdXQ9IiIgeG1sbnM6eG1wTU09Imh0dHA6Ly9ucy5hZG9iZS5jb20veGFwLzEuMC9tbS8iIHhtbG5zOnN0UmVmPSJodHRwOi8vbnMuYWRvYmUuY29tL3hhcC8xLjAvc1R5cGUvUmVzb3VyY2VSZWYjIiB4bWxuczp4bXA9Imh0dHA6Ly9ucy5hZG9iZS5jb20veGFwLzEuMC8iIHhtcE1NOk9yaWdpbmFsRG9jdW1lbnRJRD0ieG1wLmRpZDo1N0NEMjA4MDI1MjA2ODExOTk0QzkzNTEzRjZEQTg1NyIgeG1wTU06RG9jdW1lbnRJRD0ieG1wLmRpZDozM0NDOEJGNEZGNTcxMUUxODdBOEVCODg2RjdCQ0QwOSIgeG1wTU06SW5zdGFuY2VJRD0ieG1wLmlpZDozM0NDOEJGM0ZGNTcxMUUxODdBOEVCODg2RjdCQ0QwOSIgeG1wOkNyZWF0b3JUb29sPSJBZG9iZSBQaG90b3Nob3AgQ1M1IE1hY2ludG9zaCI+IDx4bXBNTTpEZXJpdmVkRnJvbSBzdFJlZjppbnN0YW5jZUlEPSJ4bXAuaWlkOkZDN0YxMTc0MDcyMDY4MTE5NUZFRDc5MUM2MUUwNEREIiBzdFJlZjpkb2N1bWVudElEPSJ4bXAuZGlkOjU3Q0QyMDgwMjUyMDY4MTE5OTRDOTM1MTNGNkRBODU3Ii8+IDwvcmRmOkRlc2NyaXB0aW9uPiA8L3JkZjpSREY+IDwveDp4bXBtZXRhPiA8P3hwYWNrZXQgZW5kPSJyIj8+84NovQAAAR1JREFUeNpiZEADy85ZJgCpeCB2QJM6AMQLo4yOL0AWZETSqACk1gOxAQN+cAGIA4EGPQBxmJA0nwdpjjQ8xqArmczw5tMHXAaALDgP1QMxAGqzAAPxQACqh4ER6uf5MBlkm0X4EGayMfMw/Pr7Bd2gRBZogMFBrv01hisv5jLsv9nLAPIOMnjy8RDDyYctyAbFM2EJbRQw+aAWw/LzVgx7b+cwCHKqMhjJFCBLOzAR6+lXX84xnHjYyqAo5IUizkRCwIENQQckGSDGY4TVgAPEaraQr2a4/24bSuoExcJCfAEJihXkWDj3ZAKy9EJGaEo8T0QSxkjSwORsCAuDQCD+QILmD1A9kECEZgxDaEZhICIzGcIyEyOl2RkgwAAhkmC+eAm0TAAAAABJRU5ErkJggg==)](https://orcid.org/0000-0002-2621-378X) (Sustainability Learning and Research Centre, Kungliga Vetenskapsuniversitetet, Stockholm Resilience Centre)  \n",
    "Diana Veronica Luna Gonzalez [![](data:image/png;base64,iVBORw0KGgoAAAANSUhEUgAAABAAAAAQCAYAAAAf8/9hAAAAGXRFWHRTb2Z0d2FyZQBBZG9iZSBJbWFnZVJlYWR5ccllPAAAA2ZpVFh0WE1MOmNvbS5hZG9iZS54bXAAAAAAADw/eHBhY2tldCBiZWdpbj0i77u/IiBpZD0iVzVNME1wQ2VoaUh6cmVTek5UY3prYzlkIj8+IDx4OnhtcG1ldGEgeG1sbnM6eD0iYWRvYmU6bnM6bWV0YS8iIHg6eG1wdGs9IkFkb2JlIFhNUCBDb3JlIDUuMC1jMDYwIDYxLjEzNDc3NywgMjAxMC8wMi8xMi0xNzozMjowMCAgICAgICAgIj4gPHJkZjpSREYgeG1sbnM6cmRmPSJodHRwOi8vd3d3LnczLm9yZy8xOTk5LzAyLzIyLXJkZi1zeW50YXgtbnMjIj4gPHJkZjpEZXNjcmlwdGlvbiByZGY6YWJvdXQ9IiIgeG1sbnM6eG1wTU09Imh0dHA6Ly9ucy5hZG9iZS5jb20veGFwLzEuMC9tbS8iIHhtbG5zOnN0UmVmPSJodHRwOi8vbnMuYWRvYmUuY29tL3hhcC8xLjAvc1R5cGUvUmVzb3VyY2VSZWYjIiB4bWxuczp4bXA9Imh0dHA6Ly9ucy5hZG9iZS5jb20veGFwLzEuMC8iIHhtcE1NOk9yaWdpbmFsRG9jdW1lbnRJRD0ieG1wLmRpZDo1N0NEMjA4MDI1MjA2ODExOTk0QzkzNTEzRjZEQTg1NyIgeG1wTU06RG9jdW1lbnRJRD0ieG1wLmRpZDozM0NDOEJGNEZGNTcxMUUxODdBOEVCODg2RjdCQ0QwOSIgeG1wTU06SW5zdGFuY2VJRD0ieG1wLmlpZDozM0NDOEJGM0ZGNTcxMUUxODdBOEVCODg2RjdCQ0QwOSIgeG1wOkNyZWF0b3JUb29sPSJBZG9iZSBQaG90b3Nob3AgQ1M1IE1hY2ludG9zaCI+IDx4bXBNTTpEZXJpdmVkRnJvbSBzdFJlZjppbnN0YW5jZUlEPSJ4bXAuaWlkOkZDN0YxMTc0MDcyMDY4MTE5NUZFRDc5MUM2MUUwNEREIiBzdFJlZjpkb2N1bWVudElEPSJ4bXAuZGlkOjU3Q0QyMDgwMjUyMDY4MTE5OTRDOTM1MTNGNkRBODU3Ii8+IDwvcmRmOkRlc2NyaXB0aW9uPiA8L3JkZjpSREY+IDwveDp4bXBtZXRhPiA8P3hwYWNrZXQgZW5kPSJyIj8+84NovQAAAR1JREFUeNpiZEADy85ZJgCpeCB2QJM6AMQLo4yOL0AWZETSqACk1gOxAQN+cAGIA4EGPQBxmJA0nwdpjjQ8xqArmczw5tMHXAaALDgP1QMxAGqzAAPxQACqh4ER6uf5MBlkm0X4EGayMfMw/Pr7Bd2gRBZogMFBrv01hisv5jLsv9nLAPIOMnjy8RDDyYctyAbFM2EJbRQw+aAWw/LzVgx7b+cwCHKqMhjJFCBLOzAR6+lXX84xnHjYyqAo5IUizkRCwIENQQckGSDGY4TVgAPEaraQr2a4/24bSuoExcJCfAEJihXkWDj3ZAKy9EJGaEo8T0QSxkjSwORsCAuDQCD+QILmD1A9kECEZgxDaEZhICIzGcIyEyOl2RkgwAAhkmC+eAm0TAAAAABJRU5ErkJggg==)](https://orcid.org/0000-0003-0194-4137) (Stockholm Resilience Centre)  \n",
    "Luong Nguyen Thanh [![](data:image/png;base64,iVBORw0KGgoAAAANSUhEUgAAABAAAAAQCAYAAAAf8/9hAAAAGXRFWHRTb2Z0d2FyZQBBZG9iZSBJbWFnZVJlYWR5ccllPAAAA2ZpVFh0WE1MOmNvbS5hZG9iZS54bXAAAAAAADw/eHBhY2tldCBiZWdpbj0i77u/IiBpZD0iVzVNME1wQ2VoaUh6cmVTek5UY3prYzlkIj8+IDx4OnhtcG1ldGEgeG1sbnM6eD0iYWRvYmU6bnM6bWV0YS8iIHg6eG1wdGs9IkFkb2JlIFhNUCBDb3JlIDUuMC1jMDYwIDYxLjEzNDc3NywgMjAxMC8wMi8xMi0xNzozMjowMCAgICAgICAgIj4gPHJkZjpSREYgeG1sbnM6cmRmPSJodHRwOi8vd3d3LnczLm9yZy8xOTk5LzAyLzIyLXJkZi1zeW50YXgtbnMjIj4gPHJkZjpEZXNjcmlwdGlvbiByZGY6YWJvdXQ9IiIgeG1sbnM6eG1wTU09Imh0dHA6Ly9ucy5hZG9iZS5jb20veGFwLzEuMC9tbS8iIHhtbG5zOnN0UmVmPSJodHRwOi8vbnMuYWRvYmUuY29tL3hhcC8xLjAvc1R5cGUvUmVzb3VyY2VSZWYjIiB4bWxuczp4bXA9Imh0dHA6Ly9ucy5hZG9iZS5jb20veGFwLzEuMC8iIHhtcE1NOk9yaWdpbmFsRG9jdW1lbnRJRD0ieG1wLmRpZDo1N0NEMjA4MDI1MjA2ODExOTk0QzkzNTEzRjZEQTg1NyIgeG1wTU06RG9jdW1lbnRJRD0ieG1wLmRpZDozM0NDOEJGNEZGNTcxMUUxODdBOEVCODg2RjdCQ0QwOSIgeG1wTU06SW5zdGFuY2VJRD0ieG1wLmlpZDozM0NDOEJGM0ZGNTcxMUUxODdBOEVCODg2RjdCQ0QwOSIgeG1wOkNyZWF0b3JUb29sPSJBZG9iZSBQaG90b3Nob3AgQ1M1IE1hY2ludG9zaCI+IDx4bXBNTTpEZXJpdmVkRnJvbSBzdFJlZjppbnN0YW5jZUlEPSJ4bXAuaWlkOkZDN0YxMTc0MDcyMDY4MTE5NUZFRDc5MUM2MUUwNEREIiBzdFJlZjpkb2N1bWVudElEPSJ4bXAuZGlkOjU3Q0QyMDgwMjUyMDY4MTE5OTRDOTM1MTNGNkRBODU3Ii8+IDwvcmRmOkRlc2NyaXB0aW9uPiA8L3JkZjpSREY+IDwveDp4bXBtZXRhPiA8P3hwYWNrZXQgZW5kPSJyIj8+84NovQAAAR1JREFUeNpiZEADy85ZJgCpeCB2QJM6AMQLo4yOL0AWZETSqACk1gOxAQN+cAGIA4EGPQBxmJA0nwdpjjQ8xqArmczw5tMHXAaALDgP1QMxAGqzAAPxQACqh4ER6uf5MBlkm0X4EGayMfMw/Pr7Bd2gRBZogMFBrv01hisv5jLsv9nLAPIOMnjy8RDDyYctyAbFM2EJbRQw+aAWw/LzVgx7b+cwCHKqMhjJFCBLOzAR6+lXX84xnHjYyqAo5IUizkRCwIENQQckGSDGY4TVgAPEaraQr2a4/24bSuoExcJCfAEJihXkWDj3ZAKy9EJGaEo8T0QSxkjSwORsCAuDQCD+QILmD1A9kECEZgxDaEZhICIzGcIyEyOl2RkgwAAhkmC+eAm0TAAAAABJRU5ErkJggg==)](https://orcid.org/0000-0002-9270-9345) (Sustainability Learning and Research Centre, Kungliga Vetenskapsuniversitetet, Uppsala Antibiotic Centre)  \n",
    "Melissa Barton [![](data:image/png;base64,iVBORw0KGgoAAAANSUhEUgAAABAAAAAQCAYAAAAf8/9hAAAAGXRFWHRTb2Z0d2FyZQBBZG9iZSBJbWFnZVJlYWR5ccllPAAAA2ZpVFh0WE1MOmNvbS5hZG9iZS54bXAAAAAAADw/eHBhY2tldCBiZWdpbj0i77u/IiBpZD0iVzVNME1wQ2VoaUh6cmVTek5UY3prYzlkIj8+IDx4OnhtcG1ldGEgeG1sbnM6eD0iYWRvYmU6bnM6bWV0YS8iIHg6eG1wdGs9IkFkb2JlIFhNUCBDb3JlIDUuMC1jMDYwIDYxLjEzNDc3NywgMjAxMC8wMi8xMi0xNzozMjowMCAgICAgICAgIj4gPHJkZjpSREYgeG1sbnM6cmRmPSJodHRwOi8vd3d3LnczLm9yZy8xOTk5LzAyLzIyLXJkZi1zeW50YXgtbnMjIj4gPHJkZjpEZXNjcmlwdGlvbiByZGY6YWJvdXQ9IiIgeG1sbnM6eG1wTU09Imh0dHA6Ly9ucy5hZG9iZS5jb20veGFwLzEuMC9tbS8iIHhtbG5zOnN0UmVmPSJodHRwOi8vbnMuYWRvYmUuY29tL3hhcC8xLjAvc1R5cGUvUmVzb3VyY2VSZWYjIiB4bWxuczp4bXA9Imh0dHA6Ly9ucy5hZG9iZS5jb20veGFwLzEuMC8iIHhtcE1NOk9yaWdpbmFsRG9jdW1lbnRJRD0ieG1wLmRpZDo1N0NEMjA4MDI1MjA2ODExOTk0QzkzNTEzRjZEQTg1NyIgeG1wTU06RG9jdW1lbnRJRD0ieG1wLmRpZDozM0NDOEJGNEZGNTcxMUUxODdBOEVCODg2RjdCQ0QwOSIgeG1wTU06SW5zdGFuY2VJRD0ieG1wLmlpZDozM0NDOEJGM0ZGNTcxMUUxODdBOEVCODg2RjdCQ0QwOSIgeG1wOkNyZWF0b3JUb29sPSJBZG9iZSBQaG90b3Nob3AgQ1M1IE1hY2ludG9zaCI+IDx4bXBNTTpEZXJpdmVkRnJvbSBzdFJlZjppbnN0YW5jZUlEPSJ4bXAuaWlkOkZDN0YxMTc0MDcyMDY4MTE5NUZFRDc5MUM2MUUwNEREIiBzdFJlZjpkb2N1bWVudElEPSJ4bXAuZGlkOjU3Q0QyMDgwMjUyMDY4MTE5OTRDOTM1MTNGNkRBODU3Ii8+IDwvcmRmOkRlc2NyaXB0aW9uPiA8L3JkZjpSREY+IDwveDp4bXBtZXRhPiA8P3hwYWNrZXQgZW5kPSJyIj8+84NovQAAAR1JREFUeNpiZEADy85ZJgCpeCB2QJM6AMQLo4yOL0AWZETSqACk1gOxAQN+cAGIA4EGPQBxmJA0nwdpjjQ8xqArmczw5tMHXAaALDgP1QMxAGqzAAPxQACqh4ER6uf5MBlkm0X4EGayMfMw/Pr7Bd2gRBZogMFBrv01hisv5jLsv9nLAPIOMnjy8RDDyYctyAbFM2EJbRQw+aAWw/LzVgx7b+cwCHKqMhjJFCBLOzAR6+lXX84xnHjYyqAo5IUizkRCwIENQQckGSDGY4TVgAPEaraQr2a4/24bSuoExcJCfAEJihXkWDj3ZAKy9EJGaEo8T0QSxkjSwORsCAuDQCD+QILmD1A9kECEZgxDaEZhICIzGcIyEyOl2RkgwAAhkmC+eAm0TAAAAABJRU5ErkJggg==)](https://orcid.org/0000-0003-0661-134X) (Stockholm Resilience Centre)  \n",
    "Kathryn Louise Bjorklund (Stockholm Resilience Centre)  \n",
    "Ege Pehlivanoglu (Kungliga Vetenskapsuniversitetet)  \n",
    "July 15, 2024\n",
    "\n",
    "## Load necessary packages"
   ],
   "id": "2a1bec65-50b0-4799-ad4f-ef0bf3e4efba"
  },
  {
   "cell_type": "code",
   "execution_count": null,
   "metadata": {},
   "outputs": [],
   "source": [
    "pacman::p_load(\n",
    "  rio,\n",
    "  here,\n",
    "  httr,\n",
    "  jsonlite,\n",
    "  stringr,\n",
    "  tidyverse)\n"
   ],
   "id": "2b2f685a-54ed-469b-a309-26c3cbe6020d"
  },
  {
   "cell_type": "markdown",
   "metadata": {},
   "source": [
    "## Write a function to get data from WHO-DON website\n",
    "\n",
    "Using method GET from `httr` package to get data from WHO-DON website. The function `get_who_news` will take a URL as input and return the data from the API. The function will return `NULL` if the request was unsuccessful.\n",
    "\n",
    "Status code = 200 means the connection is successful. The function will parse the JSON content and return the data.\n",
    "\n",
    "Next, we will initialize the variables and loop to fetch all pages. The function will check if there is a next page link and keep fetching until there is no next page link."
   ],
   "id": "67a53a09-0af9-4b83-b139-1fa04a3a0679"
  },
  {
   "cell_type": "code",
   "execution_count": null,
   "metadata": {},
   "outputs": [],
   "source": [
    "\n",
    "# Function to get news data from a specific URL\n",
    "get_who_news <- function(url) {\n",
    "  # Make the GET request to the API\n",
    "  response <- GET(url)\n",
    "  \n",
    "  # Check the status of the response\n",
    "  if (status_code(response) == 200) {\n",
    "    # Parse the JSON content\n",
    "    content <- content(response, \"text\")\n",
    "    data <- fromJSON(content)\n",
    "    return(data)\n",
    "  } else {\n",
    "    # Return NULL if the request was unsuccessful\n",
    "    return(NULL)\n",
    "  }\n",
    "}\n",
    "\n",
    "# Initialize variables\n",
    "base_url <- \"https://www.who.int/api/news/diseaseoutbreaknews\"\n",
    "all_news <- list()\n",
    "next_url <- base_url\n",
    "keep_fetching <- TRUE\n",
    "\n",
    "# Loop to fetch all pages\n",
    "while (keep_fetching) {\n",
    "  data <- get_who_news(next_url)\n",
    "  \n",
    "  if (!is.null(data) && \"value\" %in% names(data)) {\n",
    "    all_news <- c(all_news, data$value)\n",
    "    \n",
    "    # Check if there is a next page link\n",
    "    if (\"@odata.nextLink\" %in% names(data)) {\n",
    "      next_url <- data[[\"@odata.nextLink\"]]\n",
    "    } else {\n",
    "      keep_fetching <- FALSE\n",
    "    }\n",
    "  } else {\n",
    "    keep_fetching <- FALSE\n",
    "  }\n",
    "}\n"
   ],
   "id": "64936924-3aa3-4e4d-950c-fc54ee4fb63b"
  },
  {
   "cell_type": "markdown",
   "metadata": {},
   "source": [
    "## Convert data from list to wide dataframe\n",
    "\n",
    "The data is currently stored as a nested list. We will convert this nested list to a wide data frame for further analysis. We will define a function `convert_to_df` that takes the nested list as input and returns a data frame.\n",
    "\n",
    "Some cleaning steps are performed to remove HTML tags from the text data.\n",
    "\n",
    "Finally, we will export the data frame to a CSV file for further analysis."
   ],
   "id": "7177ab5c-8acc-4021-bc9b-5b1071256e4b"
  },
  {
   "cell_type": "code",
   "execution_count": null,
   "metadata": {},
   "outputs": [],
   "source": [
    "# Define a function to convert the nested list to a data frame\n",
    "convert_to_df <- function(news_list) {\n",
    "  # Initialize an empty list to hold data frames\n",
    "  df_list <- list()\n",
    "  \n",
    "  # Determine the segment length\n",
    "  segment_length <- 22\n",
    "  \n",
    "  # Iterate through the list in steps of segment_length\n",
    "  for (i in seq(1, length(news_list), by = segment_length)) {\n",
    "    # Extract the current segment\n",
    "    segment <- news_list[i:(i + segment_length - 1)]\n",
    "    \n",
    "    # Convert the segment to a data frame and add it to the list\n",
    "    df_list[[length(df_list) + 1]] <- as.data.frame(segment)\n",
    "  }\n",
    "  \n",
    "  # Combine all data frames into one\n",
    "  combined_df <- do.call(rbind, df_list)\n",
    "  return(combined_df)\n",
    "}\n",
    "\n",
    "# Function to remove HTML tags\n",
    "remove_html_tags <- function(text) {\n",
    "  return(str_replace_all(text, \"<[^>]*>\", \"\"))\n",
    "}\n",
    "\n",
    "all_news_df <- convert_to_df(all_news)\n",
    "\n",
    "\n",
    "all_news_df %>% \n",
    "  mutate(across(where(is.character), remove_html_tags)) %>%\n",
    "  arrange(desc(PublicationDate)) %>%\n",
    "  rio::export(here(\"data\", \"who_dons.csv\"))\n"
   ],
   "id": "840865f3-cd5f-495c-a286-da240bfb06ef"
  },
  {
   "cell_type": "markdown",
   "metadata": {},
   "source": [
    "## Pivot data into long format"
   ],
   "id": "c05d6d80-93b2-4cc7-99e5-30c827da913a"
  },
  {
   "cell_type": "code",
   "execution_count": null,
   "metadata": {},
   "outputs": [],
   "source": [
    "corpus <- import(here(\"data/who_dons.csv\")) %>% \n",
    "    select(\n",
    "        UrlName,\n",
    "        DonId,\n",
    "        # Ranking of information based on important\n",
    "        Summary,\n",
    "        Overview,\n",
    "        Epidemiology,\n",
    "        Assessment,\n",
    "        Advice,\n",
    "        FurtherInformation\n",
    "    ) %>% \n",
    "    # remove value 1 in character columns to NA\n",
    "    mutate(across(where(is.character), ~na_if(., \"\"))) %>% \n",
    "    # Standardize DonID column, with this format Year-DON-Number\n",
    "    # the UrlName column will be used if DonID is missing\n",
    "    mutate(DonID_standardized = coalesce(DonId, UrlName)) %>%\n",
    "    #relocate DonID_standardized column to the first column\n",
    "    relocate(DonID_standardized, .before = UrlName) %>%\n",
    "    # pivot_longer data, so information from columns summary to FurtherInformation are in one column\n",
    "    pivot_longer(\n",
    "        cols = Summary:FurtherInformation,\n",
    "        names_to = \"InformationType\",\n",
    "        values_to = \"Text\") \n",
    "\n",
    "export(corpus, here(\"data\", \"corpus.csv\"))\n"
   ],
   "id": "cc297d93-de8a-4494-9906-6c12d4e2b0d1"
  },
  {
   "cell_type": "markdown",
   "metadata": {},
   "source": [
    "## Preview data"
   ],
   "id": "7c4b97c5-a313-461a-bd6a-5a289169d897"
  },
  {
   "cell_type": "code",
   "execution_count": null,
   "metadata": {},
   "outputs": [],
   "source": [
    "all_news_df <- import(here(\"data\", \"who_dons.csv\"))\n"
   ],
   "id": "239941a3-4b79-47b3-a0e4-b73462af1aa1"
  },
  {
   "cell_type": "markdown",
   "metadata": {},
   "source": [
    "Data up to 15 July 2024"
   ],
   "id": "0c836646-be9f-4153-b1ee-8238ccf009fd"
  },
  {
   "cell_type": "code",
   "execution_count": null,
   "metadata": {},
   "outputs": [
    {
     "output_type": "stream",
     "name": "stdout",
     "text": [
      "Rows: 18,648\n",
      "Columns: 5\n",
      "$ DonID_standardized <chr> \"2024-DON525\", \"2024-DON525\", \"2024-DON525\", \"2024-…\n",
      "$ UrlName            <chr> \"2024-DON525\", \"2024-DON525\", \"2024-DON525\", \"2024-…\n",
      "$ DonId              <chr> \"2024-DON525\", \"2024-DON525\", \"2024-DON525\", \"2024-…\n",
      "$ InformationType    <chr> \"Summary\", \"Overview\", \"Epidemiology\", \"Assessment\"…\n",
      "$ Text               <chr> \"The International Health Regulations (IHR) Nationa…"
     ]
    }
   ],
   "source": [
    "glimpse(corpus)\n"
   ],
   "id": "6b8984e1-26f3-40d1-a45a-669ea79c8a41"
  }
 ],
 "nbformat": 4,
 "nbformat_minor": 5,
 "metadata": {}
}
