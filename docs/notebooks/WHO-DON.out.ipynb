{
 "cells": [
  {
   "cell_type": "markdown",
   "metadata": {},
   "source": [
    "# Scraping data from WHO-DON website\n",
    "\n",
    "Luong Nguyen Thanh\n",
    "\n",
    "## Load necessary packages"
   ],
   "id": "d0a4c78b-e598-4047-a226-e2aeeff5bd20"
  },
  {
   "cell_type": "code",
   "execution_count": null,
   "metadata": {},
   "outputs": [],
   "source": [
    "pacman::p_load(\n",
    "  rio,\n",
    "  here,\n",
    "  httr,\n",
    "  jsonlite,\n",
    "  stringr,\n",
    "  tidyverse)\n"
   ],
   "id": "4257fe03-cb92-49d2-b03b-9013b6ede30c"
  },
  {
   "cell_type": "markdown",
   "metadata": {},
   "source": [
    "## Write a function to get data from WHO-DON website\n",
    "\n",
    "Using method GET from `httr` package to get data from WHO-DON website. The function `get_who_news` will take a URL as input and return the data from the API. The function will return `NULL` if the request was unsuccessful.\n",
    "\n",
    "Status code = 200 means the connection is successful. The function will parse the JSON content and return the data.\n",
    "\n",
    "Next, we will initialize the variables and loop to fetch all pages. The function will check if there is a next page link and keep fetching until there is no next page link."
   ],
   "id": "62c965b0-d78a-4a12-b9a7-21bbed3d30ab"
  },
  {
   "cell_type": "code",
   "execution_count": null,
   "metadata": {},
   "outputs": [],
   "source": [
    "\n",
    "# Function to get news data from a specific URL\n",
    "get_who_news <- function(url) {\n",
    "  # Make the GET request to the API\n",
    "  response <- GET(url)\n",
    "  \n",
    "  # Check the status of the response\n",
    "  if (status_code(response) == 200) {\n",
    "    # Parse the JSON content\n",
    "    content <- content(response, \"text\")\n",
    "    data <- fromJSON(content)\n",
    "    return(data)\n",
    "  } else {\n",
    "    # Return NULL if the request was unsuccessful\n",
    "    return(NULL)\n",
    "  }\n",
    "}\n",
    "\n",
    "# Initialize variables\n",
    "base_url <- \"https://www.who.int/api/news/diseaseoutbreaknews\"\n",
    "all_news <- list()\n",
    "next_url <- base_url\n",
    "keep_fetching <- TRUE\n",
    "\n",
    "# Loop to fetch all pages\n",
    "while (keep_fetching) {\n",
    "  data <- get_who_news(next_url)\n",
    "  \n",
    "  if (!is.null(data) && \"value\" %in% names(data)) {\n",
    "    all_news <- c(all_news, data$value)\n",
    "    \n",
    "    # Check if there is a next page link\n",
    "    if (\"@odata.nextLink\" %in% names(data)) {\n",
    "      next_url <- data[[\"@odata.nextLink\"]]\n",
    "    } else {\n",
    "      keep_fetching <- FALSE\n",
    "    }\n",
    "  } else {\n",
    "    keep_fetching <- FALSE\n",
    "  }\n",
    "}\n"
   ],
   "id": "2d4c281f-dd82-4e34-8695-2fe85246db76"
  },
  {
   "cell_type": "markdown",
   "metadata": {},
   "source": [
    "## Convert data from list to wide dataframe\n",
    "\n",
    "The data is currently stored as a nested list. We will convert this nested list to a wide data frame for further analysis. We will define a function `convert_to_df` that takes the nested list as input and returns a data frame.\n",
    "\n",
    "Some cleaning steps are performed to remove HTML tags from the text data.\n",
    "\n",
    "Finally, we will export the data frame to a CSV file for further analysis."
   ],
   "id": "2fc9482a-9b32-4567-8e0c-54a8d6e4e605"
  },
  {
   "cell_type": "code",
   "execution_count": null,
   "metadata": {},
   "outputs": [],
   "source": [
    "# Define a function to convert the nested list to a data frame\n",
    "convert_to_df <- function(news_list) {\n",
    "  # Initialize an empty list to hold data frames\n",
    "  df_list <- list()\n",
    "  \n",
    "  # Determine the segment length\n",
    "  segment_length <- 22\n",
    "  \n",
    "  # Iterate through the list in steps of segment_length\n",
    "  for (i in seq(1, length(news_list), by = segment_length)) {\n",
    "    # Extract the current segment\n",
    "    segment <- news_list[i:(i + segment_length - 1)]\n",
    "    \n",
    "    # Convert the segment to a data frame and add it to the list\n",
    "    df_list[[length(df_list) + 1]] <- as.data.frame(segment)\n",
    "  }\n",
    "  \n",
    "  # Combine all data frames into one\n",
    "  combined_df <- do.call(rbind, df_list)\n",
    "  return(combined_df)\n",
    "}\n",
    "\n",
    "# Function to remove HTML tags\n",
    "remove_html_tags <- function(text) {\n",
    "  return(str_replace_all(text, \"<[^>]*>\", \"\"))\n",
    "}\n",
    "\n",
    "all_news_df <- convert_to_df(all_news)\n",
    "\n",
    "\n",
    "all_news_df %>% \n",
    "  mutate(across(where(is.character), remove_html_tags)) %>%\n",
    "  arrange(desc(PublicationDate)) %>%\n",
    "  rio::export(here(\"data\", \"who_dons.csv\"))\n"
   ],
   "id": "f5707589-6867-4a8a-8767-d7a8a4c54a87"
  },
  {
   "cell_type": "markdown",
   "metadata": {},
   "source": [
    "## Pivot data into long format"
   ],
   "id": "deaa5ab9-34ea-49a8-ba5c-58569f141785"
  },
  {
   "cell_type": "code",
   "execution_count": null,
   "metadata": {},
   "outputs": [],
   "source": [
    "corpus <- import(here(\"data/who_dons.csv\")) %>% \n",
    "    select(\n",
    "        UrlName,\n",
    "        DonId,\n",
    "        # Ranking of information based on important\n",
    "        Summary,\n",
    "        Overview,\n",
    "        Epidemiology,\n",
    "        Assessment,\n",
    "        Advice,\n",
    "        FurtherInformation\n",
    "    ) %>% \n",
    "    # remove value 1 in character columns to NA\n",
    "    mutate(across(where(is.character), ~na_if(., \"\"))) %>% \n",
    "    # Standardize DonID column, with this format Year-DON-Number\n",
    "    # the UrlName column will be used if DonID is missing\n",
    "    mutate(DonID_standardized = coalesce(DonId, UrlName)) %>%\n",
    "    #relocate DonID_standardized column to the first column\n",
    "    relocate(DonID_standardized, .before = UrlName) %>%\n",
    "    # pivot_longer data, so information from columns summary to FurtherInformation are in one column\n",
    "    pivot_longer(\n",
    "        cols = Summary:FurtherInformation,\n",
    "        names_to = \"InformationType\",\n",
    "        values_to = \"Text\") \n",
    "\n",
    "export(corpus, here(\"data\", \"corpus.csv\"))\n"
   ],
   "id": "e86f5e47-bb4c-47a3-8d89-4ef14f4a6ef8"
  },
  {
   "cell_type": "markdown",
   "metadata": {},
   "source": [
    "## Preview data"
   ],
   "id": "d18f8c17-fcc3-4195-b785-d5681197ce0d"
  },
  {
   "cell_type": "code",
   "execution_count": null,
   "metadata": {},
   "outputs": [],
   "source": [
    "all_news_df <- import(here(\"data\", \"who_dons.csv\"))\n"
   ],
   "id": "7f18f2fc-c091-4560-8faa-b455a25113b6"
  },
  {
   "cell_type": "markdown",
   "metadata": {},
   "source": [
    "Data up to 15 July 2024"
   ],
   "id": "344d65dc-e273-4708-9f62-c9563df5a471"
  },
  {
   "cell_type": "code",
   "execution_count": null,
   "metadata": {},
   "outputs": [
    {
     "output_type": "stream",
     "name": "stdout",
     "text": [
      "Rows: 18,612\n",
      "Columns: 5\n",
      "$ DonID_standardized <chr> \"2024-DON518\", \"2024-DON518\", \"2024-DON518\", \"2024-…\n",
      "$ UrlName            <chr> \"2024-DON518\", \"2024-DON518\", \"2024-DON518\", \"2024-…\n",
      "$ DonId              <chr> \"2024-DON518\", \"2024-DON518\", \"2024-DON518\", \"2024-…\n",
      "$ InformationType    <chr> \"Summary\", \"Overview\", \"Epidemiology\", \"Assessment\"…\n",
      "$ Text               <chr> \"As of 30 April 2024, over 7.6 million dengue cases…"
     ]
    }
   ],
   "source": [
    "glimpse(corpus)\n"
   ],
   "id": "4c5e61d1-9977-4acf-bfd8-d1f736aaff44"
  }
 ],
 "nbformat": 4,
 "nbformat_minor": 5,
 "metadata": {}
}
