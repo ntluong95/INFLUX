{
 "cells": [
  {
   "cell_type": "markdown",
   "metadata": {},
   "source": [
    "# \n",
    "\n",
    "# Scraping data from WHO-DON\n",
    "\n",
    "## Load necessary packages"
   ],
   "id": "f873b83c-e290-4ce5-b41f-a09e23bfd623"
  },
  {
   "cell_type": "code",
   "execution_count": null,
   "metadata": {},
   "outputs": [],
   "source": [
    "pacman::p_load(\n",
    "  rio,\n",
    "  here,\n",
    "  httr,\n",
    "  jsonlite,\n",
    "  stringr,\n",
    "  tidyverse)\n"
   ],
   "id": "c006a978-31d2-4b99-93ea-13a08b82c652"
  },
  {
   "cell_type": "markdown",
   "metadata": {},
   "source": [
    "## Write a function to get data from WHO-DON website\n",
    "\n",
    "Using method GET from `httr` package to get data from WHO-DON website. The function `get_who_news` will take a URL as input and return the data from the API. The function will return `NULL` if the request was unsuccessful.\n",
    "\n",
    "Status code = 200 means the connection is successful. The function will parse the JSON content and return the data.\n",
    "\n",
    "Next, we will initialize the variables and loop to fetch all pages. The function will check if there is a next page link and keep fetching until there is no next page link."
   ],
   "id": "9b2a1171-9bd4-4d90-bd74-b63d4de7249f"
  },
  {
   "cell_type": "code",
   "execution_count": null,
   "metadata": {},
   "outputs": [],
   "source": [
    "\n",
    "# Function to get news data from a specific URL\n",
    "get_who_news <- function(url) {\n",
    "  # Make the GET request to the API\n",
    "  response <- GET(url)\n",
    "  \n",
    "  # Check the status of the response\n",
    "  if (status_code(response) == 200) {\n",
    "    # Parse the JSON content\n",
    "    content <- content(response, \"text\")\n",
    "    data <- fromJSON(content)\n",
    "    return(data)\n",
    "  } else {\n",
    "    # Return NULL if the request was unsuccessful\n",
    "    return(NULL)\n",
    "  }\n",
    "}\n",
    "\n",
    "# Initialize variables\n",
    "base_url <- \"https://www.who.int/api/news/diseaseoutbreaknews\"\n",
    "all_news <- list()\n",
    "next_url <- base_url\n",
    "keep_fetching <- TRUE\n",
    "\n",
    "# Loop to fetch all pages\n",
    "while (keep_fetching) {\n",
    "  data <- get_who_news(next_url)\n",
    "  \n",
    "  if (!is.null(data) && \"value\" %in% names(data)) {\n",
    "    all_news <- c(all_news, data$value)\n",
    "    \n",
    "    # Check if there is a next page link\n",
    "    if (\"@odata.nextLink\" %in% names(data)) {\n",
    "      next_url <- data[[\"@odata.nextLink\"]]\n",
    "    } else {\n",
    "      keep_fetching <- FALSE\n",
    "    }\n",
    "  } else {\n",
    "    keep_fetching <- FALSE\n",
    "  }\n",
    "}\n"
   ],
   "id": "0f384d86-1372-4dbc-89e2-313b3829d33e"
  },
  {
   "cell_type": "markdown",
   "metadata": {},
   "source": [
    "## Convert data from list to wide dataframe\n",
    "\n",
    "The data is currently stored as a nested list. We will convert this nested list to a wide data frame for further analysis. We will define a function `convert_to_df` that takes the nested list as input and returns a data frame.\n",
    "\n",
    "Some cleaning steps are performed to remove HTML tags from the text data.\n",
    "\n",
    "Finally, we will export the data frame to a CSV file for further analysis."
   ],
   "id": "503b4bb8-d693-4ad6-b83e-109a84027d05"
  },
  {
   "cell_type": "code",
   "execution_count": null,
   "metadata": {},
   "outputs": [],
   "source": [
    "# Define a function to convert the nested list to a data frame\n",
    "convert_to_df <- function(news_list) {\n",
    "  # Initialize an empty list to hold data frames\n",
    "  df_list <- list()\n",
    "  \n",
    "  # Determine the segment length\n",
    "  segment_length <- 22\n",
    "  \n",
    "  # Iterate through the list in steps of segment_length\n",
    "  for (i in seq(1, length(news_list), by = segment_length)) {\n",
    "    # Extract the current segment\n",
    "    segment <- news_list[i:(i + segment_length - 1)]\n",
    "    \n",
    "    # Convert the segment to a data frame and add it to the list\n",
    "    df_list[[length(df_list) + 1]] <- as.data.frame(segment)\n",
    "  }\n",
    "  \n",
    "  # Combine all data frames into one\n",
    "  combined_df <- do.call(rbind, df_list)\n",
    "  return(combined_df)\n",
    "}\n",
    "\n",
    "# Function to remove HTML tags\n",
    "remove_html_tags <- function(text) {\n",
    "  return(str_replace_all(text, \"<[^>]*>\", \"\"))\n",
    "}\n",
    "\n",
    "all_news_df <- convert_to_df(all_news)\n",
    "\n",
    "\n",
    "all_news_df %>% \n",
    "  mutate(across(where(is.character), remove_html_tags)) %>%\n",
    "  arrange(desc(PublicationDate)) %>%\n",
    "  rio::export(here(\"data\", \"who_dons.csv\"))\n"
   ],
   "id": "18184f5e-8eab-455b-872d-6ccf3c9179c9"
  },
  {
   "cell_type": "markdown",
   "metadata": {},
   "source": [
    "## Pivot data into long format"
   ],
   "id": "a56c0e37-e869-4f61-8a8d-0ad7a5b02c31"
  },
  {
   "cell_type": "code",
   "execution_count": null,
   "metadata": {},
   "outputs": [],
   "source": [
    "corpus <- import(here(\"data/who_dons.csv\")) %>% \n",
    "    select(\n",
    "        UrlName,\n",
    "        DonId,\n",
    "        # Ranking of information based on important\n",
    "        Summary,\n",
    "        Overview,\n",
    "        Epidemiology,\n",
    "        Assessment,\n",
    "        Advice,\n",
    "        FurtherInformation\n",
    "    ) %>% \n",
    "    # remove value 1 in character columns to NA\n",
    "    mutate(across(where(is.character), ~na_if(., \"\"))) %>% \n",
    "    # Standardize DonID column, with this format Year-DON-Number\n",
    "    # the UrlName column will be used if DonID is missing\n",
    "    mutate(DonID_standardized = coalesce(DonId, UrlName)) %>%\n",
    "    #relocate DonID_standardized column to the first column\n",
    "    relocate(DonID_standardized, .before = UrlName) %>%\n",
    "    # pivot_longer data, so information from columns summary to FurtherInformation are in one column\n",
    "    pivot_longer(\n",
    "        cols = Summary:FurtherInformation,\n",
    "        names_to = \"InformationType\",\n",
    "        values_to = \"Text\") \n",
    "\n",
    "export(corpus, here(\"data\", \"corpus.csv\"))\n"
   ],
   "id": "38536687-a873-47a7-ac5d-573c488482ad"
  },
  {
   "cell_type": "markdown",
   "metadata": {},
   "source": [
    "## Preview data"
   ],
   "id": "3f605018-188d-4461-8285-559172fa96d2"
  },
  {
   "cell_type": "code",
   "execution_count": null,
   "metadata": {},
   "outputs": [],
   "source": [
    "all_news_df <- import(here(\"data\", \"who_dons.csv\"))\n"
   ],
   "id": "f4d2d40c-32f7-4cea-9cb1-c74c42ef2630"
  },
  {
   "cell_type": "markdown",
   "metadata": {},
   "source": [
    "Data up to 15 July 2024"
   ],
   "id": "8a867d6a-0255-4a7f-aa75-811f184cff85"
  },
  {
   "cell_type": "code",
   "execution_count": null,
   "metadata": {},
   "outputs": [
    {
     "output_type": "stream",
     "name": "stdout",
     "text": [
      "Rows: 18,648\n",
      "Columns: 5\n",
      "$ DonID_standardized <chr> \"2024-DON525\", \"2024-DON525\", \"2024-DON525\", \"2024-…\n",
      "$ UrlName            <chr> \"2024-DON525\", \"2024-DON525\", \"2024-DON525\", \"2024-…\n",
      "$ DonId              <chr> \"2024-DON525\", \"2024-DON525\", \"2024-DON525\", \"2024-…\n",
      "$ InformationType    <chr> \"Summary\", \"Overview\", \"Epidemiology\", \"Assessment\"…\n",
      "$ Text               <chr> \"The International Health Regulations (IHR) Nationa…"
     ]
    }
   ],
   "source": [
    "glimpse(corpus)\n"
   ],
   "id": "16b56a4c-d431-40f2-b640-1401cb179d94"
  }
 ],
 "nbformat": 4,
 "nbformat_minor": 5,
 "metadata": {}
}
