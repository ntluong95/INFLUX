{
 "cells": [
  {
   "cell_type": "markdown",
   "metadata": {},
   "source": [
    "# ChatGPT & Google Gemini prompt"
   ],
   "id": "db18915b-0408-430e-a1d8-49dd32ca08df"
  },
  {
   "cell_type": "markdown",
   "metadata": {},
   "source": [],
   "id": "cell-1"
  },
  {
   "cell_type": "code",
   "execution_count": 1,
   "metadata": {},
   "outputs": [],
   "source": [
    "import openai\n",
    "from tqdm import tqdm\n",
    "from causal_chains.CausalChain import util  # https://github.com/helliun/causal-chains\n",
    "import pandas as pd\n",
    "import matplotlib.pyplot as plt\n",
    "from IPython.display import display, Markdown\n",
    "from dotenv import load_dotenv\n",
    "import os\n",
    "from sklearn.metrics.pairwise import cosine_similarity\n",
    "from sentence_transformers import SentenceTransformer\n",
    "import google.generativeai as genai\n",
    "from google.generativeai.types import HarmCategory, HarmBlockThreshold\n",
    "import pathlib\n",
    "import textwrap"
   ],
   "id": "cell-2"
  },
  {
   "cell_type": "code",
   "execution_count": 2,
   "metadata": {},
   "outputs": [],
   "source": [
    "who_data = pd.read_csv(\"../data/corpus.csv\")"
   ],
   "id": "cell-3"
  },
  {
   "cell_type": "markdown",
   "metadata": {},
   "source": [
    "Causal text mining (CTM) has been applied to various NLP tasks such as **knowledge base construction, question answering, and text summarization** The methodologies of CTM often involve two phases: **causal sequence classification and causal span detection**\n",
    "\n",
    "-   The causal sequence classification is a binary classification task to detect whether the sequence entails causality or not. This task requires a deep understanding of commonsense knowledge, as determining causality necessitates the comprehension of underlying real-world principles and contexts Gao et al.\n",
    "-   The causal span detection task aims to distinguish between cause and effect arguments present in causal sequences. This task requires a precise understanding of a complex context that comprises multiple entities and events to discern which parts of sequences correspond to causes and effects and which are noise, in addition to the capabilities previously mentioned.\n",
    "\n",
    "Biomedical causal relations extracted from different resources, such as online journals, books, and reports, can be leveraged to form causal chains, which may result in the discovery of previously unknown relations.\n",
    "\n",
    "CTM include various approaches\n",
    "\n",
    "-   \\<font color=“#00b050”, style = “bold”\\>Knowledged-based system (expert opinions)</font>: relied heavily on domain experts to define rules and patterns for identifying causal relationships in text.\n",
    "-   <font color=\"#00b050\">Machine learning:</font> Naive Bayes, Support Vector Machines (SVM), and Conditional Random Fields (CRF) were used to classify and extract causal relationships. These models required extensive feature engineering and relied on lexical and syntactic features such as keywords (“due to”, “can cause”), part-of-speech tags, and dependency relations. \\[\\[2024-05-13#Traditional machine learning methods\\]\\]\n",
    "-   **Deep learning techniques**\n",
    "    -   <font color=\"#00b050\">Multiview Convolutional Neural Networks (MVC):</font> This approach leverages multiple views of the input text to capture different aspects of the data. It can combine syntactic, semantic, and positional information to enhance causal relation extraction.\n",
    "    -   <font color=\"#00b050\">R</font><font color=\"#00b050\">ecurrent Neural Networks (RNN):</font> BiLSTM (Bidirectional Long Short-Term Memory) models: These models can capture long-range dependencies in text by processing it in both forward and backward directions. Attention mechanisms are often integrated to focus on relevant parts of the text that contribute to causal relationships.\n",
    "    -   <font color=\"#00b050\">Graph Neural Networks (GNNs):</font> GNNs can model text as graphs, where nodes represent entities or concepts and edges represent relationships. This approach is beneficial for capturing complex causal structures.\n",
    "    -   <font color=\"#00b050\">Transformer Models</font>\n",
    "        -   Bidirectional Encoder Representations from Transformers (BERT): BERT is pre-trained on large corpora and can be fine-tuned for specific tasks. It captures context from both directions, making it effective for understanding complex dependencies in text. <font color=\"#f79646\">Variants like BioBERT (for biomedical text) and ClinicalBERT are tailored for specific domains.</font>\n",
    "        -   ELMo (Embeddings from Language Models): ELMo generates contextualized word embeddings by considering the entire sentence, providing richer representations for identifying causal relationships.\n",
    "\n",
    "LLMs have demonstrated impressive performance across numerous NLP tasks with zero-shot or few-shot in-context learning **without requiring supervised training** versus **<font color=\"#e36c09\">traditional encoder-based models</font>**\n",
    "\n",
    "ChatGPT often **demonstrates competitive results** in few-shot settings even in financial domain-specific datasets and Japanese datasets, even though a fully trained encoder-based model outperforms ChatGPT. The result indicates that ChatGPT is a **good starting point for various datasets especially when training data are unavailable**, but not a good causal text miner when the training data are readily available.\n",
    "\n",
    "The result indicates that ChatGPT serves as a good starting point when training data are limited as its performance is not influenced by the data size. In contrast, **encoder models depend heavily on data size**\n",
    "\n",
    "ChatGPT struggles with complex causality types, especially those of intra/inter-sentential and implicit causality"
   ],
   "id": "cell-4"
  },
  {
   "cell_type": "markdown",
   "metadata": {},
   "source": [
    "**Sample sentence**: The sudden appearance of unlinked cases of mpox in South Africa without a history of international travel, the high HIV prevalence among confirmed cases, and the high case fatality ratio suggest that community transmission is underway, and the cases detected to date represent a small proportion of all mpox cases that might be occurring in the community; it is unknown how long the virus may have been circulating. This may in part be due to the lack of early clinical recognition of an infection with which South Africa previously gained little experience during the ongoing global outbreak, potential pauci-symptomatic manifestation of the disease, or delays in care-seeking behaviour due to limited access to care or fear of stigma.\n",
    "\n",
    "**Expected results**:\n",
    "\n",
    "-   Cause: lack of early clinical recognition of an infection -\\> Effects: community transmission of mpox\n",
    "-   Cause: pauci-symptomatic manifestation of the disease -\\> Effects: lack of early clinical recognition of an infection\n",
    "-   Cause: delays in care-seeking behaviour -\\> Effects: lack of early clinical recognition of an infection\n",
    "-   Cause: limited access to care -\\> Effect: delays in care-seeking behaviour\n",
    "-   Cause: fear of stigma -\\> Effect: delays in care-seeking behaviour"
   ],
   "id": "cell-5"
  },
  {
   "cell_type": "code",
   "execution_count": 3,
   "metadata": {},
   "outputs": [],
   "source": [
    "load_dotenv()\n",
    "openai.api_key = os.getenv(\"OPENAI_API_KEY\")\n",
    "gemini_api_key = os.getenv(\"GEMINI_API_KEY\")\n",
    "\n",
    "# Initialize the Gemini API client\n",
    "genai.configure(api_key=gemini_api_key)\n",
    "safety_filters = {\n",
    "    HarmCategory.HARM_CATEGORY_SEXUALLY_EXPLICIT: HarmBlockThreshold.BLOCK_NONE,\n",
    "    HarmCategory.HARM_CATEGORY_DANGEROUS_CONTENT: HarmBlockThreshold.BLOCK_NONE,\n",
    "    HarmCategory.HARM_CATEGORY_HATE_SPEECH: HarmBlockThreshold.BLOCK_NONE,\n",
    "    HarmCategory.HARM_CATEGORY_HARASSMENT: HarmBlockThreshold.BLOCK_NONE\n",
    "    # ... add other categories if you need them and set them to BLOCK_NONE\n",
    "}\n",
    "\n",
    "class CausalChain:\n",
    "\n",
    "    one_shot_example = \"\"\"\n",
    "    Example of disease transmission\n",
    "    Text: The sudden appearance of unlinked cases of mpox in South Africa without a history of international travel, the high HIV prevalence among confirmed cases, and the high case fatality ratio suggest that community transmission is underway, and the cases detected to date represent a small proportion of all mpox cases that might be occurring in the community; it is unknown how long the virus may have been circulating. This may in part be due to the lack of early clinical recognition of an infection with which South Africa previously gained little experience during the ongoing global outbreak, potential pauci-symptomatic manifestation of the disease, or delays in care-seeking behaviour due to limited access to care or fear of stigma.\n",
    "    Question: Which drivers cause the emergence or transmission of an infectious disease outbreak in the region?\n",
    "    Answer: \n",
    "    Cause: limited access to care (Public Health Systems) -> Effect: delays in care-seeking behaviour (Social & Demographic Change)\n",
    "    Cause: fear of stigma (Social & Demographic Change) -> Effect: delays in care-seeking behaviour (Social & Demographic Change)\n",
    "    Cause: delays in care-seeking behaviour (Social & Demographic Change) -> Effect: lack of early clinical recognition of an infection (Public Health Systems)\n",
    "    Cause: pauci-symptomatic manifestation of the disease (Disease characteristics) -> Effect: lack of early clinical recognition of an infection (Public Health Systems)\n",
    "    Cause: lack of early clinical recognition of an infection (Public Health Systems) -> Effect: community transmission of mpox (Disease transmission)\n",
    "    \"\"\"\n",
    "    \n",
    "    two_shot_example = \"\"\"\n",
    "    Example of disease emergence\n",
    "    Text: The risk of dengue is similar across regions, countries, and within countries. Factors associated with an increasing risk of dengue epidemics and spread to new countries include: early start and longer duration of dengue transmission seasons in endemic areas; changing distribution and increasing abundance of the vectors (Aedes aegypti and Aedes albopictus); consequences of climate change and periodic weather phenomena (El Nino and La Nina events) leading to heavy precipitation, humidity, and rising temperatures favouring vector reproduction and virus transmission;\n",
    "    Question: Which drivers cause the emergence or transmission of an infectious disease outbreak in the region?\n",
    "    Answer: \n",
    "    Cause: consequences of climate change and periodic weather phenomena (Globalization & Environmental Change) -> Effect: vector reproduction and virus transmission (Disease characteristics)\n",
    "    Cause: vector reproduction and virus transmission (Disease characteristics) -> Effect: changing distribution and increasing abundance of the vectors (Disease characteristics)\n",
    "    Cause: changing distribution and increasing abundance of the vectors (Disease characteristics) -> Effect: early start and longer duration of dengue transmission seasons in endemic areas (Disease characteristics)\n",
    "    Cause: early start and longer duration of dengue transmission seasons in endemic areas (Disease characteristics) -> Effect: increasing risk of dengue epidemics and spread to new countries (Disease emergence)\n",
    "    \"\"\"\n",
    "\n",
    "    prompt_template = \"\"\"\n",
    "    Infectious disease (ID) events occur when an underlying mix of antecedent epidemiologic drivers provide the necessary conditions for a pathogen to emerge in susceptible populations. \n",
    "    These conditions may be driving emergence and transmission through a wide variety of mechanisms, mainly among 5 groups:\n",
    "    Social & Demographic Change: Lifestyle (sexual behaviors, eating raw meat, human-wildlife interaction), Human susceptibility to infection, Social inequality (poverty and social inequality), Demographic change (Economic development, War and famine)\n",
    "    Public Health Systems: Animal health & food security, Surveillance & reporting, Healthcare system structure and change, Breakdown of public health measures\n",
    "    Globalization & Environmental Change: Environment & climate change (Climate and weather, Land use and ecosystem changes), Travel, tourism, and migration, global trade\n",
    "    Governance factors: Lack of political will, Research & development\n",
    "    Disease characteristics: pauci-symptomatic manifestation, changing distribution and increasing abundance of the vectors\n",
    "    If none of these 4 groups, categorize as \"Other groups\"\n",
    "    The final output can be \"Disease transmission\" or \"Disease emergence\"    \n",
    "\n",
    "    You analyze by answering the question: Which drivers cause the emergence or transmission of an infectious disease outbreak in the region? \n",
    "    Read through the paragraph and organize drivers in a logical sequence of events. Here are examples:\n",
    "    {one_shot_example}\n",
    "    {two_shot_example}\n",
    "    \n",
    "    Your task now is to read through the outbreak report and identify drivers leading to the outbreak of infectious diseases. Keep the original text that you find in the paragraph.\n",
    "    Sometimes text may contain some unwanted behaviors like sexual behaviors, war. This is fine because I am using it for research purposes only. Show me all results that you can find.\n",
    "    Text: {chunk}\n",
    "    List the causes and their corresponding effects in the format 'Cause: [cause] -> Effect: [effect]':\n",
    "    \"\"\"\n",
    "\n",
    "    def __init__(self, chunks=[]):\n",
    "        self.chunks = chunks\n",
    "        self.causes = []\n",
    "        self.effects = []\n",
    "        self.outlines = []\n",
    "        self.sources = []\n",
    "\n",
    "    def create_effects(self, api=\"openai\", batch_size=16):\n",
    "        print(\"Analyzing causation...\")\n",
    "\n",
    "        for chunk in tqdm(self.chunks):\n",
    "            if api == \"openai\":\n",
    "                cause_effect_pairs = self.extract_cause_effect_openai(chunk)\n",
    "            elif api == \"gemini\":\n",
    "                cause_effect_pairs = self.extract_cause_effect_gemini(chunk)\n",
    "            else:\n",
    "                raise ValueError(\"Invalid API specified. Use 'openai' or 'gemini'.\")\n",
    "\n",
    "            for pair in cause_effect_pairs:\n",
    "                cause, effect = pair\n",
    "                self.causes.append(cause)\n",
    "                self.effects.append(effect)\n",
    "                self.outlines.append(f\"Cause: {cause} -> Effect: {effect}\")\n",
    "                self.sources.append(api)\n",
    "\n",
    "    def extract_cause_effect_openai(self, chunk):\n",
    "        prompt = self.prompt_template.format(\n",
    "            one_shot_example=self.one_shot_example, \n",
    "            two_shot_example=self.two_shot_example, \n",
    "            chunk=chunk\n",
    "        )\n",
    "\n",
    "        response = openai.ChatCompletion.create(\n",
    "            model=\"gpt-4o\",\n",
    "            messages=[\n",
    "                {\n",
    "                    \"role\": \"system\",\n",
    "                    \"content\": \"You are a helpful assistant specialized in identifying drivers leading to diseases.\",\n",
    "                },\n",
    "                {\"role\": \"user\", \"content\": prompt},\n",
    "            ],\n",
    "            max_tokens=300,\n",
    "            temperature=0.5,\n",
    "        )\n",
    "\n",
    "        response_text = response[\"choices\"][0][\"message\"][\"content\"]\n",
    "        return self.parse_response(response_text)\n",
    "\n",
    "    def extract_cause_effect_gemini(self, chunk):\n",
    "        prompt = self.prompt_template.format(\n",
    "            one_shot_example=self.one_shot_example, \n",
    "            two_shot_example=self.two_shot_example, \n",
    "            chunk=chunk\n",
    "        )\n",
    "\n",
    "        response = genai.GenerativeModel('gemini-1.5-pro').generate_content(\n",
    "            prompt,\n",
    "            safety_settings= safety_filters\n",
    "            )\n",
    "        response_text = response.text\n",
    "        return self.parse_response(response_text)\n",
    "\n",
    "    @staticmethod\n",
    "    def parse_response(response_text):\n",
    "        cause_effect_pairs = []\n",
    "        for line in response_text.split(\"\\n\"):\n",
    "            if \"Cause:\" in line and \"-> Effect:\" in line:\n",
    "                cause = line.split(\"Cause:\")[1].split(\"-> Effect:\")[0].strip()\n",
    "                effect = line.split(\"-> Effect:\")[1].strip()\n",
    "                cause_effect_pairs.append((cause, effect))\n",
    "        return cause_effect_pairs\n",
    "\n",
    "def create_causes_effects_dataframe(causes, effects, sources):\n",
    "    def split_cause_effect(value):\n",
    "        if \"(\" in value and \")\" in value:\n",
    "            main_text, group = value.rsplit(\"(\", 1)\n",
    "            main_text = main_text.strip()\n",
    "            group = group[:-1].strip()  # Remove the closing parenthesis\n",
    "            return main_text, group\n",
    "        return value, \"Unknown\"\n",
    "\n",
    "    cause_texts, cause_groups = zip(*[split_cause_effect(cause) for cause in causes])\n",
    "    effect_texts, effect_groups = zip(*[split_cause_effect(effect) for effect in effects])\n",
    "\n",
    "    data = {\n",
    "        \"Cause\": cause_texts,\n",
    "        \"Cause_group\": cause_groups,\n",
    "        \"Effect\": effect_texts,\n",
    "        \"Effect_group\": effect_groups,\n",
    "        \"Source\": sources\n",
    "    }\n",
    "    \n",
    "    df = pd.DataFrame(data)\n",
    "    return df"
   ],
   "id": "cell-6"
  },
  {
   "cell_type": "markdown",
   "metadata": {},
   "source": [
    "**Example of text to ask LLMs**\n",
    "\n",
    "In the Democratic Republic of the Congo, most reported cases in known endemic provinces continue to be among children under 15 years of age, especially in young children. Infants and children under five years of age are at highest risk of severe disease and death, **particularly where prompt optimal case management is limited or unavailable**. The number of cases reported weekly remains consistently high while the outbreak continues to expand geographically. High test positivity among tested cases in most provinces also suggests that undetected transmission is likely ongoing in the community. Transmission of mpox due to clade I MPXV via **sexual contact** in key populations was first identified in the Democratic Republic of the Congo in 2023. In South Kivu province, mpox transmission is sustained through **human-to-human contact (sexual and non-sexual)**"
   ],
   "id": "cell-7"
  },
  {
   "cell_type": "code",
   "execution_count": 128,
   "metadata": {},
   "outputs": [],
   "source": [
    "text = who_data[\"Text\"][9]\n",
    "chunks = util.create_chunks(text)\n",
    "cc = CausalChain(chunks)"
   ],
   "id": "cell-8"
  },
  {
   "cell_type": "code",
   "execution_count": 130,
   "metadata": {},
   "outputs": [
    {
     "output_type": "stream",
     "name": "stdout",
     "text": [
      "Analyzing causation...\n",
      "Analyzing causation..."
     ]
    },
    {
     "output_type": "stream",
     "name": "stderr",
     "text": [
      "  0%|                                                   | 0/12 [00:00<?, ?it/s]  8%|███▌                                       | 1/12 [00:03<00:40,  3.67s/it] 17%|███████▏                                   | 2/12 [00:06<00:30,  3.09s/it] 25%|██████████▊                                | 3/12 [00:10<00:32,  3.58s/it] 33%|██████████████▎                            | 4/12 [00:12<00:24,  3.01s/it] 42%|█████████████████▉                         | 5/12 [00:15<00:19,  2.78s/it] 50%|█████████████████████▌                     | 6/12 [00:17<00:16,  2.83s/it] 58%|█████████████████████████                  | 7/12 [00:20<00:14,  2.84s/it] 67%|████████████████████████████▋              | 8/12 [00:23<00:11,  2.85s/it] 75%|████████████████████████████████▎          | 9/12 [00:26<00:08,  2.76s/it] 83%|███████████████████████████████████       | 10/12 [00:28<00:05,  2.72s/it] 92%|██████████████████████████████████████▌   | 11/12 [00:33<00:03,  3.40s/it]100%|██████████████████████████████████████████| 12/12 [00:37<00:00,  3.49s/it]100%|██████████████████████████████████████████| 12/12 [00:37<00:00,  3.13s/it]"
     ]
    }
   ],
   "source": [
    "cc.create_effects(api=\"openai\")\n"
   ],
   "id": "cell-9"
  },
  {
   "cell_type": "code",
   "execution_count": 129,
   "metadata": {},
   "outputs": [
    {
     "output_type": "stream",
     "name": "stdout",
     "text": [
      "Analyzing causation...\n",
      "Analyzing causation..."
     ]
    },
    {
     "output_type": "stream",
     "name": "stderr",
     "text": [
      "  0%|                                                   | 0/12 [00:00<?, ?it/s]  8%|███▌                                       | 1/12 [00:12<02:12, 12.07s/it] 17%|███████▏                                   | 2/12 [00:19<01:31,  9.12s/it] 25%|██████████▊                                | 3/12 [00:21<00:56,  6.25s/it] 33%|██████████████▎                            | 4/12 [00:29<00:54,  6.78s/it] 42%|█████████████████▉                         | 5/12 [00:41<00:59,  8.53s/it] 50%|█████████████████████▌                     | 6/12 [00:46<00:44,  7.37s/it] 58%|█████████████████████████                  | 7/12 [00:49<00:30,  6.01s/it] 67%|████████████████████████████▋              | 8/12 [01:01<00:31,  7.87s/it] 75%|████████████████████████████████▎          | 9/12 [01:02<00:17,  5.90s/it] 83%|███████████████████████████████████       | 10/12 [01:05<00:09,  4.79s/it] 92%|██████████████████████████████████████▌   | 11/12 [01:12<00:05,  5.68s/it]100%|██████████████████████████████████████████| 12/12 [01:18<00:00,  5.75s/it]100%|██████████████████████████████████████████| 12/12 [01:18<00:00,  6.57s/it]"
     ]
    }
   ],
   "source": [
    "cc.create_effects(api=\"gemini\")"
   ],
   "id": "cell-10"
  },
  {
   "cell_type": "code",
   "execution_count": 135,
   "metadata": {},
   "outputs": [],
   "source": [
    "df = create_causes_effects_dataframe(cc.causes, cc.effects, cc.sources)"
   ],
   "id": "cell-11"
  },
  {
   "cell_type": "code",
   "execution_count": 136,
   "metadata": {},
   "outputs": [
    {
     "output_type": "display_data",
     "metadata": {},
     "data": {
      "text/html": [
       "\n",
       "</div>"
      ]
     }
    }
   ],
   "source": [
    "display(df[df['Source'] == 'gemini'])"
   ],
   "id": "cell-12"
  },
  {
   "cell_type": "code",
   "execution_count": 137,
   "metadata": {},
   "outputs": [
    {
     "output_type": "display_data",
     "metadata": {},
     "data": {
      "text/html": [
       "\n",
       "</div>"
      ]
     }
    }
   ],
   "source": [
    "display(df[df['Source'] == 'openai'])"
   ],
   "id": "cell-13"
  }
 ],
 "nbformat": 4,
 "nbformat_minor": 5,
 "metadata": {}
}
